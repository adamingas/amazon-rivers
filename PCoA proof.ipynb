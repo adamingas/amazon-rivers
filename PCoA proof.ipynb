{
 "cells": [
  {
   "cell_type": "code",
   "execution_count": 130,
   "metadata": {
    "collapsed": true
   },
   "outputs": [],
   "source": [
    "import numpy as np\n",
    "from scipy.spatial.distance import cdist\n",
    "from statsmodels.tsa.api import ExponentialSmoothing\n",
    "import pandas as pd\n",
    "import matplotlib.pyplot as plt\n",
    "import math"
   ]
  },
  {
   "cell_type": "code",
   "execution_count": 91,
   "metadata": {},
   "outputs": [
    {
     "data": {
      "text/plain": [
       "(array([13.5,  0. ]), array([[ 0.70710678,  0.70710678],\n",
       "        [-0.70710678,  0.70710678]]))"
      ]
     },
     "execution_count": 91,
     "metadata": {},
     "output_type": "execute_result"
    }
   ],
   "source": [
    "X = np.array([[1,2,3],[4,5,6]])\n",
    "dist=cdist(X,X)\n",
    "d2 =np.square(dist)\n",
    "J =  np.eye(2) - np.ones(2)/2\n",
    "B = -1/2 *J@d2@J\n",
    "np.linalg.eig(B)"
   ]
  },
  {
   "cell_type": "code",
   "execution_count": 95,
   "metadata": {
    "collapsed": true
   },
   "outputs": [
    {
     "data": {
      "text/plain": [
       "(array([3.84587043e+10, 3.08319985e+10, 1.87450542e+10, 1.37626921e+10,\n",
       "        7.12829700e+09, 4.78921001e+09, 4.23387364e+09, 3.63533855e+09,\n",
       "        3.29430587e+09, 2.66952865e+09, 2.00443012e+09, 1.82305536e+09,\n",
       "        1.62147882e+09, 1.52244136e+09, 1.22887985e+09, 9.53095329e+08,\n",
       "        8.10111934e+08, 6.68227260e+08, 5.46412985e+08, 4.82846695e+08,\n",
       "        4.66237463e+08, 3.94823747e+08, 3.64481610e+08, 3.17506408e+08,\n",
       "        3.03085689e+08, 2.43188332e+08, 2.21188733e+08, 1.95689603e+08,\n",
       "        1.90943949e+08, 1.75822791e+08, 1.84130370e+08, 1.37035383e+08,\n",
       "        1.30888449e+08, 1.26787355e+08, 1.09392868e+08, 1.04166480e+08,\n",
       "        9.27094962e+07, 9.02558576e+07, 8.08048659e+07, 7.58058692e+07,\n",
       "        7.36274745e+07, 7.11432227e+07, 6.88088305e+07, 6.50217349e+07,\n",
       "        6.25216277e+07, 5.91093738e+07, 5.64012500e+07, 5.39713693e+07,\n",
       "        5.15354444e+07, 5.04285897e+07, 4.77898938e+07, 4.63759122e+07,\n",
       "        4.50444492e+07, 4.22456495e+07, 4.02608426e+07, 3.78435287e+07,\n",
       "        3.57366975e+07, 3.49160937e+07, 3.32995005e+07, 3.26950132e+07,\n",
       "        3.05133939e+07, 2.98836658e+07, 2.72144236e+07, 2.54699579e+07,\n",
       "        2.38437996e+07, 2.40773440e+07, 2.18414610e+07, 2.17047671e+07,\n",
       "        2.08562585e+07, 1.66749396e+07, 1.72395741e+07, 1.88159241e+07,\n",
       "        1.94339144e+07, 1.91963518e+07, 1.61148914e+07, 1.53661579e+07,\n",
       "        1.13721472e+07, 1.44617213e+07, 1.40018613e+07, 1.39115441e+07,\n",
       "        1.31459126e+07, 1.27140544e+07, 1.09194868e+07, 1.06153654e+07,\n",
       "        1.02708984e+07, 1.00121320e+07, 9.82173069e+06, 9.46072975e+06,\n",
       "        9.21329261e+06, 8.98054203e+06, 8.55579792e+06, 7.96819026e+06,\n",
       "        7.61104685e+06, 7.09248953e+06, 6.98197113e+06, 6.76047056e+06,\n",
       "        6.37536200e+06, 6.14693120e+06, 5.84145268e+06, 5.58697257e+06,\n",
       "        4.88782683e+06, 4.94250759e+06, 5.22750615e+06, 5.17223825e+06,\n",
       "        4.52102057e+06, 4.45225477e+06, 4.28937979e+06, 3.86142856e+06,\n",
       "        3.55903124e+06, 3.37826418e+06, 3.19442937e+06, 3.11501446e+06,\n",
       "        2.43151190e+06, 2.48863416e+06, 2.97483610e+06, 2.80969624e+06,\n",
       "        2.63729631e+06, 2.70978137e+06, 2.09673054e+06, 2.29075405e+06,\n",
       "        1.92064634e+06, 1.89087474e+06, 1.75669460e+06, 1.65076960e+06,\n",
       "        1.69165051e+06, 1.52490853e+06, 1.42899919e+06, 1.41163922e+06,\n",
       "        1.34801328e+06, 1.20278690e+06, 1.18034249e+06, 1.06996161e+06,\n",
       "        9.72340674e+05, 9.17502031e+05, 8.71815035e+05, 8.16089117e+05,\n",
       "        2.17384750e+04, 4.44491972e+04, 1.06021110e+05, 1.17390660e+05,\n",
       "        1.45203914e+05, 1.63593923e+05, 3.82264744e-02, 1.97270367e-06,\n",
       "        4.72368983e-04, 7.85604306e+05, 7.61149165e+05, 7.15911937e+05,\n",
       "        1.98770213e+05, 2.26620971e+05, 3.71565304e+05, 2.78265329e+05,\n",
       "        3.06249329e+05, 2.64748826e+05, 4.23743508e+05, 5.12769569e+05,\n",
       "        5.42376760e+05, 5.73040615e+05, 6.71767738e+05, 6.47003377e+05,\n",
       "        6.40057418e+05, 4.65267386e+05, 3.97271133e+05, 3.23753130e+05]),\n",
       " array([[ 0.31410244,  0.11188074, -0.08696533, ..., -0.00655448,\n",
       "         -0.01778468,  0.0057238 ],\n",
       "        [ 0.26747654,  0.0897663 , -0.09997175, ...,  0.03897471,\n",
       "          0.00877857,  0.01082354],\n",
       "        [ 0.31551381,  0.11743093, -0.09889208, ...,  0.05444996,\n",
       "         -0.00539625,  0.01708662],\n",
       "        ...,\n",
       "        [-0.03936694, -0.02000843, -0.03067577, ...,  0.09622198,\n",
       "         -0.07897103, -0.14997296],\n",
       "        [-0.02825665, -0.03421465, -0.02894702, ...,  0.01235776,\n",
       "          0.04492742, -0.1381471 ],\n",
       "        [-0.00843589, -0.02649747, -0.03765504, ...,  0.01723849,\n",
       "         -0.03762296, -0.02322885]]))"
      ]
     },
     "execution_count": 95,
     "metadata": {},
     "output_type": "execute_result"
    }
   ],
   "source": [
    "otudf = pd.read_csv(filepath_or_buffer=\"/home/spanashis/Documents/Stats/Project/amazon-rivers/otudf\",index_col=0)\n",
    "odist = cdist(otudf,otudf)\n",
    "d2 =np.square(odist)\n",
    "J =  np.eye(164) - np.ones(164)/164\n",
    "B = -1/2 *J@d2@J\n",
    "np.linalg.eig(B)"
   ]
  },
  {
   "cell_type": "code",
   "execution_count": 88,
   "metadata": {},
   "outputs": [
    {
     "data": {
      "text/plain": [
       "array([[ 6.75, -6.75],\n",
       "       [-6.75,  6.75]])"
      ]
     },
     "execution_count": 88,
     "metadata": {},
     "output_type": "execute_result"
    }
   ],
   "source": [
    "B"
   ]
  },
  {
   "cell_type": "code",
   "execution_count": 90,
   "metadata": {},
   "outputs": [
    {
     "data": {
      "text/plain": [
       "array([[ 6.75, -6.75],\n",
       "       [-6.75,  6.75]])"
      ]
     },
     "execution_count": 90,
     "metadata": {},
     "output_type": "execute_result"
    }
   ],
   "source": [
    "J@X@X.T@J"
   ]
  },
  {
   "cell_type": "code",
   "execution_count": 100,
   "metadata": {},
   "outputs": [
    {
     "name": "stdout",
     "output_type": "stream",
     "text": [
      "[[4.5 4.5 4.5]\n",
      " [4.5 4.5 4.5]\n",
      " [4.5 4.5 4.5]]\n"
     ]
    },
    {
     "data": {
      "text/plain": [
       "array([[ 6.75, -6.75],\n",
       "       [-6.75,  6.75]])"
      ]
     },
     "execution_count": 100,
     "metadata": {},
     "output_type": "execute_result"
    }
   ],
   "source": [
    "# PCA\n",
    "Xcent = X -X.mean(0)\n",
    "print(np.cov(X.T))\n",
    "Xcent@Xcent.T"
   ]
  },
  {
   "cell_type": "code",
   "execution_count": 115,
   "metadata": {
    "collapsed": true
   },
   "outputs": [],
   "source": [
    "def PCA(M,faces):\n",
    "    avface =(np.mean(faces,axis=0))\n",
    "    \n",
    "    cdm = faces - avface\n",
    "    \n",
    "    covma = cdm@cdm.T\n",
    "\n",
    "    eigval ,eigvec= np.linalg.eig(covma)\n",
    "    #choosing M eigenectors and transforming them back to the pixelspace creating the weights\n",
    "    W =np.concatenate([np.dot(cdm.T,eigvec[:,[i]])/np.linalg.norm(np.dot(cdm.T,eigvec[:,[i]])) for i in range(M)],axis = 1)\n",
    "    Y = cdm@W\n",
    "    #return(np.matmul(W,Y.T))\n",
    "    return(Y)"
   ]
  },
  {
   "cell_type": "code",
   "execution_count": 127,
   "metadata": {},
   "outputs": [
    {
     "data": {
      "text/plain": [
       "<matplotlib.axes._subplots.AxesSubplot at 0x7f8899287748>"
      ]
     },
     "execution_count": 127,
     "metadata": {},
     "output_type": "execute_result"
    },
    {
     "data": {
      "image/png": "[encoded data removed]",
      "text/plain": [
       "<Figure size 432x288 with 1 Axes>"
      ]
     },
     "metadata": {
      "needs_background": "light"
     },
     "output_type": "display_data"
    }
   ],
   "source": [
    "# PCA\n",
    "# Xcent = otudf -otudf.mean(0)\n",
    "# cov = Xcent.T@Xcent/164\n",
    "# np.linalg.eig(cov)\n",
    "pcao = PCA(2,otudf)\n",
    "pcao.plot.scatter(0,1)"
   ]
  },
  {
   "cell_type": "code",
   "execution_count": 59,
   "metadata": {},
   "outputs": [
    {
     "data": {
      "text/plain": [
       "array([[-5., -5.],\n",
       "       [ 5.,  5.]])"
      ]
     },
     "execution_count": 59,
     "metadata": {},
     "output_type": "execute_result"
    }
   ],
   "source": [
    "def PCoA(M,faces):\n",
    "    odist = cdist(otudf,otudf)\n",
    "    d2 =np.square(odist)\n",
    "    J =  np.eye(164) - np.ones(164)/164\n",
    "    B = -1/2 *J@d2@J\n",
    "    \n",
    "    \n",
    "\n",
    "    eigval ,eigvec= np.linalg.eig(B)\n",
    "    #choosing M eigenectors and transforming them back to the pixelspace creating the weights\n",
    "    W =np.concatenate([np.dot(cdm.T,eigvec[:,[i]])/np.linalg.norm(np.dot(cdm.T,eigvec[:,[i]])) for i in range(M)],axis = 1)\n",
    "    Y = cdm@W\n",
    "    #return(np.matmul(W,Y.T))\n",
    "    return(Y)"
   ]
  }
 ],
 "metadata": {
  "kernelspec": {
   "display_name": "Python [conda env:py36]",
   "language": "python",
   "name": "conda-env-py36-py"
  },
  "language_info": {
   "codemirror_mode": {
    "name": "ipython",
    "version": 3
   },
   "file_extension": ".py",
   "mimetype": "text/x-python",
   "name": "python",
   "nbconvert_exporter": "python",
   "pygments_lexer": "ipython3",
   "version": "3.6.8"
  }
 },
 "nbformat": 4,
 "nbformat_minor": 2
}
