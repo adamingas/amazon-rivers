{
 "cells": [
  {
   "cell_type": "code",
   "execution_count": 1,
   "metadata": {},
   "outputs": [
    {
     "ename": "NameError",
     "evalue": "name 'methods' is not defined",
     "output_type": "error",
     "traceback": [
      "\u001b[0;31m---------------------------------------------------------------------------\u001b[0m",
      "\u001b[0;31mNameError\u001b[0m                                 Traceback (most recent call last)",
      "\u001b[0;32m<ipython-input-1-60f5f48d421d>\u001b[0m in \u001b[0;36m<module>\u001b[0;34m()\u001b[0m\n\u001b[1;32m     25\u001b[0m \u001b[0;34m\u001b[0m\u001b[0m\n\u001b[1;32m     26\u001b[0m \u001b[0;32mimport\u001b[0m \u001b[0mmethods\u001b[0m \u001b[0;32mas\u001b[0m \u001b[0mmth\u001b[0m\u001b[0;34m\u001b[0m\u001b[0;34m\u001b[0m\u001b[0m\n\u001b[0;32m---> 27\u001b[0;31m \u001b[0mmth\u001b[0m \u001b[0;34m=\u001b[0m\u001b[0mimportlib\u001b[0m\u001b[0;34m.\u001b[0m\u001b[0mreload\u001b[0m\u001b[0;34m(\u001b[0m\u001b[0mmethods\u001b[0m\u001b[0;34m)\u001b[0m\u001b[0;34m\u001b[0m\u001b[0;34m\u001b[0m\u001b[0m\n\u001b[0m\u001b[1;32m     28\u001b[0m \u001b[0;31m#from methods import *\u001b[0m\u001b[0;34m\u001b[0m\u001b[0;34m\u001b[0m\u001b[0;34m\u001b[0m\u001b[0m\n",
      "\u001b[0;31mNameError\u001b[0m: name 'methods' is not defined"
     ]
    }
   ],
   "source": [
    "import numpy as np\n",
    "import scipy.stats as st\n",
    "import pandas as pd\n",
    "from sklearn.linear_model import LogisticRegression,LogisticRegressionCV\n",
    "from sklearn.model_selection import train_test_split\n",
    "import pymc3 as pm\n",
    "import theano.tensor as tt\n",
    "from theano import shared\n",
    "from sklearn.model_selection import cross_val_score, GridSearchCV, StratifiedKFold,GroupKFold,RandomizedSearchCV\n",
    "from sklearn.ensemble import RandomForestClassifier\n",
    "from sklearn.preprocessing import MinMaxScaler\n",
    "import matplotlib.pyplot as plt\n",
    "import seaborn as sns\n",
    "from sklearn.neighbors import KNeighborsClassifier\n",
    "from bartpy.sklearnmodel import SklearnModel\n",
    "import sklearn.metrics as metrics\n",
    "from IPython.display import display\n",
    "import copy\n",
    "import xgboost as xgb\n",
    "from IPython.display import display,HTML,Markdown \n",
    "import importlib\n",
    "# Importign methods.py file where all cross validation and model methods are stored\n",
    "import SimpSOM as sps\n",
    "\n",
    "\n",
    "import methods as mth\n",
    "mth =importlib.reload(methods) \n",
    "#from methods import *"
   ]
  },
  {
   "cell_type": "code",
   "execution_count": 74,
   "metadata": {},
   "outputs": [
    {
     "data": {
      "text/plain": [
       "<module 'methods' from '/home/spanashis/Documents/Stats/Project/amazon-rivers/methods.py'>"
      ]
     },
     "execution_count": 74,
     "metadata": {},
     "output_type": "execute_result"
    }
   ],
   "source": [
    "importlib.reload(methods)"
   ]
  },
  {
   "cell_type": "markdown",
   "metadata": {},
   "source": [
    "# Data manipulation\n",
    "Importing data, splitting it to train and test (because of the imbalance between white and black water it would be better if we set a minimum of black points in the test and train)"
   ]
  },
  {
   "cell_type": "code",
   "execution_count": 4,
   "metadata": {},
   "outputs": [],
   "source": [
    "otudf =pd.read_csv(filepath_or_buffer=\"/home/spanashis/Documents/Stats/Project/amazon-rivers/otudf\",index_col=0)\n",
    "wwfdf = pd.read_csv(filepath_or_buffer=\"/home/spanashis/Documents/Stats/Project/amazon-rivers/wwfdf\",encoding=\"ISO-8859-1\",index_col = \"ID\")\n",
    "wwfdfmin = pd.read_csv(filepath_or_buffer=\"/home/spanashis/Documents/Stats/Project/amazon-rivers/wwfdfmin\",encoding=\"ISO-8859-1\",index_col = \"ID\")\n",
    "nmds20  = pd.read_csv(filepath_or_buffer=\"/home/spanashis/Documents/Stats/Project/amazon-rivers/nmds20dim\",index_col=0)\n",
    "\n",
    "\n",
    "\n",
    "# Black water sites. There are 21 black water sites and 143 white water\n",
    "blackindex = wwfdf[wwfdf[\"Water\"] == \"Black\"].index\n",
    "otudfCss =pd.read_csv(filepath_or_buffer=\"/home/spanashis/Documents/Stats/Project/amazon-rivers/otudfCss\",index_col=0)\n",
    "otudfMinCss =pd.read_csv(filepath_or_buffer=\"/home/spanashis/Documents/Stats/Project/amazon-rivers/otudfMinCss\",index_col=0)\n",
    "otudfLow = pd.read_csv(filepath_or_buffer=\"/home/spanashis/Documents/Stats/Project/amazon-rivers/otudfLow\",index_col=0)\n",
    "otudfCssLog = pd.read_csv(filepath_or_buffer=\"/home/spanashis/Documents/Stats/Project/amazon-rivers/otudfCssLog\",index_col=0)\n",
    "\n",
    "#Fish datasets\n",
    "fishdf =pd.read_csv(filepath_or_buffer=\"/home/spanashis/Documents/Stats/Project/amazon-rivers/fishdf\",index_col=0)\n",
    "fishdfCss =pd.read_csv(filepath_or_buffer=\"/home/spanashis/Documents/Stats/Project/amazon-rivers/fishdfcss\",index_col=0)\n",
    "fishdfCssLog =pd.read_csv(filepath_or_buffer=\"/home/spanashis/Documents/Stats/Project/amazon-rivers/fishdfcsslog\",index_col=0)\n",
    "wwfdffish  =pd.read_csv(filepath_or_buffer=\"/home/spanashis/Documents/Stats/Project/amazon-rivers/wwfdffish\",encoding=\"ISO-8859-1\",index_col = \"ID\")\n",
    "\n",
    "#Ordination imports\n",
    "nmds20Css  = pd.read_csv(filepath_or_buffer=\"/home/spanashis/Documents/Stats/Project/amazon-rivers/nmds20Css\",index_col=0)\n",
    "pcoaCss = pd.read_csv(filepath_or_buffer=\"/home/spanashis/Documents/Stats/Project/amazon-rivers/pcoaCss\",index_col=0)\n",
    "pcoaOtu = pd.read_csv(filepath_or_buffer=\"/home/spanashis/Documents/Stats/Project/amazon-rivers/pcoaOtu\",index_col=0)\n",
    "\n",
    "#rivetdf = pd.read_csv()\n",
    "\n",
    "wwfdf.Water =(wwfdf.Water ==\"White\")*1\n",
    "wwfdfmin.Water =(wwfdfmin.Water ==\"White\")*1\n",
    "#Importing taxonomy\n",
    "taxadf = pd.read_csv(filepath_or_buffer=\"/home/spanashis/Documents/Stats/Project/amazon-rivers/taxadf\",index_col=0)\n",
    "# Splitting training and test data\n",
    "np.random.seed(11235)\n",
    "X_train,X_test,y_train,y_test = train_test_split(otudf,wwfdf.Water,test_size = 0.2)\n",
    "np.random.seed(11235)\n",
    "Xn_train,Xn_test,y_train,y_test = train_test_split(nmds20,wwfdf.Water,test_size = 0.2)"
   ]
  },
  {
   "cell_type": "code",
   "execution_count": null,
   "metadata": {
    "collapsed": true
   },
   "outputs": [],
   "source": [
    "\n",
    "# Creating a new response ariable with parts of the river\n",
    "# the labels are\n",
    "# 0: Black Water samples\n",
    "# 1: Upper MAranon\n",
    "# 2: Mid, Lower Maranon and Ucayially\n",
    "# 3: Tapiche, Napo, Huallaga\n",
    "wwfdf[\"river_label\"] = np.array([1]*(wwfdf.shape[0]),dtype=int)\n",
    "# wwfdf.loc[wwfdf.Area_group_name  ==\"Maranon_upper\",[\"river_label\"]] =1\n",
    "wwfdf.loc[wwfdf[\"Area_group_name\"].isin([\"Maranon_lower\",\"Maranon_mid\",\"Ucayali\"]),[\"river_label\"]] =2\n",
    "wwfdf.loc[wwfdf[\"Area_group_name\"].isin([\"Tapiche\",\"Napo\",\"Huallaga\"]),[\"river_label\"]] =3\n",
    "wwfdf.loc[wwfdf[\"Water\"].isin([0]),[\"river_label\"]] =0"
   ]
  },
  {
   "cell_type": "markdown",
   "metadata": {},
   "source": [
    "# Using Logistic Regression with Lasso\n",
    "I am going to be trying both a frequentist and the bayesian approach. For the frequentist I will be using the sklearn package of python and for Bayesian I will use pymc3 to get the posterior distribution of the weights."
   ]
  },
  {
   "cell_type": "markdown",
   "metadata": {
    "heading_collapsed": true
   },
   "source": [
    "## Sklearn Frequentist Logistic regression"
   ]
  },
  {
   "cell_type": "markdown",
   "metadata": {
    "hidden": true
   },
   "source": [
    "With saga solver and l1 penalty we get 94% accuracy on the test set\n",
    "with liblinear it fluctuates between 85% and 90%, but it doesn't always converge"
   ]
  },
  {
   "cell_type": "code",
   "execution_count": null,
   "metadata": {
    "collapsed": true,
    "hidden": true
   },
   "outputs": [],
   "source": [
    "def log_cv(*args,X, y,trainfolds):\n",
    "    \"\"\"\n",
    "    Function performs Grid search Cross validation with trainfolds as folds generator. \n",
    "    Inputs:\n",
    "    X: Train set\n",
    "    y: Test set \n",
    "    trainfolds: CV folds generator\n",
    "    Returns:\n",
    "    best_params: Best parameters of the CV procedure\n",
    "    grid_result: The output of the GridSearchCV method when fitted to\n",
    "                 X and y\n",
    "    \"\"\"\n",
    "    try:\n",
    "        penalty = args[0][\"penalty\"]\n",
    "    except KeyError:\n",
    "        penalty = \"l1\"\n",
    "        print(\"You haven't specified a penalty, we will be using l1\")\n",
    "    if trainfolds ==None:\n",
    "        foldscv = StratifiedKFold(n_splits=5,random_state=11235)\n",
    "        trainfolds =foldscv.split(X,wwfdf.Area_group.loc[X.index])\n",
    "    gsc = GridSearchCV(\n",
    "        estimator=LogisticRegression(penalty=penalty,solver='liblinear',max_iter=1000,random_state=11235,fit_intercept=True),\n",
    "        param_grid={\n",
    "            'C': np.arange(0.001,20,1)\n",
    "            #,'fit_intercept': (True)\n",
    "        },\n",
    "        cv=trainfolds, scoring = [\"accuracy\"], verbose=1, n_jobs=-1,refit = \"accuracy\",\n",
    "        return_train_score = False\n",
    ")\n",
    "    \n",
    "    grid_result = gsc.fit(X, y)\n",
    "    best_params = grid_result.best_params_\n",
    "    coefficients =grid_result.best_estimator_.coef_\n",
    "    #rfr = RandomForestRegressor(max_depth=best_params[\"max_depth\"], n_estimators=best_params[\"n_estimators\"],random_state=False, verbose=False)\n",
    "    # Perform K-Fold CV\n",
    "    #scores = cross_val_score(rfr, X, y, cv=10, scoring='neg_mean_absolute_error')\n",
    "\n",
    "    return best_params,grid_result,coefficients"
   ]
  },
  {
   "cell_type": "code",
   "execution_count": null,
   "metadata": {
    "collapsed": true,
    "hidden": true
   },
   "outputs": [],
   "source": [
    "logcv_best_params,logcv_grid = log_cv(X_train,y_train,None)"
   ]
  },
  {
   "cell_type": "code",
   "execution_count": null,
   "metadata": {
    "collapsed": true,
    "hidden": true
   },
   "outputs": [],
   "source": [
    "crossfreq =cross_val_score(freq,otudf,y=wwfdf.Water,cv=10,n_jobs = -1)"
   ]
  },
  {
   "cell_type": "code",
   "execution_count": null,
   "metadata": {
    "collapsed": true,
    "hidden": true
   },
   "outputs": [],
   "source": [
    "# Similarity logistic run\n",
    "similarity_log_df =runningsplittest(StratifiedKFold,log_cv,None,None,None)\n"
   ]
  },
  {
   "cell_type": "code",
   "execution_count": null,
   "metadata": {
    "collapsed": true,
    "hidden": true
   },
   "outputs": [],
   "source": [
    "# Similarity for PCoAs and PCoA css\n",
    "\n",
    "# index = [\"OTU CSS LOG\",\"OTU LOW COR\"]\n",
    "# xsetlist = [otudfCssLog,otudfLow]\n",
    "# ysetlist = [wwfdf,wwfdf]\n",
    "#index = [\"PCoA 99%\",\"PCoA 90%\",\"PCoA CSS 99%\",\"PCoA CSS 90%\"]\n",
    "#xsetlist = [pcoaOtu.iloc[:,0:55],pcoaOtu.iloc[:,0:34],pcoaCss.iloc[:,0:56],pcoaCss.iloc[:,0:35]]\n",
    "#ysetlist =[wwfdf,wwfdf,wwfdf,wwfdf]\n",
    "xsetlist =[nmds20]\n",
    "index=[\"nmds\"]\n",
    "ysetlist =[wwfdf]\n",
    "dissim_log_df_nmds = runningsplittest(GroupKFold,log_cv,index,xsetlist,ysetlist)"
   ]
  },
  {
   "cell_type": "code",
   "execution_count": null,
   "metadata": {
    "collapsed": true,
    "hidden": true
   },
   "outputs": [],
   "source": [
    "# disSimilarity for PCoAs\n",
    "# index = [\"OTU CSS LOG\",\"OTU LOW COR\"]\n",
    "# xsetlist = [otudfCssLog,otudfLow]\n",
    "# ysetlist = [wwfdf,wwfdf]\n",
    "index = [\"PCoA 99%\",\"PCoA 90%\",\"PCoA CSS 99%\",\"PCoA CSS 90%\"]\n",
    "xsetlist = [pcoaOtu.iloc[:,0:55],pcoaOtu.iloc[:,0:34],pcoaCss.iloc[:,0:56],pcoaCss.iloc[:,0:35]]\n",
    "ysetlist =[wwfdf,wwfdf,wwfdf,wwfdf]\n",
    "dissim_log_df_pcoas = runningsplittest(GroupKFold,log_cv,index,xsetlist,ysetlist)"
   ]
  },
  {
   "cell_type": "code",
   "execution_count": null,
   "metadata": {
    "collapsed": true,
    "hidden": true
   },
   "outputs": [],
   "source": [
    "# Dissimilarity logistic run\n",
    "#dissndex = [\"OTU\",\"OTU CSS\",\"OTU MIN CSS\",\"PCoA\",\"PCoA CSS\"]\n",
    "#xsetlist = [otudf,otudfCss,otudfMinCss,pcoaOtu,pcoaCss]\n",
    "dissndex = [\"PCoA\",\"PCoA CSS\"]\n",
    "xsetlist = [pcoaOtu,pcoaCss]\n",
    "ysetlist = [wwfdf,wwfdf]\n",
    "dissimilarity_log_df =runningsplittest(GroupKFold,log_cv,dissndex,xsetlist,ysetlist)\n"
   ]
  },
  {
   "cell_type": "code",
   "execution_count": null,
   "metadata": {
    "collapsed": true,
    "hidden": true,
    "scrolled": true
   },
   "outputs": [],
   "source": [
    "# Fish otus logisitc regression\n",
    "index = [\"Fish\",\"Fish CSS\",\"Fish CSS LOG\"]\n",
    "xsetlist = [fishdf,fishdfCss,fishdfCssLog]\n",
    "ysetlist = [wwfdffish,wwfdffish,wwfdffish]\n",
    "sim_logl1_fish = runningsplittest(StratifiedKFold,log_cv,index,xsetlist,ysetlist,penalty=\"l1\")"
   ]
  },
  {
   "cell_type": "code",
   "execution_count": null,
   "metadata": {
    "collapsed": true,
    "hidden": true
   },
   "outputs": [],
   "source": [
    "# Fish otus logisitc regression\n",
    "index = [\"Fish\",\"Fish CSS\",\"Fish CSS LOG\"]\n",
    "xsetlist = [fishdf,fishdfCss,fishdfCssLog]\n",
    "ysetlist = [wwfdffish,wwfdffish,wwfdffish]\n",
    "dis_logl1_fish = runningsplittest(GroupKFold,log_cv,index,xsetlist,ysetlist,penalty=\"l1\")"
   ]
  },
  {
   "cell_type": "code",
   "execution_count": null,
   "metadata": {
    "collapsed": true,
    "hidden": true,
    "scrolled": true
   },
   "outputs": [],
   "source": [
    "# Fish otus logisitc regression\n",
    "index = [\"Fish\",\"Fish CSS\",\"Fish CSS LOG\"]\n",
    "xsetlist = [fishdf,fishdfCss,fishdfCssLog]\n",
    "ysetlist = [wwfdffish,wwfdffish,wwfdffish]\n",
    "dis_logl2_fish = runningsplittest(GroupKFold,log_cv,index,xsetlist,ysetlist,penalty=\"l2\")"
   ]
  },
  {
   "cell_type": "code",
   "execution_count": null,
   "metadata": {
    "collapsed": true,
    "hidden": true
   },
   "outputs": [],
   "source": [
    "# Fish otus logisitc regression\n",
    "index = [\"Fish\",\"Fish CSS\",\"Fish CSS LOG\"]\n",
    "xsetlist = [fishdf,fishdfCss,fishdfCssLog]\n",
    "ysetlist = [wwfdffish,wwfdffish,wwfdffish]\n",
    "sim_logl2_fish = runningsplittest(StratifiedKFold,log_cv,index,xsetlist,ysetlist,penalty=\"l2\")"
   ]
  },
  {
   "cell_type": "code",
   "execution_count": null,
   "metadata": {
    "collapsed": true,
    "hidden": true
   },
   "outputs": [],
   "source": [
    "sim_log_df = pd.concat([similarity_log_df,sim_log_df_csslog_low])\n",
    "dissim_log_df = pd.concat([dissimilarity_log_df,dissim_log_df_csslog_low])"
   ]
  },
  {
   "cell_type": "markdown",
   "metadata": {
    "heading_collapsed": true,
    "hidden": true
   },
   "source": [
    "### NMDS 20 dimensions as features"
   ]
  },
  {
   "cell_type": "code",
   "execution_count": null,
   "metadata": {
    "collapsed": true,
    "hidden": true
   },
   "outputs": [],
   "source": [
    "freq = LogisticRegression(penalty=\"l1\",class_weight=\"balanced\",multi_class=\"ovr\",solver= \"liblinear\",max_iter=10000)\n",
    "freq.fit(Xn_train,y_train)\n",
    "freq.score(Xn_test,y_test)"
   ]
  },
  {
   "cell_type": "code",
   "execution_count": null,
   "metadata": {
    "collapsed": true,
    "hidden": true
   },
   "outputs": [],
   "source": [
    "freq.coef_\n",
    "freq.predict_proba(Xn_test)"
   ]
  },
  {
   "cell_type": "markdown",
   "metadata": {
    "hidden": true
   },
   "source": [
    "Both liblinear and saga produced 90% accuracy on the test set when using nmds as features"
   ]
  },
  {
   "cell_type": "code",
   "execution_count": null,
   "metadata": {
    "collapsed": true,
    "hidden": true
   },
   "outputs": [],
   "source": [
    "print(np.sum(y_test == \"Black\")/y_test.count())\n",
    "np.sum(y_train == \"Black\")/(y_train.count())"
   ]
  },
  {
   "cell_type": "code",
   "execution_count": null,
   "metadata": {
    "collapsed": true,
    "hidden": true
   },
   "outputs": [],
   "source": [
    " pd.DataFrame(data= freq.coef_.T).describe()\n",
    "np.sum(freq.coef_ == 0)/np.size(freq.coef_)\n",
    "# 32% of coefficients go to zero. The biggest weight has a magnitude of the order of 10e-4"
   ]
  },
  {
   "cell_type": "markdown",
   "metadata": {},
   "source": [
    "# Hypothesis testing of different splits\n",
    "The aim is to test how well logistic regression and other classifiers perform under different train test splits \n"
   ]
  },
  {
   "cell_type": "code",
   "execution_count": 106,
   "metadata": {
    "code_folding": [],
    "collapsed": true
   },
   "outputs": [],
   "source": [
    "def splithypothesis(*args,cvgenerator,xset,model_cv,number_of_splits,number_of_folds,yset=wwfdf):\n",
    "    \"\"\"\n",
    "    Tests the splits hypothesis on the LogisticRegression classifier.\n",
    "    \n",
    "    Input:\n",
    "    cvgenerator: A cross-validator that can split data into folds\n",
    "    xset: The features that will be used on the classifier\n",
    "    model_cv: A function that will perform the cross-validation and select the hyperparameters\n",
    "              of the classifier based on its performance on the cvgenerators folds\n",
    "              examples are log_cv and rfr_cv\n",
    "    number_of_splits: Number of ways to split the data into train-test\n",
    "    number_of_folds: Number of ways to split the train set into validation sets\n",
    "    yset: Labels of data, must match length of xset\n",
    "    Output:\n",
    "    scoring_results: A list of the accuracy of the classifier on each test fold\n",
    "    best_parameters: A list of parameters used by the classifier to calculate the score for each test fold\n",
    "    coefficients: A list of arrays with the iportance of the features\n",
    "    \"\"\"\n",
    "    np.random.seed(11235)\n",
    "    traintestsplit  = cvgenerator(n_splits=number_of_splits)\n",
    "    Ksets = traintestsplit.split(xset,y =yset.Area_group,groups=yset.Area_group)\n",
    "    # scoring_results is a list with the scores of the estimator on each test set in\n",
    "    # the traintestsplit folds.\n",
    "    best_parameters =[]\n",
    "    scoring_results = []\n",
    "    coefficients =[]\n",
    "    confusion = np.zeros((2,2))\n",
    "    for i,index in enumerate( Ksets):\n",
    "        train_index,test_index = index\n",
    "        xtrain,xtest = xset.iloc[train_index],xset.iloc[test_index]\n",
    "        ytrain,ytest = yset.Water.iloc[train_index],yset.Water.iloc[test_index]\n",
    "        set_for_kfold = yset.Area_group.loc[xtrain.index]\n",
    "        print(i)\n",
    "        np.random.seed(11235)\n",
    "        CVfolds = cvgenerator(n_splits = number_of_folds)\n",
    "        Kfolds = CVfolds.split(xtrain,y = set_for_kfold,groups=set_for_kfold)\n",
    "#         for ind1,ind2 in Kfolds:\n",
    "#             print(set_for_kfold.iloc[ind2])\n",
    "        # Perform grid CV using Kfolds as folds.\n",
    "        parameters,CVgrid,coef =model_cv(args[0],X=xtrain,y = ytrain,trainfolds=Kfolds)\n",
    "        # parameters are the best parameters of the model and CVgrid is the output\n",
    "        # of the GridSearchCV method\n",
    "        print(ytest.shape)\n",
    "        \n",
    "        conf_matrix = metrics.confusion_matrix(ytest, CVgrid.predict(xtest))\n",
    "        \n",
    "        best_parameters.append(parameters)\n",
    "        scoring_results.append( metrics.accuracy_score(ytest, CVgrid.predict(xtest)))\n",
    "        coefficients.append(coef)\n",
    "        if conf_matrix.shape == (1,1):\n",
    "            conf_matrix = np.array([[0,0],[0,conf_matrix.item()]])\n",
    "        print(conf_matrix)\n",
    "        confusion += conf_matrix\n",
    "        \n",
    "    return(scoring_results,best_parameters,coefficients,confusion)"
   ]
  },
  {
   "cell_type": "code",
   "execution_count": null,
   "metadata": {
    "code_folding": [
     0
    ],
    "collapsed": true
   },
   "outputs": [],
   "source": [
    "def splithypothesiscoin(cvgenerator,xset,model_cv,number_of_splits,number_of_folds,yset=wwfdf):\n",
    "    \"\"\"\n",
    "    Tests the splits hypothesis on the LogisticRegression classifier.\n",
    "    \n",
    "    Input:\n",
    "    cvgenerator: A cross-validator that can split data into folds\n",
    "    xset: The features that will be used on the classifier\n",
    "    model_cv: A function that will perform the cross-validation and select the hyperparameters\n",
    "              of the classifier based on its performance on the cvgenerators folds\n",
    "              examples are log_cv and rfr_cv\n",
    "    number_of_splits: Number of ways to split the data into train-test\n",
    "    number_of_folds: Number of ways to split the train set into validation sets\n",
    "    yset: Labels of data, must match length of xset\n",
    "    Output:\n",
    "    scoring_results: A list of the accuracy of the classifier on each test fold\n",
    "    best_parameters: A list of parameters used by the classifier to calculate the score for each test fold\n",
    "    coefficients: A list of arrays with the iportance of the features\n",
    "    \"\"\"\n",
    "    np.random.seed(11235)\n",
    "    traintestsplit  = cvgenerator(n_splits=number_of_splits)\n",
    "    Ksets = traintestsplit.split(xset,y =yset.Water,groups=yset.Water)\n",
    "    # scoring_results is a list with the scores of the estimator on each test set in\n",
    "    # the traintestsplit folds.\n",
    "    best_parameters =[]\n",
    "    scoring_results = []\n",
    "    coefficients =[]\n",
    "    confusion = np.zeros((2,2))\n",
    "    for i,index in enumerate( Ksets):\n",
    "        train_index,test_index = index\n",
    "        xtrain,xtest = xset.iloc[train_index],xset.iloc[test_index]\n",
    "        ytrain,ytest = yset.Water.iloc[train_index],yset.Water.iloc[test_index]\n",
    "        set_for_kfold = yset.Area_group.loc[xtrain.index]\n",
    "        print(i)\n",
    "        p =ytrain.mean()\n",
    "        conf_matrix =np.array([[(1-p)*(ytest==0).sum(),(p)*(ytest==0).sum()],[(1-p)*(ytest==1).sum(),(p)*(ytest==1).sum()]])\n",
    "        \n",
    "        scoring_results.append( (conf_matrix[0,0]+conf_matrix[1,1])/(conf_matrix.sum()))\n",
    "        if conf_matrix.shape == (1,1):\n",
    "            conf_matrix = np.array([[0,0],[0,conf_matrix.item()]])\n",
    "        print(conf_matrix)\n",
    "        confusion += conf_matrix\n",
    "        \n",
    "    return(scoring_results,best_parameters,coefficients,confusion)"
   ]
  },
  {
   "cell_type": "code",
   "execution_count": 107,
   "metadata": {
    "code_folding": [],
    "collapsed": true
   },
   "outputs": [],
   "source": [
    "def runningsplittest(foldgenerator,model_cv,index,xsetlist,ysetlist,**kwargs):\n",
    "    \"\"\"\n",
    "    Input\n",
    "    foldgenerator: Stratified or Group KFold\n",
    "    model_cv: The model CV to use, log_cv or rfr_cv\n",
    "    \n",
    "    \"\"\"\n",
    "    dictr ={\"Scores\":[],\"Parameters\":[],\"Coefficients\":[],\"Confusion\":[]}\n",
    "    if index ==None:\n",
    "        index = [\"OTU\",\"OTU CSS\",\"OTU MIN CSS\",\"PCoA\",\"PCoA CSS\"]\n",
    "        xsetlist = [otudf,otudfCss,otudfMinCss,pcoaOtu,pcoaCss]\n",
    "        ysetlist =[wwfdf,wwfdf,wwfdfmin,wwfdf,wwfdf]\n",
    "    for i,j in enumerate(index):\n",
    "        print(i)\n",
    "        # Running the hypothesis for all cases in the index\n",
    "        scoring,best_parameters,coefficents,confusion =splithypothesis(kwargs,cvgenerator=foldgenerator,xset=xsetlist[i],model_cv=model_cv,\n",
    "                                number_of_splits=7,number_of_folds=6,yset=ysetlist[i])\n",
    "\n",
    "        dictr[\"Scores\"]+=[scoring]\n",
    "        dictr[\"Parameters\"] += [best_parameters]\n",
    "        dictr[\"Coefficients\"] += [coefficents]\n",
    "        dictr[\"Confusion\"] += [confusion]\n",
    "    dataf =pd.DataFrame(data = dictr,index=index)\n",
    "    return(dataf)"
   ]
  },
  {
   "cell_type": "code",
   "execution_count": null,
   "metadata": {
    "collapsed": true
   },
   "outputs": [],
   "source": [
    "index = [\"Normal\",\"min\"]\n",
    "ysetlist = [wwfdf,wwfdfmin]\n",
    "xsetlist = [pcoaCss,otudfMinCss]\n",
    "#dis_coin=runningsplittest(GroupKFold,None,index,xsetlist,ysetlist)\n",
    "#sim_coin=runningsplittest(StratifiedKFold,None,index,xsetlist,ysetlist)\n",
    "rand_coin=runningsplittest(StratifiedKFold,None,index,xsetlist,ysetlist)"
   ]
  },
  {
   "cell_type": "markdown",
   "metadata": {
    "heading_collapsed": true
   },
   "source": [
    "## Running the Hypothesis"
   ]
  },
  {
   "cell_type": "code",
   "execution_count": null,
   "metadata": {
    "collapsed": true,
    "hidden": true
   },
   "outputs": [],
   "source": [
    "dissimilarityscore_otu_lr =[0.65625,\n",
    " 1.0,\n",
    " 0.9285714285714286,\n",
    " 0.5833333333333334,\n",
    " 0.9,\n",
    " 0.75,\n",
    " 0.8333333333333334]\n",
    "hypothesisresults.write(str(similarityscore_otu_lr))"
   ]
  },
  {
   "cell_type": "code",
   "execution_count": null,
   "metadata": {
    "collapsed": true,
    "hidden": true
   },
   "outputs": [],
   "source": [
    "similarityscore_otu_lr = splithypothesis(cvgenerator=StratifiedKFold,xset=otudf,number_of_splits=7,number_of_folds=6)\n",
    "hypothesisresults.write(str(similarityscore_otu_lr))"
   ]
  },
  {
   "cell_type": "code",
   "execution_count": null,
   "metadata": {
    "collapsed": true,
    "hidden": true
   },
   "outputs": [],
   "source": [
    "similarityscore_nmds_lr = splithypothesis(cvgenerator=StratifiedKFold,xset=nmds20,number_of_splits=7,number_of_folds=6)"
   ]
  },
  {
   "cell_type": "code",
   "execution_count": null,
   "metadata": {
    "collapsed": true,
    "hidden": true
   },
   "outputs": [],
   "source": [
    "similarityscore_otuCss_lr = splithypothesis(cvgenerator=StratifiedKFold,xset=otudfCss,number_of_splits=7,number_of_folds=6)\n",
    "hypothesisresults.write(str(similarityscore_otuCss_lr))"
   ]
  },
  {
   "cell_type": "code",
   "execution_count": null,
   "metadata": {
    "collapsed": true,
    "hidden": true
   },
   "outputs": [],
   "source": [
    "similarityscore_pcoaCss_lr,best_par_pcoaCss_lr = splithypothesis(cvgenerator=StratifiedKFold,xset=pcoaCss.iloc[:,0:58],model_cv=log_cv,number_of_splits=7,number_of_folds=6)\n",
    "hypothesisresults.write(\"similarityscore_pcoaCss_lr\")\n",
    "hypothesisresults.write(str(similarityscore_pcoaCss_lr))"
   ]
  },
  {
   "cell_type": "code",
   "execution_count": null,
   "metadata": {
    "collapsed": true,
    "hidden": true
   },
   "outputs": [],
   "source": [
    "similarityscore_pcoaOtu_lr,best_par_pcoaOtu_lr = splithypothesis(cvgenerator=StratifiedKFold,xset=pcoaOtu.iloc[:,0:58],model_cv=log_cv,number_of_splits=7,number_of_folds=6)\n",
    "hypothesisresults.write(\"similarityscore_pcoaCss_lr\")\n",
    "hypothesisresults.write(str(similarityscore_pcoaCss_lr))"
   ]
  },
  {
   "cell_type": "code",
   "execution_count": null,
   "metadata": {
    "collapsed": true,
    "hidden": true
   },
   "outputs": [],
   "source": [
    "similarityscore_otuMinCss_lr = splithypothesis(cvgenerator=StratifiedKFold,xset=otudfMinCss,number_of_splits=7,number_of_folds=6,yset=wwfdfmin)\n",
    "hypothesisresults.write(\"similarityscore_otuMinCss_lr\")\n",
    "hypothesisresults.write(str(similarityscore_otuMinCss_lr))"
   ]
  },
  {
   "cell_type": "code",
   "execution_count": null,
   "metadata": {
    "collapsed": true,
    "hidden": true
   },
   "outputs": [],
   "source": [
    "similarityscore_nmds_lr = splithypothesis(cvgenerator=StratifiedKFold,xset=nmds20,number_of_splits=7,number_of_folds=6)"
   ]
  },
  {
   "cell_type": "code",
   "execution_count": null,
   "metadata": {
    "collapsed": true,
    "hidden": true
   },
   "outputs": [],
   "source": [
    "dissimilarityscore_nmds_lr = splithypothesis(cvgenerator=GroupKFold,xset=nmds20,number_of_splits=7,number_of_folds=6)"
   ]
  },
  {
   "cell_type": "code",
   "execution_count": null,
   "metadata": {
    "collapsed": true,
    "hidden": true
   },
   "outputs": [],
   "source": [
    "dissimilarityscore_otuCss_lr = splithypothesis(cvgenerator=GroupKFold,xset=otudfCss,number_of_splits=7,number_of_folds=6)\n",
    "hypothesisresults.write(str(dissimilarityscore_otuCss_lr))"
   ]
  },
  {
   "cell_type": "code",
   "execution_count": null,
   "metadata": {
    "collapsed": true,
    "hidden": true
   },
   "outputs": [],
   "source": [
    "dissimilarityscore_otuMinCss_lr = splithypothesis(cvgenerator=GroupKFold,xset=otudfMinCss,number_of_splits=7,number_of_folds=6,yset=wwfdfmin)\n",
    "hypothesisresults.write(\"dissimilarityscore_otuCss_lr\")\n",
    "hypothesisresults.write(str(dissimilarityscore_otuCss_lr))"
   ]
  },
  {
   "cell_type": "code",
   "execution_count": null,
   "metadata": {
    "collapsed": true,
    "hidden": true
   },
   "outputs": [],
   "source": [
    "dissimilarityscore_pcoaCss_lr,best_par_diss_pcoaCss_lr = splithypothesis(cvgenerator=GroupKFold,xset=pcoaCss.iloc[:,0:58],model_cv=log_cv,number_of_splits=7,number_of_folds=6)\n",
    "hypothesisresults.write(\"dissimilarityscore_pcoaCss_lr\")\n",
    "hypothesisresults.write(str(dissimilarityscore_pcoaCss_lr))"
   ]
  },
  {
   "cell_type": "code",
   "execution_count": null,
   "metadata": {
    "collapsed": true,
    "hidden": true,
    "scrolled": true
   },
   "outputs": [],
   "source": [
    "dissimilarityscore_pcoaOtu_lr,best_par_diss_pcoaOtu_lr = splithypothesis(cvgenerator=GroupKFold,xset=pcoaOtu.iloc[:,0:58],model_cv=log_cv,number_of_splits=7,number_of_folds=6)\n",
    "hypothesisresults.write(\"dissimilarityscore_pcoaCss_lr\")\n",
    "hypothesisresults.write(str(dissimilarityscore_pcoaCss_lr))"
   ]
  },
  {
   "cell_type": "code",
   "execution_count": null,
   "metadata": {
    "collapsed": true,
    "hidden": true
   },
   "outputs": [],
   "source": [
    "dissimilarityscore_otuMinCss_lr = splithypothesis(cvgenerator=GroupKFold,xset=otudfMinCss,number_of_splits=7,number_of_folds=6)\n",
    "hypothesisresults.write(str(dissimilarityscore_otuMinCss_lr))"
   ]
  },
  {
   "cell_type": "code",
   "execution_count": null,
   "metadata": {
    "collapsed": true,
    "hidden": true
   },
   "outputs": [],
   "source": [
    "dissimilarityscore_otu_lr =splithypothesis(cvgenerator=GroupKFold,xset=otudf,number_of_splits=7,number_of_folds=6)\n",
    "hypothesisresults.write(str(dissimilarityscore_otu_lr))"
   ]
  },
  {
   "cell_type": "code",
   "execution_count": null,
   "metadata": {
    "code_folding": [],
    "collapsed": true,
    "hidden": true
   },
   "outputs": [],
   "source": [
    "# print(\"NMDS\")\n",
    "# print(np.array( similarityscore_nmds_lr).mean())\n",
    "# print(np.array( similarityscore_nmds_lr).var())\n",
    "print(\"OTU\")\n",
    "print(np.array( similarityscore_otu_lr).mean())\n",
    "print(np.array( similarityscore_otu_lr).var())\n",
    "print(\"OTU Css\")\n",
    "print(np.array( similarityscore_otuCss_lr).mean())\n",
    "print(np.array( similarityscore_otuCss_lr).var())\n",
    "print(\"OTU Min Css\")\n",
    "print(np.array( similarityscore_otuMinCss_lr).mean())\n",
    "print(np.array( similarityscore_otuMinCss_lr).var())\n",
    "print(\"PCoA Otu\")\n",
    "print(np.array( similarityscore_pcoaOtu_lr).mean())\n",
    "print(np.array( similarityscore_pcoaOtu_lr).var())\n",
    "\n",
    "print(\"PCoA Css\")\n",
    "print(np.array( similarityscore_pcoaCss_lr).mean())\n",
    "print(np.array( similarityscore_pcoaCss_lr).var())\n",
    "\n",
    "print(\"Diss OTU\")\n",
    "print(np.array( dissimilarityscore_otu_lr).mean())\n",
    "print(np.array( dissimilarityscore_otu_lr).var())\n",
    "\n",
    "print(\"Diss OTU Css\")\n",
    "print(np.array( dissimilarityscore_otuCss_lr).mean())\n",
    "print(np.array( dissimilarityscore_otuCss_lr).var())\n",
    "print(\"Diss OTU Min Css\")\n",
    "print(np.array( dissimilarityscore_otuMinCss_lr).mean())\n",
    "print(np.array( dissimilarityscore_otuMinCss_lr).var())\n",
    "\n",
    "print(\"Diss PCoA Otu\")\n",
    "print(np.array( dissimilarityscore_pcoaOtu_lr).mean())\n",
    "print(np.array( dissimilarityscore_pcoaOtu_lr).var())\n",
    "\n",
    "\n",
    "print(\"Diss PCoA Css\")\n",
    "print(np.array( dissimilarityscore_pcoaCss_lr).mean())\n",
    "print(np.array( dissimilarityscore_pcoaCss_lr).var())\n"
   ]
  },
  {
   "cell_type": "markdown",
   "metadata": {
    "heading_collapsed": true
   },
   "source": [
    "## Bayesian logistic regression using pymc3\n",
    "\n",
    "I cant get it to work with either nmds or otutable, there might be something wrong with the code or with the implementation."
   ]
  },
  {
   "cell_type": "code",
   "execution_count": null,
   "metadata": {
    "collapsed": true,
    "hidden": true,
    "scrolled": true
   },
   "outputs": [],
   "source": [
    "class BaysianClassifier:\n",
    "    def __init__(self,niterations,regularisation,sampler=pm.NUTS):\n",
    "        self.niter = niterations\n",
    "        self.reg = regularisation\n",
    "        self.sampler = sampler\n",
    "    \n",
    "    def fit(self,X,y,intercept=True,sigma=1):\n",
    "        self.bay = pm.Model()\n",
    "        self.x_shared = shared(np.array(X))\n",
    "        with self.bay:\n",
    "            # Weights of the features have a laplace prior which is the same as l1 when minimising the loss function\n",
    "            mu = 0#pm.Normal('mu', 0.0, sd=1)\n",
    "            inter = tt.constant(0)\n",
    "            lam = sigma#pm.HalfCauchy('sd', 1.0)\n",
    "            if self.reg == \"l1\":\n",
    "                beta = pm.Laplace(\"betas\",mu,lam,shape = X.shape[1])\n",
    "                if intercept == True:\n",
    "                    inter =  pm.Laplace(\"intercept\",mu,lam,shape = 1)\n",
    "            if self.reg == \"l2\":\n",
    "                beta = pm.Normal(\"betas\",mu,lam,shape = np.array(X).shape[1])\n",
    "                if intercept == True:\n",
    "                    inter =  pm.Normal(\"intercept\",mu,lam,shape = 1)\n",
    "                \n",
    "                \n",
    "            y_hat = tt.dot(self.x_shared,beta)+ inter\n",
    "            # Calculating the probability of water being white p(y=1|mu) so that we can get \n",
    "            # p(y|x,beta) ~ Binomial(y|mu)\n",
    "            #mu =logit(y_hat)\n",
    "            y_obs = pm.Bernoulli(\"Y_obs\",logit_p=y_hat,observed = y)\n",
    "            self.MAP = pm.find_MAP()\n",
    "            self.trace = pm.sample(self.niter,random_seed=11235,step =self.sampler() )\n",
    "            #start= {\"beta\":freq.coef_.T}bl\n",
    "            \n",
    "    def predict(self,X,samples=2000):\n",
    "        self.x_shared.set_value(X)\n",
    "        ppc = pm.sample_posterior_predictive(self.trace,model = self.bay,samples=samples)\n",
    "        yone =(ppc[\"Y_obs\"] ==1).sum(axis=0)\n",
    "        yzero =(ppc[\"Y_obs\"] ==0).sum(axis=0)\n",
    "        prediction_prob =st.beta(yone,yzero).mean()\n",
    "        prediction_prob[np.isnan(prediction_prob)] =1\n",
    "        return(prediction_prob)"
   ]
  },
  {
   "cell_type": "code",
   "execution_count": null,
   "metadata": {
    "code_folding": [],
    "collapsed": true,
    "hidden": true
   },
   "outputs": [],
   "source": [
    "def bayesiantest(cvgenerator,xset,model_cv,number_of_splits,number_of_folds,yset=wwfdf):\n",
    "    \"\"\"\n",
    "    Tests the splits hypothesis on the LogisticRegression classifier.\n",
    "    \n",
    "    Input:\n",
    "    cvgenerator: A cross-validator that can split data into folds\n",
    "    xset: The features that will be used on the classifier\n",
    "    model_cv: A function that will perform the cross-validation and select the hyperparameters\n",
    "              of the classifier based on its performance on the cvgenerators folds\n",
    "              examples are log_cv and rfr_cv\n",
    "    number_of_splits: Number of ways to split the data into train-test\n",
    "    number_of_folds: Number of ways to split the train set into validation sets\n",
    "    yset: Labels of data, must match length of xset\n",
    "    Output:\n",
    "    scoring_results: A list of the accuracy of the classifier on each test fold\n",
    "    best_parameters: A list of parameters used by the classifier to calculate the score for each test fold\n",
    "    coefficients: A list of arrays with the iportance of the features\n",
    "    \"\"\"\n",
    "    np.random.seed(11235)\n",
    "    traintestsplit  = cvgenerator(n_splits=number_of_splits)\n",
    "    Ksets = traintestsplit.split(xset,y =yset.Area_group,groups=yset.Area_group)\n",
    "    # scoring_results is a list with the scores of the estimator on each test set in\n",
    "    # the traintestsplit folds.\n",
    "    best_parameters =[]\n",
    "    scoring_results = []\n",
    "    coefficients =[]\n",
    "    confusion = np.zeros((2,2))\n",
    "    for i,index in enumerate( Ksets):\n",
    "        train_index,test_index = index\n",
    "        xtrain,xtest = xset.iloc[train_index],xset.iloc[test_index]\n",
    "        ytrain,ytest = yset.Water.iloc[train_index],yset.Water.iloc[test_index]\n",
    "        #set_for_kfold = yset.Area_group.loc[xtrain.index]\n",
    "        print(i)\n",
    "        np.random.seed(11235)\n",
    "        \n",
    "        # Perform grid CV using Kfolds as folds.\n",
    "        model_cv.fit(xtrain,ytrain)\n",
    "        best_parameters.append(copy.deepcopy(model_cv.trace))\n",
    "        modelrpediction = model_cv.predict(xtest)\n",
    "        \n",
    "        # parameters are the best parameters of the model and CVgrid is the output\n",
    "        # of the GridSearchCV method\n",
    "        print(ytest.shape)\n",
    "        \n",
    "        conf_matrix = metrics.confusion_matrix(ytest, (modelrpediction>0.5)*1)\n",
    "        \n",
    "        \n",
    "        scoring_results.append( metrics.accuracy_score(ytest, (modelrpediction>0.5)*1))\n",
    "        \n",
    "        if conf_matrix.shape == (1,1):\n",
    "            conf_matrix = np.array([[0,0],[0,conf_matrix.item()]])\n",
    "        print(conf_matrix)\n",
    "        confusion += conf_matrix\n",
    "        \n",
    "    return(scoring_results,best_parameters,coefficients,confusion)"
   ]
  },
  {
   "cell_type": "code",
   "execution_count": null,
   "metadata": {
    "code_folding": [
     0
    ],
    "collapsed": true,
    "hidden": true
   },
   "outputs": [],
   "source": [
    "def mletest(cvgenerator,xset,model_cv,number_of_splits,number_of_folds,yset=wwfdf):\n",
    "    \"\"\"\n",
    "    Tests the splits hypothesis on the LogisticRegression classifier.\n",
    "    \n",
    "    Input:\n",
    "    cvgenerator: A cross-validator that can split data into folds\n",
    "    xset: The features that will be used on the classifier\n",
    "    model_cv: A function that will perform the cross-validation and select the hyperparameters\n",
    "              of the classifier based on its performance on the cvgenerators folds\n",
    "              examples are log_cv and rfr_cv\n",
    "    number_of_splits: Number of ways to split the data into train-test\n",
    "    number_of_folds: Number of ways to split the train set into validation sets\n",
    "    yset: Labels of data, must match length of xset\n",
    "    Output:\n",
    "    scoring_results: A list of the accuracy of the classifier on each test fold\n",
    "    best_parameters: A list of parameters used by the classifier to calculate the score for each test fold\n",
    "    coefficients: A list of arrays with the iportance of the features\n",
    "    \"\"\"\n",
    "    np.random.seed(11235)\n",
    "    traintestsplit  = cvgenerator(n_splits=number_of_splits)\n",
    "    Ksets = traintestsplit.split(xset,y =yset.Area_group,groups=yset.Area_group)\n",
    "    # scoring_results is a list with the scores of the estimator on each test set in\n",
    "    # the traintestsplit folds.\n",
    "    best_parameters =[]\n",
    "    scoring_results = []\n",
    "    coefficients =[]\n",
    "    confusion = np.zeros((2,2))\n",
    "    for i,index in enumerate( Ksets):\n",
    "        train_index,test_index = index\n",
    "        xtrain,xtest = xset.iloc[train_index],xset.iloc[test_index]\n",
    "        ytrain,ytest = yset.Water.iloc[train_index],yset.Water.iloc[test_index]\n",
    "        #set_for_kfold = yset.Area_group.loc[xtrain.index]\n",
    "        print(i)\n",
    "        np.random.seed(11235)\n",
    "        model_cv =LogisticRegression(fit_intercept=True,penalty=\"l1\",C=1)\n",
    "        # Perform grid CV using Kfolds as folds.\n",
    "        model_cv.fit(xtrain,ytrain)\n",
    "        coefficients.append(np.append(model_cv.coef_,model_cv.intercept_))\n",
    "        modelrpediction = model_cv.predict(xtest)\n",
    "        \n",
    "        # parameters are the best parameters of the model and CVgrid is the output\n",
    "        # of the GridSearchCV method\n",
    "        print(ytest.shape)\n",
    "        \n",
    "        conf_matrix = metrics.confusion_matrix(ytest, (modelrpediction)*1)\n",
    "        \n",
    "        \n",
    "        scoring_results.append( metrics.accuracy_score(ytest, (modelrpediction>0.5)*1))\n",
    "        \n",
    "        if conf_matrix.shape == (1,1):\n",
    "            conf_matrix = np.array([[0,0],[0,conf_matrix.item()]])\n",
    "        print(conf_matrix)\n",
    "        confusion += conf_matrix\n",
    "        \n",
    "    return(scoring_results,best_parameters,coefficients,confusion)"
   ]
  },
  {
   "cell_type": "code",
   "execution_count": null,
   "metadata": {
    "collapsed": true,
    "hidden": true
   },
   "outputs": [],
   "source": [
    "logistcmodel = LogisticRegression(fit_intercept=True,penalty=\"l1\",C=1)\n",
    "nmds_logl1 = runningbayesian(StratifiedKFold,logistcmodel,index,xsetlist,ysetlist)"
   ]
  },
  {
   "cell_type": "code",
   "execution_count": null,
   "metadata": {
    "collapsed": true,
    "hidden": true
   },
   "outputs": [],
   "source": [
    "nmdscoefficients= nmds_logl1.Coefficients[0][0]"
   ]
  },
  {
   "cell_type": "code",
   "execution_count": null,
   "metadata": {
    "code_folding": [],
    "collapsed": true,
    "hidden": true
   },
   "outputs": [],
   "source": [
    "def runningbayesian(foldgenerator,model_cv,index,xsetlist,ysetlist):\n",
    "    \"\"\"\n",
    "    Input\n",
    "    foldgenerator: Stratified or Group KFold\n",
    "    model_cv: The model CV to use, log_cv or rfr_cv\n",
    "    \n",
    "    \"\"\"\n",
    "    dictr ={\"Scores\":[],\"Parameters\":[],\"Coefficients\":[],\"Confusion\":[]}\n",
    "    if index ==None:\n",
    "        index = [\"OTU\",\"OTU CSS\",\"OTU MIN CSS\",\"PCoA\",\"PCoA CSS\"]\n",
    "        xsetlist = [otudf,otudfCss,otudfMinCss,pcoaOtu,pcoaCss]\n",
    "        ysetlist =[wwfdf,wwfdf,wwfdfmin,wwfdf,wwfdf]\n",
    "    for i,j in enumerate(index):\n",
    "        print(i)\n",
    "        # Running the hypothesis for all cases in the index\n",
    "        scoring,best_parameters,coefficents,confusion =bayesiantest(cvgenerator=foldgenerator,xset=xsetlist[i],model_cv=model_cv,\n",
    "                                number_of_splits=7,number_of_folds=6,yset=ysetlist[i])\n",
    "\n",
    "        dictr[\"Scores\"]+=[scoring]\n",
    "        dictr[\"Parameters\"] += [best_parameters]\n",
    "        dictr[\"Coefficients\"] += [coefficents]\n",
    "        dictr[\"Confusion\"] += [confusion]\n",
    "    dataf =pd.DataFrame(data = dictr,index=index)\n",
    "    return(dataf)"
   ]
  },
  {
   "cell_type": "code",
   "execution_count": null,
   "metadata": {
    "collapsed": true,
    "hidden": true
   },
   "outputs": [],
   "source": [
    "bclsfr = BaysianClassifier(8000,\"l1\")\n",
    "\n",
    "# index = [\"OTU CSS LOG\",\"OTU LOW COR\"]\n",
    "# xsetlist = [otudfCssLog,otudfLow]\n",
    "# ysetlist = [wwfdf,wwfdf]\n",
    "index =[\"nmds\"] #[\"PCoA 99%\"]#,\"PCoA 90%\",\"PCoA CSS 99%\",\"PCoA CSS 90%\"]\n",
    "xsetlist =[nmds20]# [pcoaOtu.iloc[:,0:55]]#,pcoaOtu.iloc[:,0:34],pcoaCss.iloc[:,0:56],pcoaCss.iloc[:,0:35]]\n",
    "ysetlist =[wwfdf]#,wwfdf,wwfdf,wwfdf]\n",
    "dissim_baysl1_8k = runningbayesian(GroupKFold,bclsfr,index,xsetlist,ysetlist)"
   ]
  },
  {
   "cell_type": "code",
   "execution_count": null,
   "metadata": {
    "collapsed": true,
    "hidden": true
   },
   "outputs": [],
   "source": []
  },
  {
   "cell_type": "code",
   "execution_count": null,
   "metadata": {
    "collapsed": true,
    "hidden": true
   },
   "outputs": [],
   "source": [
    "sim_baysl2.to_pickle(\"sim_baysl2\")\n",
    "dissim_baysl2.to_pickle(\"dissim_baysl2\")"
   ]
  },
  {
   "cell_type": "code",
   "execution_count": null,
   "metadata": {
    "collapsed": true,
    "hidden": true
   },
   "outputs": [],
   "source": [
    "bclsfr = BaysianClassifier(4000,\"l2\")\n",
    "\n",
    "# index = [\"OTU CSS LOG\",\"OTU LOW COR\"]\n",
    "# xsetlist = [otudfCssLog,otudfLow]\n",
    "# ysetlist = [wwfdf,wwfdf]\n",
    "index =[\"nmds\"] #[\"PCoA 99%\"]#,\"PCoA 90%\",\"PCoA CSS 99%\",\"PCoA CSS 90%\"]\n",
    "xsetlist =[nmds20]# [pcoaOtu.iloc[:,0:55]]#,pcoaOtu.iloc[:,0:34],pcoaCss.iloc[:,0:56],pcoaCss.iloc[:,0:35]]\n",
    "ysetlist =[wwfdf]#,wwfdf,wwfdf,wwfdf]\n",
    "dissim_baysl2 = runningbayesian(GroupKFold,bclsfr,index,xsetlist,ysetlist)"
   ]
  },
  {
   "cell_type": "code",
   "execution_count": null,
   "metadata": {
    "collapsed": true,
    "hidden": true
   },
   "outputs": [],
   "source": [
    "sim_baysl1 = pd.read_pickle(\"sim_baysl1\")\n",
    "dissim_baysl1_v2 = pd.read_pickle(\"dissim_baysl1\")"
   ]
  },
  {
   "cell_type": "code",
   "execution_count": null,
   "metadata": {
    "collapsed": true,
    "hidden": true,
    "scrolled": true
   },
   "outputs": [],
   "source": [
    "%matplotlib inline\n",
    "plt.style.use('seaborn-darkgrid')\n",
    "\n",
    "#pm.plot_posterior(sim_baysl1.Parameters[\"nmds\"][0])\n",
    "pm.forestplot(sim_baysl1_8k.Parameters[\"nmds\"][0])\n",
    "plt.scatter(nmdscoefficients,np.linspace(0.5,59,21),c=\"red\")\n",
    "plt.vlines(x=0,ymin=-1,ymax=300,linestyles=\"dashed\",colors=\"blue\")\n",
    "plt.savefig(\"forest_sim_l1.png\",dpi=300)"
   ]
  },
  {
   "cell_type": "code",
   "execution_count": null,
   "metadata": {
    "collapsed": true,
    "hidden": true
   },
   "outputs": [],
   "source": [
    "%matplotlib inline \n",
    "pm.fores\n"
   ]
  },
  {
   "cell_type": "code",
   "execution_count": null,
   "metadata": {
    "collapsed": true,
    "hidden": true
   },
   "outputs": [],
   "source": [
    "bclsfr.predict(Xn_test)"
   ]
  },
  {
   "cell_type": "code",
   "execution_count": null,
   "metadata": {
    "collapsed": true,
    "hidden": true
   },
   "outputs": [],
   "source": [
    "%matplotlib inline \n",
    "\n",
    "pm.traceplot(deepcopytrace);\n"
   ]
  },
  {
   "cell_type": "code",
   "execution_count": null,
   "metadata": {
    "collapsed": true,
    "hidden": true
   },
   "outputs": [],
   "source": [
    "baybetas =pm.find_MAP(model=bay)[\"beta\"]\n"
   ]
  },
  {
   "cell_type": "code",
   "execution_count": null,
   "metadata": {
    "collapsed": true,
    "hidden": true,
    "scrolled": true
   },
   "outputs": [],
   "source": [
    "df_trace = pm.trace_to_dataframe(trace[niter//2:])\n",
    "betas =df_trace.mean(0)[1:21]\n",
    "#intercept = df_trace.mean(0)[-1]\n",
    "#pm.find_MAP(model=bay)\n",
    "#bay.Y_obs"
   ]
  },
  {
   "cell_type": "code",
   "execution_count": null,
   "metadata": {
    "collapsed": true,
    "hidden": true
   },
   "outputs": [],
   "source": [
    "def predict(X,betas,intercept):\n",
    "    \n",
    "    v = np.dot(X,betas) + intercept\n",
    "    return(np.exp(v)/(1+np.exp(v)))"
   ]
  },
  {
   "cell_type": "code",
   "execution_count": null,
   "metadata": {
    "collapsed": true,
    "hidden": true
   },
   "outputs": [],
   "source": [
    "(predict(Xn_test,betas=betas,intercept=0) >= 0.5 )*1 ==y_test.bool"
   ]
  },
  {
   "cell_type": "code",
   "execution_count": null,
   "metadata": {
    "collapsed": true,
    "hidden": true
   },
   "outputs": [],
   "source": [
    "nobservations =150\n",
    "covariates = np.random.randn(nobservations, 20)\n",
    "covariates = np.hstack((np.ones((nobservations, 1)), covariates))\n",
    "\n",
    "true_coefficients = 5 * np.random.rand(21)\n",
    "true_logits = np.dot(covariates, true_coefficients) \n",
    "true_probs = 1.0 / (1.0 + np.exp(-true_logits))\n",
    "observed_labels = (np.random.rand(nobservations) < true_probs).astype(np.int32)"
   ]
  },
  {
   "cell_type": "code",
   "execution_count": null,
   "metadata": {
    "collapsed": true,
    "hidden": true
   },
   "outputs": [],
   "source": [
    "covariates=Xn_train\n",
    "covariates = np.hstack((np.ones((Xn_train.shape[0], 1)), covariates))\n",
    "testset = np.hstack((np.ones((Xn_test.shape[0], 1)), Xn_test))\n",
    "observed_labels = y_train.bool#(wwfdf.Water ==\"White\")*1"
   ]
  },
  {
   "cell_type": "code",
   "execution_count": null,
   "metadata": {
    "collapsed": true,
    "hidden": true
   },
   "outputs": [],
   "source": [
    "testlog = LogisticRegression(penalty=\"l2\",multi_class=\"ovr\",solver= \"saga\",max_iter=100000,fit_intercept=False)\n",
    "testlog.fit(covariates,observed_labels)\n",
    "#plt.scatter(true_coefficients, testlog.coef_[0, :])\n",
    "print(testlog.coef_)\n",
    "#plt.show()\n",
    "testlog.score(testset,y_test.bool)"
   ]
  },
  {
   "cell_type": "code",
   "execution_count": null,
   "metadata": {
    "collapsed": true,
    "hidden": true
   },
   "outputs": [],
   "source": [
    "nn = 20000\n",
    "with pm.Model() as testmodel:\n",
    "    # Weights of the features have a laplace prior which is the same as l1 when minimising the loss function\n",
    "    beta = pm.Normal('beta', 0.0, sd=3.0, shape=20)\n",
    "    intercept = pm.Normal(\"inter\",0,sd=3,shape=1)\n",
    "    likelihood = pm.Bernoulli('likelihood', logit_p= tt.dot(Xn_train,beta)+intercept , observed=observed_labels)\n",
    "    tracetest =pm.sample(nn,step=pm.NUTS(),random_seed=11235)"
   ]
  },
  {
   "cell_type": "code",
   "execution_count": null,
   "metadata": {
    "collapsed": true,
    "hidden": true
   },
   "outputs": [],
   "source": [
    "%matplotlib inline\n",
    "pm.traceplot(tracetest)"
   ]
  },
  {
   "cell_type": "code",
   "execution_count": null,
   "metadata": {
    "collapsed": true,
    "hidden": true
   },
   "outputs": [],
   "source": [
    "maptest = (pm.find_MAP(model=testmodel))\n",
    "maptest_beta = maptest[\"beta\"]\n",
    "maptest_inter = maptest[\"inter\"]\n",
    "#print(true_coefficients)\n",
    "#plt.scatter(true_coefficients,maptest)"
   ]
  },
  {
   "cell_type": "code",
   "execution_count": null,
   "metadata": {
    "collapsed": true,
    "hidden": true
   },
   "outputs": [],
   "source": [
    "# pred_probs =predict(testset,baybetas,0) >=0.5\n",
    "# print((y_test.bool == pred_probs).mean())\n",
    "pred_probs =predict(Xn_test,maptest_beta,maptest_inter) >=0.5\n",
    "(y_test.bool == pred_probs).mean()"
   ]
  },
  {
   "cell_type": "markdown",
   "metadata": {},
   "source": [
    "# Random Forrest"
   ]
  },
  {
   "cell_type": "code",
   "execution_count": 124,
   "metadata": {
    "code_folding": [],
    "collapsed": true
   },
   "outputs": [],
   "source": [
    "def rfr_cv(*args,X, y,trainfolds):\n",
    "    \"\"\"\n",
    "    Function performs Grid search Cross validation for random forrests with trainfolds as folds generator. \n",
    "    Inputs:\n",
    "    X: Train set\n",
    "    y: Test set \n",
    "    trainfolds: CV folds generator\n",
    "    Returns:\n",
    "    best_params: Best parameters of the CV procedure\n",
    "    grid_result: The output of the GridSearchCV method when fitted to\n",
    "                 X and y\n",
    "    \"\"\"\n",
    "    if trainfolds ==None:\n",
    "        foldscv = StratifiedKFold(n_splits=5,random_state=11235)\n",
    "        trainfolds =foldscv.split(X,wwfdf.Area_group.loc[X.index])\n",
    "    # Perform Grid-Search\n",
    "    gsc = GridSearchCV(\n",
    "        estimator=RandomForestClassifier(bootstrap=False,class_weight=\"balanced\"),\n",
    "        param_grid={\n",
    "            'max_depth': list(range(3,7))+[None],\n",
    "            'n_estimators': (500, 1000,100,300),\n",
    "        },\n",
    "        cv=trainfolds, scoring = [\"accuracy\",\"f1\"], verbose=1, \n",
    "        n_jobs=2,refit = \"accuracy\",return_train_score = False)\n",
    "    #  Grid result is the output of the gridsearchcv\n",
    "    # best_params are the parameters of the highest scoring algorithm\n",
    "    # coefficients are the weights of the fetures which signify which one is important\n",
    "    grid_result = gsc.fit(X, y)\n",
    "    best_params = grid_result.best_params_\n",
    "    coefficients =grid_result.best_estimator_.feature_importances_\n",
    "    \n",
    "\n",
    "    return (best_params,grid_result,coefficients)"
   ]
  },
  {
   "cell_type": "code",
   "execution_count": null,
   "metadata": {
    "collapsed": true
   },
   "outputs": [],
   "source": [
    "bestpar,grid =rfr_cv(X_train,y_train,None)"
   ]
  },
  {
   "cell_type": "code",
   "execution_count": null,
   "metadata": {
    "collapsed": true
   },
   "outputs": [],
   "source": [
    "# Similarity for CSSLog and Lowcorrelation rfr\n",
    "index = [\"OTU CSS LOG\",\"OTU LOW COR\"]\n",
    "xsetlist = [otudfCssLog,otudfLow]\n",
    "ysetlist = [wwfdf,wwfdf]\n",
    "sim_rfr_df_csslog_low = runningsplittest(StratifiedKFold,rfr_cv,index,xsetlist,ysetlist)"
   ]
  },
  {
   "cell_type": "code",
   "execution_count": 125,
   "metadata": {},
   "outputs": [
    {
     "name": "stdout",
     "output_type": "stream",
     "text": [
      "0\n",
      "0\n",
      "Fitting 6 folds for each of 20 candidates, totalling 120 fits\n"
     ]
    },
    {
     "name": "stderr",
     "output_type": "stream",
     "text": [
      "[Parallel(n_jobs=2)]: Using backend LokyBackend with 2 concurrent workers.\n",
      "[Parallel(n_jobs=2)]: Done  46 tasks      | elapsed:   17.5s\n",
      "[Parallel(n_jobs=2)]: Done 120 out of 120 | elapsed:   42.2s finished\n",
      "/home/spanashis/anaconda2/envs/py36/lib/python3.6/site-packages/sklearn/model_selection/_search.py:841: DeprecationWarning: The default of the `iid` parameter will change from True to False in version 0.22 and will be removed in 0.24. This will change numeric results when test-set sizes are unequal.\n",
      "  DeprecationWarning)\n"
     ]
    },
    {
     "name": "stdout",
     "output_type": "stream",
     "text": [
      "(32,)\n",
      "[[ 1 12]\n",
      " [ 1 18]]\n",
      "1\n",
      "Fitting 6 folds for each of 20 candidates, totalling 120 fits\n"
     ]
    },
    {
     "name": "stderr",
     "output_type": "stream",
     "text": [
      "[Parallel(n_jobs=2)]: Using backend LokyBackend with 2 concurrent workers.\n",
      "[Parallel(n_jobs=2)]: Done  46 tasks      | elapsed:   15.8s\n",
      "[Parallel(n_jobs=2)]: Done 120 out of 120 | elapsed:   45.6s finished\n",
      "/home/spanashis/anaconda2/envs/py36/lib/python3.6/site-packages/sklearn/model_selection/_search.py:841: DeprecationWarning: The default of the `iid` parameter will change from True to False in version 0.22 and will be removed in 0.24. This will change numeric results when test-set sizes are unequal.\n",
      "  DeprecationWarning)\n"
     ]
    },
    {
     "name": "stdout",
     "output_type": "stream",
     "text": [
      "(32,)\n",
      "[[ 0  0]\n",
      " [ 0 32]]\n",
      "2\n",
      "Fitting 6 folds for each of 20 candidates, totalling 120 fits\n"
     ]
    },
    {
     "name": "stderr",
     "output_type": "stream",
     "text": [
      "[Parallel(n_jobs=2)]: Using backend LokyBackend with 2 concurrent workers.\n",
      "[Parallel(n_jobs=2)]: Done  46 tasks      | elapsed:   19.0s\n",
      "[Parallel(n_jobs=2)]: Done 120 out of 120 | elapsed:   49.7s finished\n",
      "/home/spanashis/anaconda2/envs/py36/lib/python3.6/site-packages/sklearn/model_selection/_search.py:841: DeprecationWarning: The default of the `iid` parameter will change from True to False in version 0.22 and will be removed in 0.24. This will change numeric results when test-set sizes are unequal.\n",
      "  DeprecationWarning)\n"
     ]
    },
    {
     "name": "stdout",
     "output_type": "stream",
     "text": [
      "(28,)\n",
      "[[ 0  2]\n",
      " [ 0 26]]\n",
      "3\n",
      "Fitting 6 folds for each of 20 candidates, totalling 120 fits\n"
     ]
    },
    {
     "name": "stderr",
     "output_type": "stream",
     "text": [
      "[Parallel(n_jobs=2)]: Using backend LokyBackend with 2 concurrent workers.\n",
      "[Parallel(n_jobs=2)]: Done  46 tasks      | elapsed:   17.1s\n",
      "[Parallel(n_jobs=2)]: Done 120 out of 120 | elapsed:   43.7s finished\n",
      "/home/spanashis/anaconda2/envs/py36/lib/python3.6/site-packages/sklearn/model_selection/_search.py:841: DeprecationWarning: The default of the `iid` parameter will change from True to False in version 0.22 and will be removed in 0.24. This will change numeric results when test-set sizes are unequal.\n",
      "  DeprecationWarning)\n",
      "[Parallel(n_jobs=2)]: Using backend LokyBackend with 2 concurrent workers.\n"
     ]
    },
    {
     "name": "stdout",
     "output_type": "stream",
     "text": [
      "(24,)\n",
      "[[ 0  0]\n",
      " [ 9 15]]\n",
      "4\n",
      "Fitting 6 folds for each of 20 candidates, totalling 120 fits\n"
     ]
    },
    {
     "name": "stderr",
     "output_type": "stream",
     "text": [
      "[Parallel(n_jobs=2)]: Done  46 tasks      | elapsed:   16.9s\n",
      "[Parallel(n_jobs=2)]: Done 120 out of 120 | elapsed:   43.0s finished\n",
      "/home/spanashis/anaconda2/envs/py36/lib/python3.6/site-packages/sklearn/model_selection/_search.py:841: DeprecationWarning: The default of the `iid` parameter will change from True to False in version 0.22 and will be removed in 0.24. This will change numeric results when test-set sizes are unequal.\n",
      "  DeprecationWarning)\n"
     ]
    },
    {
     "name": "stdout",
     "output_type": "stream",
     "text": [
      "(20,)\n",
      "[[ 0  1]\n",
      " [ 0 19]]\n",
      "5\n",
      "Fitting 6 folds for each of 20 candidates, totalling 120 fits\n"
     ]
    },
    {
     "name": "stderr",
     "output_type": "stream",
     "text": [
      "[Parallel(n_jobs=2)]: Using backend LokyBackend with 2 concurrent workers.\n",
      "[Parallel(n_jobs=2)]: Done  46 tasks      | elapsed:   20.8s\n",
      "[Parallel(n_jobs=2)]: Done 120 out of 120 | elapsed:   47.1s finished\n",
      "/home/spanashis/anaconda2/envs/py36/lib/python3.6/site-packages/sklearn/model_selection/_search.py:841: DeprecationWarning: The default of the `iid` parameter will change from True to False in version 0.22 and will be removed in 0.24. This will change numeric results when test-set sizes are unequal.\n",
      "  DeprecationWarning)\n"
     ]
    },
    {
     "name": "stdout",
     "output_type": "stream",
     "text": [
      "(16,)\n",
      "[[ 2  3]\n",
      " [ 0 11]]\n",
      "6\n",
      "Fitting 6 folds for each of 20 candidates, totalling 120 fits\n"
     ]
    },
    {
     "name": "stderr",
     "output_type": "stream",
     "text": [
      "[Parallel(n_jobs=2)]: Using backend LokyBackend with 2 concurrent workers.\n",
      "[Parallel(n_jobs=2)]: Done  46 tasks      | elapsed:   16.2s\n"
     ]
    },
    {
     "name": "stdout",
     "output_type": "stream",
     "text": [
      "(12,)\n",
      "[[ 0  0]\n",
      " [ 0 12]]\n"
     ]
    },
    {
     "name": "stderr",
     "output_type": "stream",
     "text": [
      "[Parallel(n_jobs=2)]: Done 120 out of 120 | elapsed:   44.9s finished\n",
      "/home/spanashis/anaconda2/envs/py36/lib/python3.6/site-packages/sklearn/model_selection/_search.py:841: DeprecationWarning: The default of the `iid` parameter will change from True to False in version 0.22 and will be removed in 0.24. This will change numeric results when test-set sizes are unequal.\n",
      "  DeprecationWarning)\n"
     ]
    }
   ],
   "source": [
    "# disSimilarity for CSSLog and Lowcorrelation rfr\n",
    "# index = [\"OTU CSS LOG\",\"OTU LOW COR\"]\n",
    "# xsetlist = [`otudfCssLog,otudfLow]\n",
    "# ysetlist = [wwfdf,wwfdf]\n",
    "index = [\"OTU\"]\n",
    "xsetlist = [otudf]\n",
    "ysetlist = [wwfdf]\n",
    "dissim_rfr_df_csslog_low = runningsplittest(GroupKFold,rfr_cv,index,xsetlist,ysetlist)"
   ]
  },
  {
   "cell_type": "code",
   "execution_count": null,
   "metadata": {
    "collapsed": true
   },
   "outputs": [],
   "source": [
    "index = [\"Fish\",\"Fish CSS\",\"Fish CSS LOG\"]\n",
    "xsetlist = [fishdf,fishdfCss,fishdfCssLog]\n",
    "ysetlist = [wwfdffish,wwfdffish,wwfdffish]\n",
    "sim_rfr_fish = runningsplittest(StratifiedKFold,rfr_cv,index,xsetlist,ysetlist)"
   ]
  },
  {
   "cell_type": "code",
   "execution_count": null,
   "metadata": {
    "collapsed": true
   },
   "outputs": [],
   "source": [
    "index = [\"Fish\",\"Fish CSS\",\"Fish CSS LOG\"]\n",
    "xsetlist = [fishdf,fishdfCss,fishdfCssLog]\n",
    "ysetlist = [wwfdffish,wwfdffish,wwfdffish]\n",
    "dis_rfr_fish = runningsplittest(GroupKFold,rfr_cv,index,xsetlist,ysetlist)"
   ]
  },
  {
   "cell_type": "code",
   "execution_count": null,
   "metadata": {
    "collapsed": true
   },
   "outputs": [],
   "source": [
    "# concatenating\n",
    "dissim_rfr_df = pd.concat([diffsimilarity_rfr_df,dissim_rfr_df_csslog_low])\n",
    "sim_rfr_df = pd.concat([similarity_rfr_df,sim_rfr_df_csslog_low])"
   ]
  },
  {
   "cell_type": "code",
   "execution_count": null,
   "metadata": {
    "collapsed": true
   },
   "outputs": [],
   "source": [
    "sim_rfr_df.to_csv(path_or_buf=\"sim_rfr_df_bootfalse\")\n",
    "dissim_rfr_df.to_csv(path_or_buf=\"dissim_rfr_df_bootfalse\")\n",
    "sim_log_df.to_csv(path_or_buf=\"sim_log_df\")\n",
    "dissim_log_df.to_csv(path_or_buf=\"disssim_log_df\")\n"
   ]
  },
  {
   "cell_type": "markdown",
   "metadata": {
    "heading_collapsed": true
   },
   "source": [
    "## Previous attempts of rfr"
   ]
  },
  {
   "cell_type": "code",
   "execution_count": null,
   "metadata": {
    "collapsed": true,
    "hidden": true
   },
   "outputs": [],
   "source": [
    "print(\"similarity RandomForestClassifier\")\n",
    "for j,i in enumerate( similarity_rfr_df[\"Scores\"]):\n",
    "#    print(i)\n",
    "    print(diffsimilarity_rfr_df.index[j])\n",
    "    print(np.array(i).mean())\n",
    "    print(np.array(i).var())"
   ]
  },
  {
   "cell_type": "code",
   "execution_count": null,
   "metadata": {
    "collapsed": true,
    "hidden": true,
    "scrolled": true
   },
   "outputs": [],
   "source": [
    "%matplotlib inline\n",
    "sns.set()\n",
    "gridpd =pd.DataFrame(grid.cv_results_)\n",
    "#gridpd.columns\n",
    "sns.pointplot(x=\"param_max_depth\",y= \"mean_test_roc_auc\", palette=[\"red\",\"blue\",\"orange\",\"brown\"],hue=\"param_n_estimators\",\n",
    "             data=gridpd,dodge = True,ci =\"sd\")\n",
    "#plt.ylim(0.987,1.001)\n",
    "#plt.errorbar(data=gridpd,x = \"param_max_depth\",y= \"mean_test_roc_auc\",yerr=\"std_test_roc_auc\")\n",
    "g = sns.FacetGrid(gridpd, palette=[\"red\",\"blue\",\"orange\"],hue=\"param_n_estimators\"\n",
    ", size=5)\n",
    "g.map(plt.errorbar, \"param_max_depth\",\"mean_test_roc_auc\", \"std_test_roc_auc\", marker=\"o\")"
   ]
  },
  {
   "cell_type": "code",
   "execution_count": null,
   "metadata": {
    "collapsed": true,
    "hidden": true
   },
   "outputs": [],
   "source": [
    "rfr =RandomForestClassifier(max_depth=None, n_estimators=10000,random_state=True, verbose=True)\n",
    "rfr.fit(X_train,y_train)\n",
    "rfr.score(X_test,y_test)\n"
   ]
  },
  {
   "cell_type": "markdown",
   "metadata": {
    "hidden": true
   },
   "source": [
    "Random forest with 10000 trees, max depth set to None and random_state set to True produces an accuracy of 93%, which is equivalent to that of the logistic regression with the saga solver."
   ]
  },
  {
   "cell_type": "code",
   "execution_count": null,
   "metadata": {
    "collapsed": true,
    "hidden": true
   },
   "outputs": [],
   "source": [
    "rfr.fit(Xn_train,y_train)\n",
    "rfr.score(Xn_test,y_test)"
   ]
  },
  {
   "cell_type": "markdown",
   "metadata": {
    "hidden": true
   },
   "source": [
    "Using the nmds axis we get an accuracy of 96.7% (which is a single mistake!)"
   ]
  },
  {
   "cell_type": "code",
   "execution_count": null,
   "metadata": {
    "collapsed": true,
    "hidden": true
   },
   "outputs": [],
   "source": [
    "sum(rfr.predict(X_test) == y_test)/y_test.size"
   ]
  },
  {
   "cell_type": "code",
   "execution_count": null,
   "metadata": {
    "collapsed": true,
    "hidden": true
   },
   "outputs": [],
   "source": [
    "crossrfr =cross_val_score(rfr,otudf,y=wwfdf.Water,cv=10)"
   ]
  },
  {
   "cell_type": "markdown",
   "metadata": {
    "heading_collapsed": true
   },
   "source": [
    "# XGBoost"
   ]
  },
  {
   "cell_type": "code",
   "execution_count": null,
   "metadata": {
    "code_folding": [],
    "collapsed": true,
    "hidden": true
   },
   "outputs": [],
   "source": [
    "def xgb_cv(X, y,trainfolds):\n",
    "    \"\"\"\n",
    "    Function performs Grid search Cross validation for random forrests with trainfolds as folds generator. \n",
    "    Inputs:\n",
    "    X: Train set\n",
    "    y: Test set \n",
    "    trainfolds: CV folds generator\n",
    "    Returns:\n",
    "    best_params: Best parameters of the CV procedure\n",
    "    grid_result: The output of the GridSearchCV method when fitted to\n",
    "                 X and y\n",
    "    \"\"\"\n",
    "    if trainfolds ==None:\n",
    "        foldscv = StratifiedKFold(n_splits=5,random_state=11235)\n",
    "        trainfolds =foldscv.split(X,wwfdf.Area_group.loc[X.index])\n",
    "    # Perform Grid-Search\n",
    "    gsc = GridSearchCV(\n",
    "        estimator=xgb.XGBClassifier(objective=\"binary:logistic\",learning_rate=0.2),\n",
    "        param_grid={\n",
    "            'max_depth': range(1,3),\n",
    "            'n_estimators': [500,600],\n",
    "            \"min_child_weight\":range(1,3)\n",
    "            #\"reg_alpha\":[0,0.3,0.7,1],\n",
    "            #\"reg_lambda\":[0,0.3,0.7,1]\n",
    "            \n",
    "        },\n",
    "        cv=trainfolds, scoring = [\"accuracy\"], verbose=1, \n",
    "        n_jobs=-1,refit = \"accuracy\",return_train_score = False)\n",
    "    #  Grid result is the output of the gridsearchcv\n",
    "    # best_params are the parameters of the highest scoring algorithm\n",
    "    # coefficients are the weights of the fetures which signify which one is important\n",
    "    grid_result = gsc.fit(X, y)\n",
    "    best_params = grid_result.best_params_\n",
    "    coefficients =grid_result.best_estimator_.feature_importances_\n",
    "    \n",
    "\n",
    "    return (best_params,grid_result,coefficients)"
   ]
  },
  {
   "cell_type": "code",
   "execution_count": null,
   "metadata": {
    "code_folding": [],
    "collapsed": true,
    "hidden": true
   },
   "outputs": [],
   "source": [
    "def xgb_rcv(X, y,trainfolds):\n",
    "    \"\"\"\n",
    "    Function performs Grid search Cross validation for random forrests with trainfolds as folds generator. \n",
    "    Inputs:\n",
    "    X: Train set\n",
    "    y: Test set \n",
    "    trainfolds: CV folds generator\n",
    "    Returns:\n",
    "    best_params: Best parameters of the CV procedure\n",
    "    grid_result: The output of the GridSearchCV method when fitted to\n",
    "                 X and y\n",
    "    \"\"\"\n",
    "    if trainfolds ==None:\n",
    "        foldscv = StratifiedKFold(n_splits=5,random_state=11235)\n",
    "        trainfolds =foldscv.split(X,wwfdf.Area_group.loc[X.index])\n",
    "    # Perform Grid-Search\n",
    "    gsc = RandomizedSearchCV(\n",
    "        estimator=xgb.XGBClassifier(objective=\"binary:logistic\",n_estimators=500),random_state = 42,\n",
    "        param_distributions={\n",
    "            'max_depth': range(2,4),\n",
    "            \"min_child_weight\":range(1,3),\n",
    "            \"gamma\": st.uniform(loc=0,scale=1),\n",
    "            \"reg_alpha\":st.uniform(loc=0,scale =1),\n",
    "            \"reg_lambda\":st.uniform(loc=0,scale=1)\n",
    "        },\n",
    "        cv=trainfolds, scoring = [\"accuracy\"], verbose=1, \n",
    "        n_jobs=-1,refit = \"accuracy\",return_train_score = False,n_iter = 200)\n",
    "    #  Grid result is the output of the gridsearchcv\n",
    "    # best_params are the parameters of the highest scoring algorithm\n",
    "    # coefficients are the weights of the fetures which signify which one is important\n",
    "    grid_result = gsc.fit(X, y)\n",
    "    best_params = grid_result.best_params_\n",
    "    coefficients =grid_result.best_estimator_.feature_importances_\n",
    "    \n",
    "\n",
    "    return (best_params,grid_result,coefficients)"
   ]
  },
  {
   "cell_type": "code",
   "execution_count": null,
   "metadata": {
    "collapsed": true,
    "hidden": true
   },
   "outputs": [],
   "source": [
    "index = [\"OTU CSS LOG\"]\n",
    "xsetlist = [otudfCssLog]\n",
    "ysetlist = [wwfdf]\n",
    "\n",
    "dissim_xgb_rand =runningsplittest(GroupKFold,xgb_rcv,index,xsetlist,ysetlist)"
   ]
  },
  {
   "cell_type": "code",
   "execution_count": null,
   "metadata": {
    "collapsed": true,
    "hidden": true,
    "scrolled": true
   },
   "outputs": [],
   "source": [
    "# index = [\"OTU\",\"OTU CSS\",\"OTU CSS LOG\",\"OTU LOW COR\"]\n",
    "# xsetlist = [otudf,otudfCss,otudfCssLog,otudfLow]\n",
    "# ysetlist = [wwfdf,wwfdf,wwfdf,wwfdf]\n",
    "index = [\"OTU CSS LOG\"]\n",
    "xsetlist = [otudfCssLog]\n",
    "ysetlist = [wwfdf]\n",
    "\n",
    "dissim_xgb_grid =runningsplittest(GroupKFold,xgb_cv,index,xsetlist,ysetlist)"
   ]
  },
  {
   "cell_type": "markdown",
   "metadata": {
    "heading_collapsed": true
   },
   "source": [
    "# KNN"
   ]
  },
  {
   "cell_type": "code",
   "execution_count": null,
   "metadata": {
    "code_folding": [],
    "collapsed": true,
    "hidden": true
   },
   "outputs": [],
   "source": [
    "def knn_cv(*args,X, y,trainfolds):\n",
    "    \"\"\"\n",
    "    Function performs Grid search Cross validation for random forrests with trainfolds as folds generator. \n",
    "    Inputs:\n",
    "    X: Train set\n",
    "    y: Test set \n",
    "    trainfolds: CV folds generator\n",
    "    Returns:\n",
    "    best_params: Best parameters of the CV procedure\n",
    "    grid_result: The output of the GridSearchCV method when fitted to\n",
    "                 X and y\n",
    "    \"\"\"\n",
    "    print(args)\n",
    "    knnmetric = args[0][\"metric\"]\n",
    "    if trainfolds ==None:\n",
    "        foldscv = StratifiedKFold(n_splits=5,random_state=11235)\n",
    "        trainfolds =foldscv.split(X,wwfdf.Area_group.loc[X.index])\n",
    "    # Perform Grid-Search\n",
    "    gsc = GridSearchCV(\n",
    "        estimator=KNeighborsClassifier(metric=knnmetric),\n",
    "        param_grid={\n",
    "        \"n_neighbors\": range(1,30),\n",
    "       #,\"braycurtis\"],\n",
    "            \"weights\":[\"uniform\",\"distance\"],\n",
    "            \"p\": range(1,6)\n",
    "        },\n",
    "        cv=trainfolds, scoring = [\"accuracy\"], verbose=1, \n",
    "        n_jobs=-1,refit = \"accuracy\",return_train_score = False)\n",
    "    #  Grid result is the output of the gridsearchcv\n",
    "    # best_params are the parameters of the highest scoring algorithm\n",
    "    # coefficients are the weights of the fetures which signify which one is important\n",
    "    grid_result = gsc.fit(X, y)\n",
    "    best_params = grid_result.best_params_\n",
    "    \n",
    "    \n",
    "\n",
    "    return (best_params,grid_result,None)"
   ]
  },
  {
   "cell_type": "code",
   "execution_count": null,
   "metadata": {
    "collapsed": true,
    "hidden": true,
    "scrolled": true
   },
   "outputs": [],
   "source": [
    "index = [\"Fish\",\"Fish CSS\",\"Fish CSS LOG\"]\n",
    "xsetlist = [fishdf,fishdfCss,fishdfCssLog]\n",
    "ysetlist = [wwfdffish,wwfdffish,wwfdffish]\n",
    "#index = [\"OTU CSS LOG\"]\n",
    "#xsetlist = [otudfCssLog]\n",
    "#ysetlist = [wwfdf]\n",
    "\n",
    "dis_knn_min_grid_fish =runningsplittest(GroupKFold,knn_cv,index,xsetlist,ysetlist,metric=\"minkowski\")"
   ]
  },
  {
   "cell_type": "code",
   "execution_count": null,
   "metadata": {
    "collapsed": true,
    "hidden": true,
    "scrolled": true
   },
   "outputs": [],
   "source": [
    "index = [\"Fish\",\"Fish CSS\",\"Fish CSS LOG\"]\n",
    "xsetlist = [fishdf,fishdfCss,fishdfCssLog]\n",
    "ysetlist = [wwfdffish,wwfdffish,wwfdffish]\n",
    "#index = [\"OTU CSS LOG\"]\n",
    "#xsetlist = [otudfCssLog]\n",
    "#ysetlist = [wwfdf]\n",
    "\n",
    "sim_knn_min_grid_fish =runningsplittest(StratifiedKFold,knn_cv,index,xsetlist,ysetlist,knnmetric=\"minkowski\")"
   ]
  },
  {
   "cell_type": "code",
   "execution_count": null,
   "metadata": {
    "collapsed": true,
    "hidden": true
   },
   "outputs": [],
   "source": [
    "def test(a,b,**kwarg):\n",
    "    test2(kwarg,w=a)\n",
    "def test2(*args,w):\n",
    "    print(w,args[0])\n"
   ]
  },
  {
   "cell_type": "code",
   "execution_count": null,
   "metadata": {
    "collapsed": true,
    "hidden": true
   },
   "outputs": [],
   "source": [
    "test(a=1,b= 4,metric=5)"
   ]
  },
  {
   "cell_type": "code",
   "execution_count": null,
   "metadata": {
    "collapsed": true,
    "hidden": true
   },
   "outputs": [],
   "source": [
    "index = [\"OTU\",\"OTU CSS\",\"OTU CSS LOG\",\"OTU LOW COR\"]\n",
    "xsetlist = [otudf,otudfCss,otudfCssLog,otudfLow]\n",
    "ysetlist = [wwfdf,wwfdf,wwfdf,wwfdf]\n",
    "#index = [\"OTU CSS LOG\"]\n",
    "#xsetlist = [otudfCssLog]\n",
    "#ysetlist = [wwfdf]\n",
    "\n",
    "sim_knn_min_grid =runningsplittest(StratifiedKFold,knn_cv,index,xsetlist,ysetlist)"
   ]
  },
  {
   "cell_type": "code",
   "execution_count": null,
   "metadata": {
    "collapsed": true,
    "hidden": true
   },
   "outputs": [],
   "source": [
    "index = [\"OTU\",\"OTU CSS\",\"OTU CSS LOG\",\"OTU LOW COR\"]\n",
    "xsetlist = [otudf,otudfCss,otudfCssLog,otudfLow]\n",
    "ysetlist = [wwfdf,wwfdf,wwfdf,wwfdf]\n",
    "#index = [\"OTU CSS LOG\"]\n",
    "#xsetlist = [otudfCssLog]\n",
    "#ysetlist = [wwfdf]\n",
    "\n",
    "sim_knn_bray_grid =runningsplittest(StratifiedKFold,knn_cv,index,xsetlist,ysetlist)"
   ]
  },
  {
   "cell_type": "code",
   "execution_count": null,
   "metadata": {
    "collapsed": true,
    "hidden": true
   },
   "outputs": [],
   "source": []
  },
  {
   "cell_type": "code",
   "execution_count": null,
   "metadata": {
    "collapsed": true,
    "hidden": true
   },
   "outputs": [],
   "source": [
    "dataset =dissim_knn_min_grid\n",
    "print(dataset.Confusion)\n",
    "print(\"\\n\")\n",
    "print(dataset.Parameters[0])"
   ]
  },
  {
   "cell_type": "code",
   "execution_count": null,
   "metadata": {
    "collapsed": true,
    "hidden": true
   },
   "outputs": [],
   "source": [
    "sim_knn_bray_grid.to_pickle(\"sim_knn_bray_grid\")\n",
    "#sim_knn_min_grid.to_pickle(\"sim_knn_min_grid\")"
   ]
  },
  {
   "cell_type": "markdown",
   "metadata": {
    "heading_collapsed": true
   },
   "source": [
    "# BART"
   ]
  },
  {
   "cell_type": "code",
   "execution_count": null,
   "metadata": {
    "collapsed": true,
    "hidden": true
   },
   "outputs": [],
   "source": [
    " pctrain,pctest,ytrain,ytest= train_test_split(pcoaOtu,wwfdf.Water,test_size = 0.2)\n",
    "ytrain =(ytrain ==\"White\")*1\n",
    "ytest =(ytest ==\"White\")*1"
   ]
  },
  {
   "cell_type": "code",
   "execution_count": null,
   "metadata": {
    "collapsed": true,
    "hidden": true
   },
   "outputs": [],
   "source": [
    "model = SklearnModel() # Use default parameters\n",
    "model.fit(pctrain, ytrain) # Fit the model\n",
    "#predictions = model.predict() # Make predictions on the train set\n",
    "#out_of_sample_predictions = model.predict(X_test) # Make predictions on new data"
   ]
  },
  {
   "cell_type": "markdown",
   "metadata": {},
   "source": [
    "# Parts of Rivers as labels"
   ]
  },
  {
   "cell_type": "markdown",
   "metadata": {},
   "source": [
    "Changing labels of prediction to parts of river. So we have a multiclass problem"
   ]
  },
  {
   "cell_type": "markdown",
   "metadata": {},
   "source": [
    "Trying KNN. We will be using the methods files"
   ]
  },
  {
   "cell_type": "code",
   "execution_count": 79,
   "metadata": {
    "collapsed": true
   },
   "outputs": [],
   "source": [
    "mth = importlib.reload(methods)"
   ]
  },
  {
   "cell_type": "code",
   "execution_count": 81,
   "metadata": {
    "collapsed": true
   },
   "outputs": [
    {
     "name": "stdout",
     "output_type": "stream",
     "text": [
      "0\n",
      "Same CV generator as train-test split\n",
      "0\n",
      "({'metric': 'braycurtis'},)\n",
      "Fitting 6 folds for each of 290 candidates, totalling 1740 fits\n"
     ]
    },
    {
     "name": "stderr",
     "output_type": "stream",
     "text": [
      "[Parallel(n_jobs=-1)]: Using backend LokyBackend with 4 concurrent workers.\n",
      "[Parallel(n_jobs=-1)]: Done  94 tasks      | elapsed:    3.1s\n",
      "[Parallel(n_jobs=-1)]: Done 1740 out of 1740 | elapsed:   10.4s finished\n",
      "/home/spanashis/anaconda2/envs/py36/lib/python3.6/site-packages/sklearn/model_selection/_search.py:841: DeprecationWarning: The default of the `iid` parameter will change from True to False in version 0.22 and will be removed in 0.24. This will change numeric results when test-set sizes are unequal.\n",
      "  DeprecationWarning)\n",
      "[Parallel(n_jobs=-1)]: Using backend LokyBackend with 4 concurrent workers.\n"
     ]
    },
    {
     "name": "stdout",
     "output_type": "stream",
     "text": [
      "[[3 0 0 0]\n",
      " [0 4 0 0]\n",
      " [2 0 6 3]\n",
      " [3 0 0 3]]\n",
      "1\n",
      "({'metric': 'braycurtis'},)\n",
      "Fitting 6 folds for each of 290 candidates, totalling 1740 fits\n"
     ]
    },
    {
     "name": "stderr",
     "output_type": "stream",
     "text": [
      "[Parallel(n_jobs=-1)]: Done 484 tasks      | elapsed:    2.3s\n",
      "[Parallel(n_jobs=-1)]: Done 1740 out of 1740 | elapsed:    7.5s finished\n",
      "/home/spanashis/anaconda2/envs/py36/lib/python3.6/site-packages/sklearn/model_selection/_search.py:841: DeprecationWarning: The default of the `iid` parameter will change from True to False in version 0.22 and will be removed in 0.24. This will change numeric results when test-set sizes are unequal.\n",
      "  DeprecationWarning)\n",
      "[Parallel(n_jobs=-1)]: Using backend LokyBackend with 4 concurrent workers.\n"
     ]
    },
    {
     "name": "stdout",
     "output_type": "stream",
     "text": [
      "[[2 0 0 1]\n",
      " [0 4 0 0]\n",
      " [1 0 9 1]\n",
      " [0 0 0 6]]\n",
      "2\n",
      "({'metric': 'braycurtis'},)\n",
      "Fitting 6 folds for each of 290 candidates, totalling 1740 fits\n"
     ]
    },
    {
     "name": "stderr",
     "output_type": "stream",
     "text": [
      "[Parallel(n_jobs=-1)]: Done 552 tasks      | elapsed:    2.4s\n",
      "[Parallel(n_jobs=-1)]: Done 1740 out of 1740 | elapsed:    7.3s finished\n",
      "/home/spanashis/anaconda2/envs/py36/lib/python3.6/site-packages/sklearn/model_selection/_search.py:841: DeprecationWarning: The default of the `iid` parameter will change from True to False in version 0.22 and will be removed in 0.24. This will change numeric results when test-set sizes are unequal.\n",
      "  DeprecationWarning)\n",
      "[Parallel(n_jobs=-1)]: Using backend LokyBackend with 4 concurrent workers.\n"
     ]
    },
    {
     "name": "stdout",
     "output_type": "stream",
     "text": [
      "[[3 0 0 0]\n",
      " [0 4 0 0]\n",
      " [0 4 7 0]\n",
      " [1 0 1 4]]\n",
      "3\n",
      "({'metric': 'braycurtis'},)\n",
      "Fitting 6 folds for each of 290 candidates, totalling 1740 fits\n"
     ]
    },
    {
     "name": "stderr",
     "output_type": "stream",
     "text": [
      "[Parallel(n_jobs=-1)]: Done 484 tasks      | elapsed:    2.2s\n",
      "[Parallel(n_jobs=-1)]: Done 1740 out of 1740 | elapsed:    7.5s finished\n",
      "/home/spanashis/anaconda2/envs/py36/lib/python3.6/site-packages/sklearn/model_selection/_search.py:841: DeprecationWarning: The default of the `iid` parameter will change from True to False in version 0.22 and will be removed in 0.24. This will change numeric results when test-set sizes are unequal.\n",
      "  DeprecationWarning)\n",
      "[Parallel(n_jobs=-1)]: Using backend LokyBackend with 4 concurrent workers.\n"
     ]
    },
    {
     "name": "stdout",
     "output_type": "stream",
     "text": [
      "[[3 0 0 0]\n",
      " [0 3 0 0]\n",
      " [3 0 5 3]\n",
      " [3 0 1 2]]\n",
      "4\n",
      "({'metric': 'braycurtis'},)\n",
      "Fitting 6 folds for each of 290 candidates, totalling 1740 fits\n"
     ]
    },
    {
     "name": "stderr",
     "output_type": "stream",
     "text": [
      "[Parallel(n_jobs=-1)]: Done 620 tasks      | elapsed:    2.8s\n",
      "[Parallel(n_jobs=-1)]: Done 1740 out of 1740 | elapsed:    7.9s finished\n",
      "/home/spanashis/anaconda2/envs/py36/lib/python3.6/site-packages/sklearn/model_selection/_search.py:841: DeprecationWarning: The default of the `iid` parameter will change from True to False in version 0.22 and will be removed in 0.24. This will change numeric results when test-set sizes are unequal.\n",
      "  DeprecationWarning)\n",
      "[Parallel(n_jobs=-1)]: Using backend LokyBackend with 4 concurrent workers.\n"
     ]
    },
    {
     "name": "stdout",
     "output_type": "stream",
     "text": [
      "[[1 0 0 2]\n",
      " [0 3 0 0]\n",
      " [0 0 7 4]\n",
      " [0 0 0 6]]\n",
      "5\n",
      "({'metric': 'braycurtis'},)\n",
      "Fitting 6 folds for each of 290 candidates, totalling 1740 fits\n"
     ]
    },
    {
     "name": "stderr",
     "output_type": "stream",
     "text": [
      "[Parallel(n_jobs=-1)]: Done 620 tasks      | elapsed:    2.9s\n",
      "[Parallel(n_jobs=-1)]: Done 1740 out of 1740 | elapsed:    7.4s finished\n",
      "/home/spanashis/anaconda2/envs/py36/lib/python3.6/site-packages/sklearn/model_selection/_search.py:841: DeprecationWarning: The default of the `iid` parameter will change from True to False in version 0.22 and will be removed in 0.24. This will change numeric results when test-set sizes are unequal.\n",
      "  DeprecationWarning)\n",
      "[Parallel(n_jobs=-1)]: Using backend LokyBackend with 4 concurrent workers.\n"
     ]
    },
    {
     "name": "stdout",
     "output_type": "stream",
     "text": [
      "[[ 2  0  0  1]\n",
      " [ 0  3  0  0]\n",
      " [ 0  0 11  0]\n",
      " [ 2  0  1  3]]\n",
      "6\n",
      "({'metric': 'braycurtis'},)\n",
      "Fitting 6 folds for each of 290 candidates, totalling 1740 fits\n"
     ]
    },
    {
     "name": "stderr",
     "output_type": "stream",
     "text": [
      "[Parallel(n_jobs=-1)]: Done 552 tasks      | elapsed:    2.5s\n",
      "[Parallel(n_jobs=-1)]: Done 1740 out of 1740 | elapsed:    7.3s finished\n",
      "/home/spanashis/anaconda2/envs/py36/lib/python3.6/site-packages/sklearn/model_selection/_search.py:841: DeprecationWarning: The default of the `iid` parameter will change from True to False in version 0.22 and will be removed in 0.24. This will change numeric results when test-set sizes are unequal.\n",
      "  DeprecationWarning)\n",
      "[Parallel(n_jobs=-1)]: Using backend LokyBackend with 4 concurrent workers.\n"
     ]
    },
    {
     "name": "stdout",
     "output_type": "stream",
     "text": [
      "[[ 0  0  2  1]\n",
      " [ 0  3  0  0]\n",
      " [ 0  0 11  0]\n",
      " [ 0  0  1  5]]\n",
      "1\n",
      "Same CV generator as train-test split\n",
      "0\n",
      "({'metric': 'braycurtis'},)\n",
      "Fitting 6 folds for each of 290 candidates, totalling 1740 fits\n"
     ]
    },
    {
     "name": "stderr",
     "output_type": "stream",
     "text": [
      "[Parallel(n_jobs=-1)]: Done 484 tasks      | elapsed:    2.4s\n",
      "[Parallel(n_jobs=-1)]: Done 1740 out of 1740 | elapsed:    8.1s finished\n",
      "/home/spanashis/anaconda2/envs/py36/lib/python3.6/site-packages/sklearn/model_selection/_search.py:841: DeprecationWarning: The default of the `iid` parameter will change from True to False in version 0.22 and will be removed in 0.24. This will change numeric results when test-set sizes are unequal.\n",
      "  DeprecationWarning)\n",
      "[Parallel(n_jobs=-1)]: Using backend LokyBackend with 4 concurrent workers.\n"
     ]
    },
    {
     "name": "stdout",
     "output_type": "stream",
     "text": [
      "[[3 0 0 0]\n",
      " [0 2 2 0]\n",
      " [0 0 8 3]\n",
      " [0 0 0 6]]\n",
      "1\n",
      "({'metric': 'braycurtis'},)\n",
      "Fitting 6 folds for each of 290 candidates, totalling 1740 fits\n"
     ]
    },
    {
     "name": "stderr",
     "output_type": "stream",
     "text": [
      "[Parallel(n_jobs=-1)]: Done 620 tasks      | elapsed:    3.0s\n",
      "[Parallel(n_jobs=-1)]: Done 1740 out of 1740 | elapsed:    7.9s finished\n",
      "/home/spanashis/anaconda2/envs/py36/lib/python3.6/site-packages/sklearn/model_selection/_search.py:841: DeprecationWarning: The default of the `iid` parameter will change from True to False in version 0.22 and will be removed in 0.24. This will change numeric results when test-set sizes are unequal.\n",
      "  DeprecationWarning)\n",
      "[Parallel(n_jobs=-1)]: Using backend LokyBackend with 4 concurrent workers.\n"
     ]
    },
    {
     "name": "stdout",
     "output_type": "stream",
     "text": [
      "[[ 2  0  1  0]\n",
      " [ 0  1  3  0]\n",
      " [ 0  0 10  1]\n",
      " [ 0  0  1  5]]\n",
      "2\n",
      "({'metric': 'braycurtis'},)\n",
      "Fitting 6 folds for each of 290 candidates, totalling 1740 fits\n"
     ]
    },
    {
     "name": "stderr",
     "output_type": "stream",
     "text": [
      "[Parallel(n_jobs=-1)]: Done 552 tasks      | elapsed:    2.6s\n",
      "[Parallel(n_jobs=-1)]: Done 1740 out of 1740 | elapsed:    7.9s finished\n",
      "/home/spanashis/anaconda2/envs/py36/lib/python3.6/site-packages/sklearn/model_selection/_search.py:841: DeprecationWarning: The default of the `iid` parameter will change from True to False in version 0.22 and will be removed in 0.24. This will change numeric results when test-set sizes are unequal.\n",
      "  DeprecationWarning)\n",
      "[Parallel(n_jobs=-1)]: Using backend LokyBackend with 4 concurrent workers.\n"
     ]
    },
    {
     "name": "stdout",
     "output_type": "stream",
     "text": [
      "[[2 0 1 0]\n",
      " [0 4 0 0]\n",
      " [0 4 7 0]\n",
      " [1 0 1 4]]\n",
      "3\n",
      "({'metric': 'braycurtis'},)\n",
      "Fitting 6 folds for each of 290 candidates, totalling 1740 fits\n"
     ]
    },
    {
     "name": "stderr",
     "output_type": "stream",
     "text": [
      "[Parallel(n_jobs=-1)]: Done 552 tasks      | elapsed:    2.7s\n",
      "[Parallel(n_jobs=-1)]: Done 1740 out of 1740 | elapsed:    8.0s finished\n",
      "/home/spanashis/anaconda2/envs/py36/lib/python3.6/site-packages/sklearn/model_selection/_search.py:841: DeprecationWarning: The default of the `iid` parameter will change from True to False in version 0.22 and will be removed in 0.24. This will change numeric results when test-set sizes are unequal.\n",
      "  DeprecationWarning)\n",
      "[Parallel(n_jobs=-1)]: Using backend LokyBackend with 4 concurrent workers.\n"
     ]
    },
    {
     "name": "stdout",
     "output_type": "stream",
     "text": [
      "[[3 0 0 0]\n",
      " [0 3 0 0]\n",
      " [1 0 2 8]\n",
      " [3 0 1 2]]\n",
      "4\n",
      "({'metric': 'braycurtis'},)\n",
      "Fitting 6 folds for each of 290 candidates, totalling 1740 fits\n"
     ]
    },
    {
     "name": "stderr",
     "output_type": "stream",
     "text": [
      "[Parallel(n_jobs=-1)]: Done 620 tasks      | elapsed:    3.0s\n",
      "[Parallel(n_jobs=-1)]: Done 1740 out of 1740 | elapsed:    8.0s finished\n",
      "/home/spanashis/anaconda2/envs/py36/lib/python3.6/site-packages/sklearn/model_selection/_search.py:841: DeprecationWarning: The default of the `iid` parameter will change from True to False in version 0.22 and will be removed in 0.24. This will change numeric results when test-set sizes are unequal.\n",
      "  DeprecationWarning)\n",
      "[Parallel(n_jobs=-1)]: Using backend LokyBackend with 4 concurrent workers.\n"
     ]
    },
    {
     "name": "stdout",
     "output_type": "stream",
     "text": [
      "[[3 0 0 0]\n",
      " [0 3 0 0]\n",
      " [0 0 6 5]\n",
      " [0 0 1 5]]\n",
      "5\n",
      "({'metric': 'braycurtis'},)\n",
      "Fitting 6 folds for each of 290 candidates, totalling 1740 fits\n"
     ]
    },
    {
     "name": "stderr",
     "output_type": "stream",
     "text": [
      "[Parallel(n_jobs=-1)]: Done 484 tasks      | elapsed:    2.4s\n",
      "[Parallel(n_jobs=-1)]: Done 1740 out of 1740 | elapsed:    8.0s finished\n",
      "/home/spanashis/anaconda2/envs/py36/lib/python3.6/site-packages/sklearn/model_selection/_search.py:841: DeprecationWarning: The default of the `iid` parameter will change from True to False in version 0.22 and will be removed in 0.24. This will change numeric results when test-set sizes are unequal.\n",
      "  DeprecationWarning)\n",
      "[Parallel(n_jobs=-1)]: Using backend LokyBackend with 4 concurrent workers.\n"
     ]
    },
    {
     "name": "stdout",
     "output_type": "stream",
     "text": [
      "[[ 2  0  0  1]\n",
      " [ 0  3  0  0]\n",
      " [ 0  0 11  0]\n",
      " [ 1  0  0  5]]\n",
      "6\n",
      "({'metric': 'braycurtis'},)\n",
      "Fitting 6 folds for each of 290 candidates, totalling 1740 fits\n"
     ]
    },
    {
     "name": "stderr",
     "output_type": "stream",
     "text": [
      "[Parallel(n_jobs=-1)]: Done 552 tasks      | elapsed:    2.7s\n",
      "[Parallel(n_jobs=-1)]: Done 1740 out of 1740 | elapsed:    8.0s finished\n",
      "/home/spanashis/anaconda2/envs/py36/lib/python3.6/site-packages/sklearn/model_selection/_search.py:841: DeprecationWarning: The default of the `iid` parameter will change from True to False in version 0.22 and will be removed in 0.24. This will change numeric results when test-set sizes are unequal.\n",
      "  DeprecationWarning)\n",
      "[Parallel(n_jobs=-1)]: Using backend LokyBackend with 4 concurrent workers.\n"
     ]
    },
    {
     "name": "stdout",
     "output_type": "stream",
     "text": [
      "[[ 0  0  1  2]\n",
      " [ 0  3  0  0]\n",
      " [ 0  0 11  0]\n",
      " [ 0  0  1  5]]\n",
      "2\n",
      "Same CV generator as train-test split\n",
      "0\n",
      "({'metric': 'braycurtis'},)\n",
      "Fitting 6 folds for each of 290 candidates, totalling 1740 fits\n"
     ]
    },
    {
     "name": "stderr",
     "output_type": "stream",
     "text": [
      "[Parallel(n_jobs=-1)]: Done 484 tasks      | elapsed:    2.2s\n",
      "[Parallel(n_jobs=-1)]: Done 1740 out of 1740 | elapsed:    7.4s finished\n",
      "/home/spanashis/anaconda2/envs/py36/lib/python3.6/site-packages/sklearn/model_selection/_search.py:841: DeprecationWarning: The default of the `iid` parameter will change from True to False in version 0.22 and will be removed in 0.24. This will change numeric results when test-set sizes are unequal.\n",
      "  DeprecationWarning)\n",
      "[Parallel(n_jobs=-1)]: Using backend LokyBackend with 4 concurrent workers.\n"
     ]
    },
    {
     "name": "stdout",
     "output_type": "stream",
     "text": [
      "[[3 0 0 0]\n",
      " [0 3 1 0]\n",
      " [0 0 4 7]\n",
      " [0 0 0 6]]\n",
      "1\n",
      "({'metric': 'braycurtis'},)\n",
      "Fitting 6 folds for each of 290 candidates, totalling 1740 fits\n"
     ]
    },
    {
     "name": "stderr",
     "output_type": "stream",
     "text": [
      "[Parallel(n_jobs=-1)]: Done 552 tasks      | elapsed:    2.5s\n",
      "[Parallel(n_jobs=-1)]: Done 1740 out of 1740 | elapsed:    7.4s finished\n",
      "/home/spanashis/anaconda2/envs/py36/lib/python3.6/site-packages/sklearn/model_selection/_search.py:841: DeprecationWarning: The default of the `iid` parameter will change from True to False in version 0.22 and will be removed in 0.24. This will change numeric results when test-set sizes are unequal.\n",
      "  DeprecationWarning)\n",
      "[Parallel(n_jobs=-1)]: Using backend LokyBackend with 4 concurrent workers.\n"
     ]
    },
    {
     "name": "stdout",
     "output_type": "stream",
     "text": [
      "[[3 0 0 0]\n",
      " [0 2 2 0]\n",
      " [0 0 9 2]\n",
      " [0 0 0 6]]\n",
      "2\n",
      "({'metric': 'braycurtis'},)\n",
      "Fitting 6 folds for each of 290 candidates, totalling 1740 fits\n"
     ]
    },
    {
     "name": "stderr",
     "output_type": "stream",
     "text": [
      "[Parallel(n_jobs=-1)]: Done 552 tasks      | elapsed:    2.4s\n",
      "[Parallel(n_jobs=-1)]: Done 1740 out of 1740 | elapsed:    7.4s finished\n",
      "/home/spanashis/anaconda2/envs/py36/lib/python3.6/site-packages/sklearn/model_selection/_search.py:841: DeprecationWarning: The default of the `iid` parameter will change from True to False in version 0.22 and will be removed in 0.24. This will change numeric results when test-set sizes are unequal.\n",
      "  DeprecationWarning)\n",
      "[Parallel(n_jobs=-1)]: Using backend LokyBackend with 4 concurrent workers.\n"
     ]
    },
    {
     "name": "stdout",
     "output_type": "stream",
     "text": [
      "[[3 0 0 0]\n",
      " [0 4 0 0]\n",
      " [0 3 4 4]\n",
      " [2 0 0 4]]\n",
      "3\n",
      "({'metric': 'braycurtis'},)\n",
      "Fitting 6 folds for each of 290 candidates, totalling 1740 fits\n"
     ]
    },
    {
     "name": "stderr",
     "output_type": "stream",
     "text": [
      "[Parallel(n_jobs=-1)]: Done 484 tasks      | elapsed:    2.2s\n",
      "[Parallel(n_jobs=-1)]: Done 1740 out of 1740 | elapsed:    7.4s finished\n",
      "/home/spanashis/anaconda2/envs/py36/lib/python3.6/site-packages/sklearn/model_selection/_search.py:841: DeprecationWarning: The default of the `iid` parameter will change from True to False in version 0.22 and will be removed in 0.24. This will change numeric results when test-set sizes are unequal.\n",
      "  DeprecationWarning)\n",
      "[Parallel(n_jobs=-1)]: Using backend LokyBackend with 4 concurrent workers.\n"
     ]
    },
    {
     "name": "stdout",
     "output_type": "stream",
     "text": [
      "[[0 0 3 0]\n",
      " [0 3 0 0]\n",
      " [1 0 6 4]\n",
      " [0 0 2 4]]\n",
      "4\n",
      "({'metric': 'braycurtis'},)\n",
      "Fitting 6 folds for each of 290 candidates, totalling 1740 fits\n"
     ]
    },
    {
     "name": "stderr",
     "output_type": "stream",
     "text": [
      "[Parallel(n_jobs=-1)]: Done 552 tasks      | elapsed:    2.5s\n",
      "[Parallel(n_jobs=-1)]: Done 1740 out of 1740 | elapsed:    7.4s finished\n",
      "/home/spanashis/anaconda2/envs/py36/lib/python3.6/site-packages/sklearn/model_selection/_search.py:841: DeprecationWarning: The default of the `iid` parameter will change from True to False in version 0.22 and will be removed in 0.24. This will change numeric results when test-set sizes are unequal.\n",
      "  DeprecationWarning)\n",
      "[Parallel(n_jobs=-1)]: Using backend LokyBackend with 4 concurrent workers.\n"
     ]
    },
    {
     "name": "stdout",
     "output_type": "stream",
     "text": [
      "[[2 0 0 1]\n",
      " [0 3 0 0]\n",
      " [1 0 9 1]\n",
      " [0 0 1 5]]\n",
      "5\n",
      "({'metric': 'braycurtis'},)\n",
      "Fitting 6 folds for each of 290 candidates, totalling 1740 fits\n"
     ]
    },
    {
     "name": "stderr",
     "output_type": "stream",
     "text": [
      "[Parallel(n_jobs=-1)]: Done 620 tasks      | elapsed:    2.7s\n",
      "[Parallel(n_jobs=-1)]: Done 1740 out of 1740 | elapsed:    7.4s finished\n",
      "/home/spanashis/anaconda2/envs/py36/lib/python3.6/site-packages/sklearn/model_selection/_search.py:841: DeprecationWarning: The default of the `iid` parameter will change from True to False in version 0.22 and will be removed in 0.24. This will change numeric results when test-set sizes are unequal.\n",
      "  DeprecationWarning)\n",
      "[Parallel(n_jobs=-1)]: Using backend LokyBackend with 4 concurrent workers.\n"
     ]
    },
    {
     "name": "stdout",
     "output_type": "stream",
     "text": [
      "[[ 2  0  0  1]\n",
      " [ 0  3  0  0]\n",
      " [ 0  0 11  0]\n",
      " [ 0  0  0  6]]\n",
      "6\n",
      "({'metric': 'braycurtis'},)\n",
      "Fitting 6 folds for each of 290 candidates, totalling 1740 fits\n"
     ]
    },
    {
     "name": "stderr",
     "output_type": "stream",
     "text": [
      "[Parallel(n_jobs=-1)]: Done 620 tasks      | elapsed:    2.8s\n"
     ]
    },
    {
     "name": "stdout",
     "output_type": "stream",
     "text": [
      "[[ 2  0  0  1]\n",
      " [ 0  3  0  0]\n",
      " [ 0  0 11  0]\n",
      " [ 0  0  0  6]]\n"
     ]
    },
    {
     "name": "stderr",
     "output_type": "stream",
     "text": [
      "[Parallel(n_jobs=-1)]: Done 1740 out of 1740 | elapsed:    7.8s finished\n",
      "/home/spanashis/anaconda2/envs/py36/lib/python3.6/site-packages/sklearn/model_selection/_search.py:841: DeprecationWarning: The default of the `iid` parameter will change from True to False in version 0.22 and will be removed in 0.24. This will change numeric results when test-set sizes are unequal.\n",
      "  DeprecationWarning)\n"
     ]
    }
   ],
   "source": [
    "index = [\"OTU\",\"OTU CSS\",\"OTU CSS LOG\"]\n",
    "xsetlist = [otudf,otudfCss,otudfCssLog]\n",
    "ysetlist =[wwfdf.river_label,wwfdf.river_label,wwfdf.river_label]\n",
    "# mth.runningsplittest(foldgenerator=StratifiedKFold,index=index,model_cv=mth.knn_cv,xsetlist=xsetlist,ysetlist=ysetlist)\n",
    "riv_knn_bray = mth.runningsplittest(foldgenerator=StratifiedKFold,index=index,model_cv=knn_cv,xsetlist=xsetlist,ysetlist=ysetlist,metric=\"braycurtis\")"
   ]
  },
  {
   "cell_type": "markdown",
   "metadata": {},
   "source": [
    "Random Forrest "
   ]
  },
  {
   "cell_type": "code",
   "execution_count": 84,
   "metadata": {},
   "outputs": [
    {
     "name": "stdout",
     "output_type": "stream",
     "text": [
      "0\n",
      "Same CV generator as train-test split\n",
      "0\n",
      "Fitting 6 folds for each of 16 candidates, totalling 96 fits\n"
     ]
    },
    {
     "name": "stderr",
     "output_type": "stream",
     "text": [
      "[Parallel(n_jobs=2)]: Using backend LokyBackend with 2 concurrent workers.\n",
      "[Parallel(n_jobs=2)]: Done  46 tasks      | elapsed:   15.4s\n",
      "[Parallel(n_jobs=2)]: Done  96 out of  96 | elapsed:   30.9s finished\n",
      "/home/spanashis/anaconda2/envs/py36/lib/python3.6/site-packages/sklearn/model_selection/_search.py:841: DeprecationWarning: The default of the `iid` parameter will change from True to False in version 0.22 and will be removed in 0.24. This will change numeric results when test-set sizes are unequal.\n",
      "  DeprecationWarning)\n"
     ]
    },
    {
     "name": "stdout",
     "output_type": "stream",
     "text": [
      "[[1 0 2 0]\n",
      " [0 0 4 0]\n",
      " [0 0 8 3]\n",
      " [0 0 3 3]]\n",
      "1\n",
      "Fitting 6 folds for each of 16 candidates, totalling 96 fits\n"
     ]
    },
    {
     "name": "stderr",
     "output_type": "stream",
     "text": [
      "[Parallel(n_jobs=2)]: Using backend LokyBackend with 2 concurrent workers.\n",
      "[Parallel(n_jobs=2)]: Done  46 tasks      | elapsed:   14.7s\n",
      "[Parallel(n_jobs=2)]: Done  96 out of  96 | elapsed:   30.6s finished\n",
      "/home/spanashis/anaconda2/envs/py36/lib/python3.6/site-packages/sklearn/model_selection/_search.py:841: DeprecationWarning: The default of the `iid` parameter will change from True to False in version 0.22 and will be removed in 0.24. This will change numeric results when test-set sizes are unequal.\n",
      "  DeprecationWarning)\n"
     ]
    },
    {
     "name": "stdout",
     "output_type": "stream",
     "text": [
      "[[ 3  0  0  0]\n",
      " [ 0  1  3  0]\n",
      " [ 0  0 11  0]\n",
      " [ 0  0  5  1]]\n",
      "2\n",
      "Fitting 6 folds for each of 16 candidates, totalling 96 fits\n"
     ]
    },
    {
     "name": "stderr",
     "output_type": "stream",
     "text": [
      "[Parallel(n_jobs=2)]: Using backend LokyBackend with 2 concurrent workers.\n",
      "[Parallel(n_jobs=2)]: Done  46 tasks      | elapsed:   14.5s\n",
      "[Parallel(n_jobs=2)]: Done  96 out of  96 | elapsed:   31.5s finished\n",
      "/home/spanashis/anaconda2/envs/py36/lib/python3.6/site-packages/sklearn/model_selection/_search.py:841: DeprecationWarning: The default of the `iid` parameter will change from True to False in version 0.22 and will be removed in 0.24. This will change numeric results when test-set sizes are unequal.\n",
      "  DeprecationWarning)\n"
     ]
    },
    {
     "name": "stdout",
     "output_type": "stream",
     "text": [
      "[[3 0 0 0]\n",
      " [0 4 0 0]\n",
      " [0 2 9 0]\n",
      " [0 0 4 2]]\n",
      "3\n",
      "Fitting 6 folds for each of 16 candidates, totalling 96 fits\n"
     ]
    },
    {
     "name": "stderr",
     "output_type": "stream",
     "text": [
      "[Parallel(n_jobs=2)]: Using backend LokyBackend with 2 concurrent workers.\n",
      "[Parallel(n_jobs=2)]: Done  46 tasks      | elapsed:   14.5s\n",
      "[Parallel(n_jobs=2)]: Done  96 out of  96 | elapsed:   34.6s finished\n",
      "/home/spanashis/anaconda2/envs/py36/lib/python3.6/site-packages/sklearn/model_selection/_search.py:841: DeprecationWarning: The default of the `iid` parameter will change from True to False in version 0.22 and will be removed in 0.24. This will change numeric results when test-set sizes are unequal.\n",
      "  DeprecationWarning)\n"
     ]
    },
    {
     "name": "stdout",
     "output_type": "stream",
     "text": [
      "[[ 2  0  1  0]\n",
      " [ 0  3  0  0]\n",
      " [ 0  0 10  1]\n",
      " [ 0  0  4  2]]\n",
      "4\n",
      "Fitting 6 folds for each of 16 candidates, totalling 96 fits\n"
     ]
    },
    {
     "name": "stderr",
     "output_type": "stream",
     "text": [
      "[Parallel(n_jobs=2)]: Using backend LokyBackend with 2 concurrent workers.\n",
      "[Parallel(n_jobs=2)]: Done  46 tasks      | elapsed:   14.1s\n",
      "[Parallel(n_jobs=2)]: Done  96 out of  96 | elapsed:   29.6s finished\n",
      "/home/spanashis/anaconda2/envs/py36/lib/python3.6/site-packages/sklearn/model_selection/_search.py:841: DeprecationWarning: The default of the `iid` parameter will change from True to False in version 0.22 and will be removed in 0.24. This will change numeric results when test-set sizes are unequal.\n",
      "  DeprecationWarning)\n"
     ]
    },
    {
     "name": "stdout",
     "output_type": "stream",
     "text": [
      "[[ 1  0  1  1]\n",
      " [ 0  3  0  0]\n",
      " [ 0  0 11  0]\n",
      " [ 0  0  4  2]]\n",
      "5\n",
      "Fitting 6 folds for each of 16 candidates, totalling 96 fits\n"
     ]
    },
    {
     "name": "stderr",
     "output_type": "stream",
     "text": [
      "[Parallel(n_jobs=2)]: Using backend LokyBackend with 2 concurrent workers.\n",
      "[Parallel(n_jobs=2)]: Done  46 tasks      | elapsed:   13.9s\n",
      "[Parallel(n_jobs=2)]: Done  96 out of  96 | elapsed:   29.3s finished\n",
      "/home/spanashis/anaconda2/envs/py36/lib/python3.6/site-packages/sklearn/model_selection/_search.py:841: DeprecationWarning: The default of the `iid` parameter will change from True to False in version 0.22 and will be removed in 0.24. This will change numeric results when test-set sizes are unequal.\n",
      "  DeprecationWarning)\n"
     ]
    },
    {
     "name": "stdout",
     "output_type": "stream",
     "text": [
      "[[ 1  0  0  2]\n",
      " [ 0  3  0  0]\n",
      " [ 0  0 11  0]\n",
      " [ 0  0  2  4]]\n",
      "6\n",
      "Fitting 6 folds for each of 16 candidates, totalling 96 fits\n"
     ]
    },
    {
     "name": "stderr",
     "output_type": "stream",
     "text": [
      "[Parallel(n_jobs=2)]: Using backend LokyBackend with 2 concurrent workers.\n",
      "[Parallel(n_jobs=2)]: Done  46 tasks      | elapsed:   17.0s\n",
      "[Parallel(n_jobs=2)]: Done  96 out of  96 | elapsed:   34.0s finished\n",
      "/home/spanashis/anaconda2/envs/py36/lib/python3.6/site-packages/sklearn/model_selection/_search.py:841: DeprecationWarning: The default of the `iid` parameter will change from True to False in version 0.22 and will be removed in 0.24. This will change numeric results when test-set sizes are unequal.\n",
      "  DeprecationWarning)\n"
     ]
    },
    {
     "name": "stdout",
     "output_type": "stream",
     "text": [
      "[[ 0  0  2  1]\n",
      " [ 0  3  0  0]\n",
      " [ 0  0 11  0]\n",
      " [ 0  0  1  5]]\n",
      "1\n",
      "Same CV generator as train-test split\n",
      "0\n",
      "Fitting 6 folds for each of 16 candidates, totalling 96 fits\n"
     ]
    },
    {
     "name": "stderr",
     "output_type": "stream",
     "text": [
      "[Parallel(n_jobs=2)]: Using backend LokyBackend with 2 concurrent workers.\n",
      "[Parallel(n_jobs=2)]: Done  46 tasks      | elapsed:   17.1s\n",
      "[Parallel(n_jobs=2)]: Done  96 out of  96 | elapsed:   33.8s finished\n",
      "/home/spanashis/anaconda2/envs/py36/lib/python3.6/site-packages/sklearn/model_selection/_search.py:841: DeprecationWarning: The default of the `iid` parameter will change from True to False in version 0.22 and will be removed in 0.24. This will change numeric results when test-set sizes are unequal.\n",
      "  DeprecationWarning)\n"
     ]
    },
    {
     "name": "stdout",
     "output_type": "stream",
     "text": [
      "[[1 0 2 0]\n",
      " [0 0 4 0]\n",
      " [0 0 9 2]\n",
      " [0 0 3 3]]\n",
      "1\n",
      "Fitting 6 folds for each of 16 candidates, totalling 96 fits\n"
     ]
    },
    {
     "name": "stderr",
     "output_type": "stream",
     "text": [
      "[Parallel(n_jobs=2)]: Using backend LokyBackend with 2 concurrent workers.\n",
      "[Parallel(n_jobs=2)]: Done  46 tasks      | elapsed:   14.9s\n",
      "[Parallel(n_jobs=2)]: Done  96 out of  96 | elapsed:   31.1s finished\n",
      "/home/spanashis/anaconda2/envs/py36/lib/python3.6/site-packages/sklearn/model_selection/_search.py:841: DeprecationWarning: The default of the `iid` parameter will change from True to False in version 0.22 and will be removed in 0.24. This will change numeric results when test-set sizes are unequal.\n",
      "  DeprecationWarning)\n"
     ]
    },
    {
     "name": "stdout",
     "output_type": "stream",
     "text": [
      "[[ 2  0  0  1]\n",
      " [ 0  1  3  0]\n",
      " [ 0  0 11  0]\n",
      " [ 0  0  6  0]]\n",
      "2\n",
      "Fitting 6 folds for each of 16 candidates, totalling 96 fits\n"
     ]
    },
    {
     "name": "stderr",
     "output_type": "stream",
     "text": [
      "[Parallel(n_jobs=2)]: Using backend LokyBackend with 2 concurrent workers.\n",
      "[Parallel(n_jobs=2)]: Done  46 tasks      | elapsed:   16.2s\n",
      "[Parallel(n_jobs=2)]: Done  96 out of  96 | elapsed:   33.1s finished\n",
      "/home/spanashis/anaconda2/envs/py36/lib/python3.6/site-packages/sklearn/model_selection/_search.py:841: DeprecationWarning: The default of the `iid` parameter will change from True to False in version 0.22 and will be removed in 0.24. This will change numeric results when test-set sizes are unequal.\n",
      "  DeprecationWarning)\n"
     ]
    },
    {
     "name": "stdout",
     "output_type": "stream",
     "text": [
      "[[3 0 0 0]\n",
      " [0 4 0 0]\n",
      " [0 2 9 0]\n",
      " [1 0 1 4]]\n",
      "3\n",
      "Fitting 6 folds for each of 16 candidates, totalling 96 fits\n"
     ]
    },
    {
     "name": "stderr",
     "output_type": "stream",
     "text": [
      "[Parallel(n_jobs=2)]: Using backend LokyBackend with 2 concurrent workers.\n",
      "[Parallel(n_jobs=2)]: Done  46 tasks      | elapsed:   14.9s\n",
      "[Parallel(n_jobs=2)]: Done  96 out of  96 | elapsed:   31.9s finished\n",
      "/home/spanashis/anaconda2/envs/py36/lib/python3.6/site-packages/sklearn/model_selection/_search.py:841: DeprecationWarning: The default of the `iid` parameter will change from True to False in version 0.22 and will be removed in 0.24. This will change numeric results when test-set sizes are unequal.\n",
      "  DeprecationWarning)\n"
     ]
    },
    {
     "name": "stdout",
     "output_type": "stream",
     "text": [
      "[[ 3  0  0  0]\n",
      " [ 0  3  0  0]\n",
      " [ 0  0 10  1]\n",
      " [ 0  0  4  2]]\n",
      "4\n",
      "Fitting 6 folds for each of 16 candidates, totalling 96 fits\n"
     ]
    },
    {
     "name": "stderr",
     "output_type": "stream",
     "text": [
      "[Parallel(n_jobs=2)]: Using backend LokyBackend with 2 concurrent workers.\n",
      "[Parallel(n_jobs=2)]: Done  46 tasks      | elapsed:   15.5s\n",
      "[Parallel(n_jobs=2)]: Done  96 out of  96 | elapsed:   31.5s finished\n",
      "/home/spanashis/anaconda2/envs/py36/lib/python3.6/site-packages/sklearn/model_selection/_search.py:841: DeprecationWarning: The default of the `iid` parameter will change from True to False in version 0.22 and will be removed in 0.24. This will change numeric results when test-set sizes are unequal.\n",
      "  DeprecationWarning)\n"
     ]
    },
    {
     "name": "stdout",
     "output_type": "stream",
     "text": [
      "[[ 2  0  1  0]\n",
      " [ 0  3  0  0]\n",
      " [ 1  0 10  0]\n",
      " [ 0  0  5  1]]\n",
      "5\n",
      "Fitting 6 folds for each of 16 candidates, totalling 96 fits\n"
     ]
    },
    {
     "name": "stderr",
     "output_type": "stream",
     "text": [
      "[Parallel(n_jobs=2)]: Using backend LokyBackend with 2 concurrent workers.\n",
      "[Parallel(n_jobs=2)]: Done  46 tasks      | elapsed:   19.9s\n",
      "[Parallel(n_jobs=2)]: Done  96 out of  96 | elapsed:   38.0s finished\n",
      "/home/spanashis/anaconda2/envs/py36/lib/python3.6/site-packages/sklearn/model_selection/_search.py:841: DeprecationWarning: The default of the `iid` parameter will change from True to False in version 0.22 and will be removed in 0.24. This will change numeric results when test-set sizes are unequal.\n",
      "  DeprecationWarning)\n"
     ]
    },
    {
     "name": "stdout",
     "output_type": "stream",
     "text": [
      "[[ 2  0  0  1]\n",
      " [ 0  3  0  0]\n",
      " [ 0  0 11  0]\n",
      " [ 0  0  4  2]]\n",
      "6\n",
      "Fitting 6 folds for each of 16 candidates, totalling 96 fits\n"
     ]
    },
    {
     "name": "stderr",
     "output_type": "stream",
     "text": [
      "[Parallel(n_jobs=2)]: Using backend LokyBackend with 2 concurrent workers.\n",
      "[Parallel(n_jobs=2)]: Done  46 tasks      | elapsed:   14.6s\n",
      "[Parallel(n_jobs=2)]: Done  96 out of  96 | elapsed:   31.0s finished\n",
      "/home/spanashis/anaconda2/envs/py36/lib/python3.6/site-packages/sklearn/model_selection/_search.py:841: DeprecationWarning: The default of the `iid` parameter will change from True to False in version 0.22 and will be removed in 0.24. This will change numeric results when test-set sizes are unequal.\n",
      "  DeprecationWarning)\n"
     ]
    },
    {
     "name": "stdout",
     "output_type": "stream",
     "text": [
      "[[ 0  0  2  1]\n",
      " [ 0  2  1  0]\n",
      " [ 0  0 11  0]\n",
      " [ 0  0  2  4]]\n",
      "2\n",
      "Same CV generator as train-test split\n",
      "0\n",
      "Fitting 6 folds for each of 16 candidates, totalling 96 fits\n"
     ]
    },
    {
     "name": "stderr",
     "output_type": "stream",
     "text": [
      "[Parallel(n_jobs=2)]: Using backend LokyBackend with 2 concurrent workers.\n",
      "[Parallel(n_jobs=2)]: Done  46 tasks      | elapsed:   14.6s\n",
      "[Parallel(n_jobs=2)]: Done  96 out of  96 | elapsed:   31.1s finished\n",
      "/home/spanashis/anaconda2/envs/py36/lib/python3.6/site-packages/sklearn/model_selection/_search.py:841: DeprecationWarning: The default of the `iid` parameter will change from True to False in version 0.22 and will be removed in 0.24. This will change numeric results when test-set sizes are unequal.\n",
      "  DeprecationWarning)\n"
     ]
    },
    {
     "name": "stdout",
     "output_type": "stream",
     "text": [
      "[[1 0 2 0]\n",
      " [0 0 4 0]\n",
      " [0 0 9 2]\n",
      " [0 0 3 3]]\n",
      "1\n",
      "Fitting 6 folds for each of 16 candidates, totalling 96 fits\n"
     ]
    },
    {
     "name": "stderr",
     "output_type": "stream",
     "text": [
      "[Parallel(n_jobs=2)]: Using backend LokyBackend with 2 concurrent workers.\n",
      "[Parallel(n_jobs=2)]: Done  46 tasks      | elapsed:   15.1s\n",
      "[Parallel(n_jobs=2)]: Done  96 out of  96 | elapsed:   30.8s finished\n",
      "/home/spanashis/anaconda2/envs/py36/lib/python3.6/site-packages/sklearn/model_selection/_search.py:841: DeprecationWarning: The default of the `iid` parameter will change from True to False in version 0.22 and will be removed in 0.24. This will change numeric results when test-set sizes are unequal.\n",
      "  DeprecationWarning)\n"
     ]
    },
    {
     "name": "stdout",
     "output_type": "stream",
     "text": [
      "[[ 2  0  0  1]\n",
      " [ 0  1  3  0]\n",
      " [ 0  0 11  0]\n",
      " [ 0  0  6  0]]\n",
      "2\n",
      "Fitting 6 folds for each of 16 candidates, totalling 96 fits\n"
     ]
    },
    {
     "name": "stderr",
     "output_type": "stream",
     "text": [
      "[Parallel(n_jobs=2)]: Using backend LokyBackend with 2 concurrent workers.\n",
      "[Parallel(n_jobs=2)]: Done  46 tasks      | elapsed:   14.2s\n",
      "[Parallel(n_jobs=2)]: Done  96 out of  96 | elapsed:   30.4s finished\n",
      "/home/spanashis/anaconda2/envs/py36/lib/python3.6/site-packages/sklearn/model_selection/_search.py:841: DeprecationWarning: The default of the `iid` parameter will change from True to False in version 0.22 and will be removed in 0.24. This will change numeric results when test-set sizes are unequal.\n",
      "  DeprecationWarning)\n"
     ]
    },
    {
     "name": "stdout",
     "output_type": "stream",
     "text": [
      "[[3 0 0 0]\n",
      " [0 4 0 0]\n",
      " [0 2 9 0]\n",
      " [1 0 1 4]]\n",
      "3\n",
      "Fitting 6 folds for each of 16 candidates, totalling 96 fits\n"
     ]
    },
    {
     "name": "stderr",
     "output_type": "stream",
     "text": [
      "[Parallel(n_jobs=2)]: Using backend LokyBackend with 2 concurrent workers.\n",
      "[Parallel(n_jobs=2)]: Done  46 tasks      | elapsed:   14.3s\n",
      "[Parallel(n_jobs=2)]: Done  96 out of  96 | elapsed:   31.0s finished\n",
      "/home/spanashis/anaconda2/envs/py36/lib/python3.6/site-packages/sklearn/model_selection/_search.py:841: DeprecationWarning: The default of the `iid` parameter will change from True to False in version 0.22 and will be removed in 0.24. This will change numeric results when test-set sizes are unequal.\n",
      "  DeprecationWarning)\n"
     ]
    },
    {
     "name": "stdout",
     "output_type": "stream",
     "text": [
      "[[ 3  0  0  0]\n",
      " [ 0  3  0  0]\n",
      " [ 1  0 10  0]\n",
      " [ 0  0  4  2]]\n",
      "4\n",
      "Fitting 6 folds for each of 16 candidates, totalling 96 fits\n"
     ]
    },
    {
     "name": "stderr",
     "output_type": "stream",
     "text": [
      "[Parallel(n_jobs=2)]: Using backend LokyBackend with 2 concurrent workers.\n",
      "[Parallel(n_jobs=2)]: Done  46 tasks      | elapsed:   14.8s\n",
      "[Parallel(n_jobs=2)]: Done  96 out of  96 | elapsed:   30.5s finished\n",
      "/home/spanashis/anaconda2/envs/py36/lib/python3.6/site-packages/sklearn/model_selection/_search.py:841: DeprecationWarning: The default of the `iid` parameter will change from True to False in version 0.22 and will be removed in 0.24. This will change numeric results when test-set sizes are unequal.\n",
      "  DeprecationWarning)\n"
     ]
    },
    {
     "name": "stdout",
     "output_type": "stream",
     "text": [
      "[[ 1  0  1  1]\n",
      " [ 0  3  0  0]\n",
      " [ 1  0 10  0]\n",
      " [ 0  0  4  2]]\n",
      "5\n",
      "Fitting 6 folds for each of 16 candidates, totalling 96 fits\n"
     ]
    },
    {
     "name": "stderr",
     "output_type": "stream",
     "text": [
      "[Parallel(n_jobs=2)]: Using backend LokyBackend with 2 concurrent workers.\n",
      "[Parallel(n_jobs=2)]: Done  46 tasks      | elapsed:   14.3s\n",
      "[Parallel(n_jobs=2)]: Done  96 out of  96 | elapsed:   30.1s finished\n",
      "/home/spanashis/anaconda2/envs/py36/lib/python3.6/site-packages/sklearn/model_selection/_search.py:841: DeprecationWarning: The default of the `iid` parameter will change from True to False in version 0.22 and will be removed in 0.24. This will change numeric results when test-set sizes are unequal.\n",
      "  DeprecationWarning)\n"
     ]
    },
    {
     "name": "stdout",
     "output_type": "stream",
     "text": [
      "[[ 2  0  0  1]\n",
      " [ 0  3  0  0]\n",
      " [ 0  0 11  0]\n",
      " [ 0  0  4  2]]\n",
      "6\n",
      "Fitting 6 folds for each of 16 candidates, totalling 96 fits\n"
     ]
    },
    {
     "name": "stderr",
     "output_type": "stream",
     "text": [
      "[Parallel(n_jobs=2)]: Using backend LokyBackend with 2 concurrent workers.\n",
      "[Parallel(n_jobs=2)]: Done  46 tasks      | elapsed:   14.5s\n"
     ]
    },
    {
     "name": "stdout",
     "output_type": "stream",
     "text": [
      "[[ 0  0  2  1]\n",
      " [ 0  3  0  0]\n",
      " [ 0  0 11  0]\n",
      " [ 0  0  2  4]]\n"
     ]
    },
    {
     "name": "stderr",
     "output_type": "stream",
     "text": [
      "[Parallel(n_jobs=2)]: Done  96 out of  96 | elapsed:   30.6s finished\n",
      "/home/spanashis/anaconda2/envs/py36/lib/python3.6/site-packages/sklearn/model_selection/_search.py:841: DeprecationWarning: The default of the `iid` parameter will change from True to False in version 0.22 and will be removed in 0.24. This will change numeric results when test-set sizes are unequal.\n",
      "  DeprecationWarning)\n"
     ]
    }
   ],
   "source": [
    "index = [\"OTU\",\"OTU CSS\",\"OTU CSS LOG\"]\n",
    "xsetlist = [otudf,otudfCss,otudfCssLog]\n",
    "ysetlist =[wwfdf.river_label,wwfdf.river_label,wwfdf.river_label]\n",
    "# mth.runningsplittest(foldgenerator=StratifiedKFold,index=index,model_cv=mth.knn_cv,xsetlist=xsetlist,ysetlist=ysetlist)\n",
    "riv_rf = mth.runningsplittest(foldgenerator=StratifiedKFold,index=index,model_cv=mth.rfr_cv,xsetlist=xsetlist,ysetlist=ysetlist)"
   ]
  },
  {
   "cell_type": "markdown",
   "metadata": {},
   "source": [
    "# Opening dataframes"
   ]
  },
  {
   "cell_type": "code",
   "execution_count": null,
   "metadata": {
    "collapsed": true
   },
   "outputs": [],
   "source": [
    "dissim_log_df =pd.read_pickle(\"dis_log\")\n",
    "dissim_rfr_df = pd.read_pickle(\"dis_rfr\")\n",
    "sim_log_df = pd.read_pickle(\"sim_log\")\n",
    "sim_rfr_df= pd.read_pickle(\"sim_rf\")\n",
    "rand_rfr_df = pd.read_pickle(\"rand_rfr\")\n",
    "rand_log_df = pd.read_pickle(\"rand_log\")\n",
    "sim_logl2_df =pd.read_pickle(\"sim_logl2_df\")\n",
    "dissim_logl2_df =pd.read_pickle(\"dissim_logl2_df\")\n",
    "dissim_knn_bray_grid = pd.read_pickle(\"dissim_knn_bray_grid\")\n",
    "dissim_knn_min_grid = pd.read_pickle(\"dissim_knn_min_grid\")\n",
    "sim_knn_min_grid = pd.read_pickle(\"sim_knn_min_grid\")\n",
    "sim_knn_bray_grid = pd.read_pickle(\"sim_knn_bray_grid\")"
   ]
  },
  {
   "cell_type": "code",
   "execution_count": null,
   "metadata": {
    "collapsed": true
   },
   "outputs": [],
   "source": [
    "dissim_baysl2 = pd.read_pickle(\"dissim_baysl2\")"
   ]
  },
  {
   "cell_type": "code",
   "execution_count": null,
   "metadata": {
    "collapsed": true
   },
   "outputs": [],
   "source": [
    "def printoutdataframe(dataframe):\n",
    "    for j,i in enumerate(dataframe.Confusion):\n",
    "        print(dataframe.index[j])\n",
    "        print(i)\n",
    "        acc = (i[0,0]+i[1,1])/i.sum()\n",
    "        print(round(acc,4))"
   ]
  },
  {
   "cell_type": "code",
   "execution_count": 82,
   "metadata": {
    "collapsed": true
   },
   "outputs": [],
   "source": [
    "def riverslabelvisualisation(dataframe):\n",
    "    \"\"\"\n",
    "    Input:\n",
    "    Dataframe: A pandas dataframe of results from runningsplittest\n",
    "    Output:\n",
    "    A plot of confusion matrix\"\"\"\n",
    "    sns.set(font_scale=1.4)#for label size\n",
    "    for j,i in enumerate(dataframe.Confusion):\n",
    "        print(dataframe.index[j])\n",
    "    \n",
    "        df_cm = pd.DataFrame(i, index = [\"Black\",\"UMar\",\"MLMar,Uc\",\"Tap,Nap,Hua\"],\n",
    "                             columns=[\"Black\",\"UMar\",\"MLMar,Uc\",\"Tap,Nap,Hua\"])\n",
    "        #plt.figure(figsize = (10,7))\n",
    "        plt.title(dataframe.index[j])\n",
    "        sns.heatmap(df_cm, annot=True,annot_kws={\"size\": 16},cmap =sns.cm.rocket_r)\n",
    "        plt.xlabel(\"Predicted\")\n",
    "        plt.ylabel(\"True\")\n",
    "        plt.show()"
   ]
  },
  {
   "cell_type": "code",
   "execution_count": null,
   "metadata": {
    "collapsed": true
   },
   "outputs": [],
   "source": [
    "def zero_params(x):\n",
    "    zeroes =[]\n",
    "    for i in x:\n",
    "        zeroes.append((i == 0).sum()/i.shape[1] )\n",
    "    zeroes = np.array(zeroes).mean()\n",
    "    return(zeroes)\n",
    "dataframe = dissim_log_df\n",
    "dataframe.Coefficients.apply(lambda x:zero_params(x))\n",
    "    "
   ]
  },
  {
   "cell_type": "code",
   "execution_count": null,
   "metadata": {
    "collapsed": true
   },
   "outputs": [],
   "source": [
    "index = [\"OTU\",\"OTU CSS\",\"OTU CSS LOG\"]\n",
    "\n",
    "acv_coef =[]\n",
    "for k in range(7):\n",
    "    first_coef =[]\n",
    "    for i in dissim_log_df.Coefficients[index]:\n",
    "        #print(i)\n",
    "        first_coef.append((i[k]==0.0)*1)\n",
    "    commonz=[]  \n",
    "    for j in range(first_coef[0].shape[1]):\n",
    "\n",
    "        commonz.append(np.all(first_coef[0][0,j] == first_coef[1][0,j]==first_coef[2][0,j] == 0))\n",
    "    acv_coef.append( np.array(commonz).mean())\n",
    "np.array(acv_coef).mean()\n"
   ]
  },
  {
   "cell_type": "code",
   "execution_count": null,
   "metadata": {
    "collapsed": true
   },
   "outputs": [],
   "source": [
    "dataframe = dissim_baysl2\n",
    "\n",
    "for j,i in enumerate(dataframe.Confusion):\n",
    "    print(dataframe.index[j])\n",
    "    print(i)\n",
    "    acc = (i[0,0]+i[1,1])/i.sum()\n",
    "    print(round(acc,4))"
   ]
  },
  {
   "cell_type": "markdown",
   "metadata": {},
   "source": [
    "## LR"
   ]
  },
  {
   "cell_type": "code",
   "execution_count": null,
   "metadata": {
    "collapsed": true
   },
   "outputs": [],
   "source": [
    "display(Markdown(\"### LR DIS\"))\n",
    "printoutdataframe( dis_logl2_fish)"
   ]
  },
  {
   "cell_type": "code",
   "execution_count": null,
   "metadata": {
    "collapsed": true
   },
   "outputs": [],
   "source": [
    "display(Markdown(\"### LR SIM \"))\n",
    "printoutdataframe( sim_logl2_fish)"
   ]
  },
  {
   "cell_type": "markdown",
   "metadata": {},
   "source": [
    "## RFR"
   ]
  },
  {
   "cell_type": "code",
   "execution_count": null,
   "metadata": {
    "collapsed": true
   },
   "outputs": [],
   "source": [
    "display(Markdown(\"### RFR DIS\"))\n",
    "printoutdataframe( dis_rfr_fish)"
   ]
  },
  {
   "cell_type": "code",
   "execution_count": null,
   "metadata": {
    "collapsed": true
   },
   "outputs": [],
   "source": [
    "display(Markdown(\"### RFR SIM\"))\n",
    "printoutdataframe( sim_rfr_fish)"
   ]
  },
  {
   "cell_type": "markdown",
   "metadata": {},
   "source": [
    "## KNN"
   ]
  },
  {
   "cell_type": "code",
   "execution_count": null,
   "metadata": {
    "collapsed": true
   },
   "outputs": [],
   "source": [
    "display(Markdown(\"### KNN minkowski DIS\"))\n",
    "printoutdataframe( dis_knn_min_grid_fish)"
   ]
  },
  {
   "cell_type": "code",
   "execution_count": null,
   "metadata": {
    "collapsed": true
   },
   "outputs": [],
   "source": [
    "display(Markdown(\"### KNN minkowski SIM\"))\n",
    "printoutdataframe( sim_knn_min_grid_fish)"
   ]
  },
  {
   "cell_type": "code",
   "execution_count": null,
   "metadata": {
    "collapsed": true
   },
   "outputs": [],
   "source": [
    "display(Markdown(\"### KNN braycurtis DIS\"))\n",
    "printoutdataframe( dissim_knn_bray_grid)"
   ]
  },
  {
   "cell_type": "code",
   "execution_count": null,
   "metadata": {
    "collapsed": true
   },
   "outputs": [],
   "source": [
    "display(Markdown(\"### KNN bray SIM\"))\n",
    "printoutdataframe( sim_knn_min_grid)"
   ]
  },
  {
   "cell_type": "code",
   "execution_count": 44,
   "metadata": {},
   "outputs": [
    {
     "name": "stdout",
     "output_type": "stream",
     "text": [
      "OTU\n"
     ]
    },
    {
     "data": {
      "image/png": "[encoded data removed]",
      "text/plain": [
       "<Figure size 432x288 with 2 Axes>"
      ]
     },
     "metadata": {},
     "output_type": "display_data"
    },
    {
     "name": "stdout",
     "output_type": "stream",
     "text": [
      "OTU CSS\n"
     ]
    },
    {
     "data": {
      "image/png": "[encoded data removed]",
      "text/plain": [
       "<Figure size 432x288 with 2 Axes>"
      ]
     },
     "metadata": {},
     "output_type": "display_data"
    },
    {
     "name": "stdout",
     "output_type": "stream",
     "text": [
      "OTU CSS LOG\n"
     ]
    },
    {
     "data": {
      "image/png": "[encoded data removed]",
      "text/plain": [
       "<Figure size 432x288 with 2 Axes>"
      ]
     },
     "metadata": {},
     "output_type": "display_data"
    }
   ],
   "source": [
    "riverslabelvisualisation(riv_knn)"
   ]
  },
  {
   "cell_type": "markdown",
   "metadata": {},
   "source": [
    "knn bray"
   ]
  },
  {
   "cell_type": "code",
   "execution_count": 85,
   "metadata": {},
   "outputs": [
    {
     "name": "stdout",
     "output_type": "stream",
     "text": [
      "OTU\n"
     ]
    },
    {
     "data": {
      "image/png": "[encoded data removed]",
      "text/plain": [
       "<Figure size 432x288 with 2 Axes>"
      ]
     },
     "metadata": {},
     "output_type": "display_data"
    },
    {
     "name": "stdout",
     "output_type": "stream",
     "text": [
      "OTU CSS\n"
     ]
    },
    {
     "data": {
      "image/png": "[encoded data removed]",
      "text/plain": [
       "<Figure size 432x288 with 2 Axes>"
      ]
     },
     "metadata": {},
     "output_type": "display_data"
    },
    {
     "name": "stdout",
     "output_type": "stream",
     "text": [
      "OTU CSS LOG\n"
     ]
    },
    {
     "data": {
      "image/png": "[encoded data removed]",
      "text/plain": [
       "<Figure size 432x288 with 2 Axes>"
      ]
     },
     "metadata": {},
     "output_type": "display_data"
    }
   ],
   "source": [
    "riverslabelvisualisation(riv_rf)"
   ]
  },
  {
   "cell_type": "markdown",
   "metadata": {},
   "source": [
    "# Taxa exploration"
   ]
  },
  {
   "cell_type": "code",
   "execution_count": null,
   "metadata": {
    "collapsed": true
   },
   "outputs": [],
   "source": [
    "index_of_coefficients =np.argsort(similarity_rfr_df.Coefficients[\"OTU\"])\n",
    "meancoefficients =np.array(similarity_rfr_df.Coefficients[\"OTU\"]).mean(axis =0)\n",
    "taxadf[\"Coefficients\"] = meancoefficients\n",
    "sum_per_class =taxadf.groupby(by = \"Order\").mean().sum()\n",
    "(taxadf.groupby(by = \"Order\").mean()/sum_per_class).plot.pie(y = \"Coefficients\",figsize =(10,10))"
   ]
  },
  {
   "cell_type": "code",
   "execution_count": null,
   "metadata": {
    "collapsed": true
   },
   "outputs": [],
   "source": [
    "#dataframe = diffsimilarity_rfr_df\n",
    "def scaledtaxamethod(dataframe,taxon_level=\"Order\",taxa = taxadf,index = [\"OTU\",\"OTU CSS\",\"OTU MIN CSS\",\"OTU CSS LOG\"]):\n",
    "    \"\"\"\n",
    "    Input\n",
    "    dataframe: Dataframe from runningsplittest method\n",
    "    \"\"\"\n",
    "    #taxon_level = \"Order\"\n",
    "    taxa_dataf = taxa.copy()\n",
    "    # get index of dataframe\n",
    "    index = dataframe.index\n",
    "    for i in index:\n",
    "        mean_of_folds =np.abs(np.array(dataframe.Coefficients[i])).mean(axis =0)\n",
    "        print(mean_of_folds.shape)\n",
    "        taxa_dataf[i] = mean_of_folds\n",
    "    # To change aggregate change the mean taxa by level. If its set to sum then it sums, if mean then the average is found\n",
    "    mean_taxa_by_level = taxa_dataf.groupby(by=taxon_level).sum()\n",
    "    scaled_taxa_by_level =mean_taxa_by_level/mean_taxa_by_level.sum()\n",
    "    return(scaled_taxa_by_level)"
   ]
  },
  {
   "cell_type": "code",
   "execution_count": null,
   "metadata": {
    "code_folding": [],
    "collapsed": true
   },
   "outputs": [],
   "source": [
    "%matplotlib inline\n",
    "def func(pct):\n",
    "    if pct >=5:\n",
    "        return \"{:.1f}%\".format(pct)\n",
    "    else:\n",
    "        return(\"\")\n",
    "def pieplots(scaled_taxa,ax_titles,filenameprefix):\n",
    "    shape_of_df = scaled_taxa.shape\n",
    "    colord =20\n",
    "    scaled_taxa_by_level_color = np.arange(0,shape_of_df[0])%colord\n",
    "    col_to_plot =scaled_taxa.columns\n",
    "    #ax_titles = [\"Similarity OTU\",\"Similarity OTU CSS\", \"Similarity OTU MIN CSS\",\"Dissimilarity OTU\",\"Dissimilarity OTU CSS\", \"Dissimilarity OTU MIN CSS\"]\n",
    "    #fig,axes = plt.subplots(nrows = 3,ncols=2,figsize=(20,30))\n",
    "    \n",
    "    cmap = plt.get_cmap('tab20')\n",
    "    colors = [cmap(i) for i in np.linspace(0,1,colord)]\n",
    "    plt.rcParams.update({'font.size': 20})\n",
    "\n",
    "    #axes.set_color_cycle(colors)\n",
    "    for i,j in enumerate(col_to_plot):\n",
    "        print(j)\n",
    "        #ax = axes[i%3,i//3]\n",
    "        fig = plt.figure(figsize=(10,10))\n",
    "        ax = plt.axes()\n",
    "        sortedindx = np.argsort(scaled_taxa[j])\n",
    "        sortedcolor = [colors[k] for k in scaled_taxa_by_level_color[sortedindx]]\n",
    "        sortedlabels =scaled_taxa.index[sortedindx].values\n",
    "        sortedlabels[0:-6] =\"\"\n",
    "        ax.pie(x = scaled_taxa[j][sortedindx],labels=sortedlabels,colors=sortedcolor,startangle=30, autopct=lambda pct: func(pct))\n",
    "        ax.set_title(ax_titles[i],fontsize = 20)\n",
    "        fig.savefig(fname=filenameprefix+j+\".png\",transparent=True,dpi=300)\n",
    "        #scaled_taxa_by_level.plot.pie(y=i,legend =False,figsize=(10,10))\n",
    "    #fig.suptitle(figure_title,fontsize=22,y=0.93)   \n",
    "    #fig.subplots_adjust(wspace=0.01)\n",
    "    #fig.savefig(figure_name,transparent=True,dpi = 300)"
   ]
  },
  {
   "cell_type": "code",
   "execution_count": null,
   "metadata": {
    "collapsed": true
   },
   "outputs": [],
   "source": [
    "col_to_plot = [\"Dissimilarity Fish\",\"Dissimilarity Fish CSS\",\n",
    "               \"Dissimilarity Fish CSS LOG\"]\n",
    "#scaledtaxamethod(dissim_rfr_df)\n",
    "pieplots(scaledtaxamethod(dis_rfr_fish,taxa=taxadf.loc[fishdf.columns]),col_to_plot,\"rfr_dis_fish_sum_pie\")"
   ]
  },
  {
   "cell_type": "code",
   "execution_count": null,
   "metadata": {
    "collapsed": true,
    "scrolled": true
   },
   "outputs": [],
   "source": [
    "sim_log_df"
   ]
  },
  {
   "cell_type": "code",
   "execution_count": null,
   "metadata": {
    "collapsed": true
   },
   "outputs": [],
   "source": [
    "col_to_plot=[\"Similarity OTU\",\"Similarity OTU CSS\",\"Similarity OTU MIN CSS\"]\n",
    "pieplots(scaled_taxa_by_level,None,\"rfr_order_pie\")"
   ]
  },
  {
   "cell_type": "code",
   "execution_count": null,
   "metadata": {
    "collapsed": true
   },
   "outputs": [],
   "source": [
    "scaled_taxa = taxadf.groupby(\"Order\").count()\n",
    "shape_of_df = scaled_taxa.shape\n",
    "scaled_taxa_by_level_color = np.arange(0,shape_of_df[0])%10\n",
    "col_to_plot =[scaled_taxa.columns[0]]\n",
    "#ax_titles = [\"Similarity OTU\",\"Similarity OTU CSS\", \"Similarity OTU MIN CSS\",\"Dissimilarity OTU\",\"Dissimilarity OTU CSS\", \"Dissimilarity OTU MIN CSS\"]\n",
    "#fig,axes = plt.subplots(nrows = 3,ncols=2,figsize=(20,30))\n",
    "\n",
    "cmap = plt.get_cmap('tab10')\n",
    "colors = [cmap(i) for i in np.linspace(0,1,10)]\n",
    "plt.rcParams.update({'font.size': 15})\n",
    "\n",
    "#axes.set_color_cycle(colors)\n",
    "for i,j in enumerate(col_to_plot):\n",
    "    #ax = axes[i%3,i//3]\n",
    "    fig = plt.figure(figsize=(10,10))\n",
    "    ax = plt.axes()\n",
    "    sortedindx = np.argsort(scaled_taxa[j])\n",
    "    sortedcolor = [colors[k] for k in scaled_taxa_by_level_color[sortedindx]]\n",
    "    sortedlabels =scaled_taxa.index[sortedindx].values\n",
    "    sortedlabels[0:-6] =\"\"\n",
    "    ax.pie(x = scaled_taxa[j][sortedindx],labels=sortedlabels,colors=sortedcolor,startangle=30\n",
    "          ,autopct=lambda p:  '{:.0f}'.format(p * 675 / 100) if p >= 2.90 else \"\")\n",
    "    ax.set_title(\"Order distribution\",fontsize = 20)\n",
    "    fig.savefig(fname=\"orderdistrpie.png\",transparent=True,dpi=300)"
   ]
  }
 ],
 "metadata": {
  "kernelspec": {
   "display_name": "Python 3",
   "language": "python",
   "name": "py36"
  },
  "language_info": {
   "codemirror_mode": {
    "name": "ipython",
    "version": 3
   },
   "file_extension": ".py",
   "mimetype": "text/x-python",
   "name": "python",
   "nbconvert_exporter": "python",
   "pygments_lexer": "ipython3",
   "version": "3.6.8"
  },
  "varInspector": {
   "cols": {
    "lenName": 16,
    "lenType": 16,
    "lenVar": 40
   },
   "kernels_config": {
    "python": {
     "delete_cmd_postfix": "",
     "delete_cmd_prefix": "del ",
     "library": "var_list.py",
     "varRefreshCmd": "print(var_dic_list())"
    },
    "r": {
     "delete_cmd_postfix": ") ",
     "delete_cmd_prefix": "rm(",
     "library": "var_list.r",
     "varRefreshCmd": "cat(var_dic_list()) "
    }
   },
   "types_to_exclude": [
    "module",
    "function",
    "builtin_function_or_method",
    "instance",
    "_Feature"
   ],
   "window_display": false
  }
 },
 "nbformat": 4,
 "nbformat_minor": 2
}
