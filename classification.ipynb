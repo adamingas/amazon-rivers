{
 "cells": [
  {
   "cell_type": "code",
   "execution_count": 1,
   "metadata": {},
   "outputs": [],
   "source": [
    "import numpy as np\n",
    "import pandas as pd\n",
    "from sklearn.linear_model import LogisticRegression\n",
    "from sklearn.model_selection import train_test_split\n",
    "import pymc3 as pm\n",
    "import theano.tensor as tt\n",
    "from sklearn.model_selection import cross_val_score, GridSearchCV\n",
    "from sklearn.ensemble import RandomForestClassifier\n",
    "from sklearn.preprocessing import MinMaxScaler\n",
    "import matplotlib.pyplot as plt\n",
    "import seaborn as sns"
   ]
  },
  {
   "cell_type": "markdown",
   "metadata": {},
   "source": [
    "# Data manipulation\n",
    "Importing data, splitting it to train and test (because of the imbalance between white and black water it would be better if we set a minimum of black points in the test and train)"
   ]
  },
  {
   "cell_type": "code",
   "execution_count": 3,
   "metadata": {},
   "outputs": [],
   "source": [
    "otudf =pd.read_csv(filepath_or_buffer=\"/home/spanashis/Documents/Stats/Project/amazon-rivers/otudf\",index_col=0)\n",
    "wwfdf = pd.read_csv(filepath_or_buffer=\"/home/spanashis/Documents/Stats/Project/amazon-rivers/wwfdf\",encoding=\"ISO-8859-1\",index_col = \"ID\")\n",
    "nmds20  = pd.read_csv(filepath_or_buffer=\"/home/spanashis/Documents/Stats/Project/amazon-rivers/nmds20dim\",index_col=0)\n",
    "# Black water sites. There are 21 black water sites and 143 white water\n",
    "blackindex = wwfdf[wwfdf[\"Water\"] == \"Black\"].index\n",
    "\n",
    "# Splitting training and test data\n",
    "np.random.seed(11235)\n",
    "X_train,X_test,y_train,y_test = train_test_split(otudf,wwfdf.Water,test_size = 0.2)\n",
    "np.random.seed(11235)\n",
    "Xn_train,Xn_test,y_train,y_test = train_test_split(nmds20,wwfdf.Water,test_size = 0.2)"
   ]
  },
  {
   "cell_type": "markdown",
   "metadata": {},
   "source": [
    "# Using Logistic Regression with Lasso\n",
    "I am asd going to be trying both a frequentist and the bayesian approach. For the frequentist I will be using the sklearn package of python and for Bayesian I will use pymc3 to get the posterior distribution of the weights."
   ]
  },
  {
   "cell_type": "markdown",
   "metadata": {},
   "source": [
    "## Sklearn Frequentist Logistic regression"
   ]
  },
  {
   "cell_type": "code",
   "execution_count": 266,
   "metadata": {},
   "outputs": [
    {
     "data": {
      "text/plain": [
       "0.9393939393939394"
      ]
     },
     "execution_count": 266,
     "metadata": {},
     "output_type": "execute_result"
    }
   ],
   "source": [
    "freq = LogisticRegression(penalty=\"l1\",class_weight=\"balanced\",multi_class=\"ovr\",solver= \"saga\",max_iter=10000)\n",
    "freq.fit(X_train,y_train)\n",
    "freq.score(X_test,y_test)"
   ]
  },
  {
   "cell_type": "markdown",
   "metadata": {},
   "source": [
    "With saga solver and l1 penalty we get 94% accuracy on the test set\n",
    "with liblinear it fluctuates between 85% and 90%, but it doesn't always converge"
   ]
  },
  {
   "cell_type": "code",
   "execution_count": 268,
   "metadata": {
    "collapsed": true
   },
   "outputs": [
    {
     "data": {
      "text/plain": [
       "array([[-1.16712035e-03, -8.85022297e-04, -8.74111074e-04,\n",
       "        -7.78210729e-04, -7.76417990e-04, -7.06168423e-04,\n",
       "        -5.05706379e-04, -4.90692464e-04, -4.77861073e-04,\n",
       "        -4.26898301e-04, -4.04111602e-04, -3.99245712e-04,\n",
       "        -3.78200407e-04, -3.19144610e-04, -3.07246344e-04,\n",
       "        -2.72271370e-04, -2.50966370e-04, -2.45427072e-04,\n",
       "        -2.42182202e-04, -2.23078358e-04, -1.94150415e-04,\n",
       "        -1.91808101e-04, -1.71450474e-04, -1.62989869e-04,\n",
       "        -1.52761619e-04, -1.33717603e-04, -1.12291243e-04,\n",
       "        -1.10998956e-04, -1.09928252e-04, -1.06512031e-04,\n",
       "        -1.05399908e-04, -1.04058807e-04, -1.01909792e-04,\n",
       "        -1.01478045e-04, -9.74960272e-05, -9.29283369e-05,\n",
       "        -9.06516177e-05, -8.97699763e-05, -8.30901108e-05,\n",
       "        -7.77029370e-05, -7.14585551e-05, -7.05492475e-05,\n",
       "        -6.92983826e-05, -6.47298329e-05, -5.26303206e-05,\n",
       "        -5.09353275e-05, -4.84162435e-05, -4.77956843e-05,\n",
       "        -4.69729041e-05, -4.55521320e-05, -4.46928885e-05,\n",
       "        -4.35922576e-05, -4.29970681e-05, -3.97287021e-05,\n",
       "        -3.96027195e-05, -3.70981961e-05, -3.62679782e-05,\n",
       "        -2.39954765e-05, -2.36026996e-05, -2.34467341e-05,\n",
       "        -2.23032125e-05, -2.13326424e-05, -1.95771653e-05,\n",
       "        -1.92222362e-05, -1.87798558e-05, -1.43819477e-05,\n",
       "        -1.30251336e-05, -1.28335124e-05, -1.24793038e-05,\n",
       "        -1.23516768e-05, -1.17831191e-05, -1.10935998e-05,\n",
       "        -1.10638943e-05, -7.56523586e-06, -7.26722501e-06,\n",
       "        -7.24219375e-06, -6.58083224e-06, -6.55133999e-06,\n",
       "        -5.41438227e-06, -5.27692607e-06, -5.05942390e-06,\n",
       "        -4.58493276e-06, -4.33264791e-06, -3.95154917e-06,\n",
       "        -3.79416226e-06, -3.71983936e-06, -3.35303291e-06,\n",
       "        -2.69235025e-06, -2.48301021e-06, -2.39125769e-06,\n",
       "        -2.19276913e-06, -1.92936837e-06, -1.32678391e-06,\n",
       "        -1.22412561e-06, -1.15906532e-06, -9.35683470e-07,\n",
       "        -2.83922278e-07, -2.38549526e-07, -1.17992738e-07,\n",
       "         0.00000000e+00,  0.00000000e+00,  0.00000000e+00,\n",
       "         0.00000000e+00,  0.00000000e+00,  0.00000000e+00,\n",
       "         0.00000000e+00,  0.00000000e+00,  0.00000000e+00,\n",
       "         0.00000000e+00,  0.00000000e+00,  0.00000000e+00,\n",
       "         0.00000000e+00,  0.00000000e+00,  0.00000000e+00,\n",
       "         0.00000000e+00,  0.00000000e+00,  0.00000000e+00,\n",
       "         0.00000000e+00,  0.00000000e+00,  0.00000000e+00,\n",
       "         0.00000000e+00,  0.00000000e+00,  0.00000000e+00,\n",
       "         0.00000000e+00,  0.00000000e+00,  0.00000000e+00,\n",
       "         0.00000000e+00,  0.00000000e+00,  0.00000000e+00,\n",
       "         0.00000000e+00,  0.00000000e+00,  0.00000000e+00,\n",
       "         0.00000000e+00,  0.00000000e+00,  0.00000000e+00,\n",
       "         0.00000000e+00,  0.00000000e+00,  0.00000000e+00,\n",
       "         0.00000000e+00,  0.00000000e+00,  0.00000000e+00,\n",
       "         0.00000000e+00,  0.00000000e+00,  0.00000000e+00,\n",
       "         0.00000000e+00,  0.00000000e+00,  0.00000000e+00,\n",
       "         0.00000000e+00,  0.00000000e+00,  0.00000000e+00,\n",
       "         0.00000000e+00,  0.00000000e+00,  0.00000000e+00,\n",
       "         0.00000000e+00,  0.00000000e+00,  0.00000000e+00,\n",
       "         0.00000000e+00,  0.00000000e+00,  0.00000000e+00,\n",
       "         0.00000000e+00,  0.00000000e+00,  0.00000000e+00,\n",
       "         0.00000000e+00,  0.00000000e+00,  0.00000000e+00,\n",
       "         0.00000000e+00,  0.00000000e+00,  0.00000000e+00,\n",
       "         0.00000000e+00,  0.00000000e+00,  0.00000000e+00,\n",
       "         0.00000000e+00,  0.00000000e+00,  0.00000000e+00,\n",
       "         0.00000000e+00,  0.00000000e+00,  0.00000000e+00,\n",
       "         0.00000000e+00,  0.00000000e+00,  0.00000000e+00,\n",
       "         0.00000000e+00,  0.00000000e+00,  0.00000000e+00,\n",
       "         0.00000000e+00,  0.00000000e+00,  0.00000000e+00,\n",
       "         0.00000000e+00,  0.00000000e+00,  0.00000000e+00,\n",
       "         0.00000000e+00,  0.00000000e+00,  0.00000000e+00,\n",
       "         0.00000000e+00,  0.00000000e+00,  0.00000000e+00,\n",
       "         0.00000000e+00,  0.00000000e+00,  0.00000000e+00,\n",
       "         0.00000000e+00,  0.00000000e+00,  0.00000000e+00,\n",
       "         0.00000000e+00,  0.00000000e+00,  0.00000000e+00,\n",
       "         0.00000000e+00,  0.00000000e+00,  0.00000000e+00,\n",
       "         0.00000000e+00,  0.00000000e+00,  0.00000000e+00,\n",
       "         0.00000000e+00,  0.00000000e+00,  0.00000000e+00,\n",
       "         0.00000000e+00,  0.00000000e+00,  0.00000000e+00,\n",
       "         0.00000000e+00,  0.00000000e+00,  0.00000000e+00,\n",
       "         0.00000000e+00,  0.00000000e+00,  0.00000000e+00,\n",
       "         0.00000000e+00,  0.00000000e+00,  0.00000000e+00,\n",
       "         0.00000000e+00,  0.00000000e+00,  0.00000000e+00,\n",
       "         0.00000000e+00,  0.00000000e+00,  0.00000000e+00,\n",
       "         0.00000000e+00,  0.00000000e+00,  0.00000000e+00,\n",
       "         0.00000000e+00,  0.00000000e+00,  0.00000000e+00,\n",
       "         0.00000000e+00,  0.00000000e+00,  0.00000000e+00,\n",
       "         0.00000000e+00,  0.00000000e+00,  0.00000000e+00,\n",
       "         0.00000000e+00,  0.00000000e+00,  0.00000000e+00,\n",
       "         0.00000000e+00,  0.00000000e+00,  0.00000000e+00,\n",
       "         0.00000000e+00,  0.00000000e+00,  0.00000000e+00,\n",
       "         0.00000000e+00,  0.00000000e+00,  0.00000000e+00,\n",
       "         0.00000000e+00,  0.00000000e+00,  0.00000000e+00,\n",
       "         0.00000000e+00,  0.00000000e+00,  0.00000000e+00,\n",
       "         0.00000000e+00,  0.00000000e+00,  0.00000000e+00,\n",
       "         0.00000000e+00,  0.00000000e+00,  0.00000000e+00,\n",
       "         0.00000000e+00,  0.00000000e+00,  0.00000000e+00,\n",
       "         0.00000000e+00,  0.00000000e+00,  0.00000000e+00,\n",
       "         0.00000000e+00,  0.00000000e+00,  0.00000000e+00,\n",
       "         0.00000000e+00,  0.00000000e+00,  0.00000000e+00,\n",
       "         0.00000000e+00,  0.00000000e+00,  0.00000000e+00,\n",
       "         0.00000000e+00,  0.00000000e+00,  0.00000000e+00,\n",
       "         0.00000000e+00,  0.00000000e+00,  0.00000000e+00,\n",
       "         0.00000000e+00,  0.00000000e+00,  0.00000000e+00,\n",
       "         0.00000000e+00,  0.00000000e+00,  0.00000000e+00,\n",
       "         0.00000000e+00,  0.00000000e+00,  0.00000000e+00,\n",
       "         0.00000000e+00,  0.00000000e+00,  0.00000000e+00,\n",
       "         0.00000000e+00,  1.39192681e-09,  7.00223366e-08,\n",
       "         8.24508234e-08,  8.96959012e-08,  9.88286036e-08,\n",
       "         1.17342232e-07,  1.35408105e-07,  1.38233421e-07,\n",
       "         1.79024665e-07,  2.06037805e-07,  2.26688554e-07,\n",
       "         2.39623613e-07,  2.43213160e-07,  2.73896754e-07,\n",
       "         2.96804656e-07,  3.50146646e-07,  3.56048750e-07,\n",
       "         3.64680307e-07,  3.67561523e-07,  3.74091912e-07,\n",
       "         3.80532703e-07,  4.24097854e-07,  4.26027440e-07,\n",
       "         4.69257525e-07,  4.78792547e-07,  5.01243990e-07,\n",
       "         5.10022590e-07,  5.29298386e-07,  5.39214680e-07,\n",
       "         5.40605189e-07,  5.49671944e-07,  5.78863431e-07,\n",
       "         5.80228785e-07,  6.52699443e-07,  6.67692177e-07,\n",
       "         6.85272536e-07,  7.69699427e-07,  7.77507059e-07,\n",
       "         8.05126265e-07,  8.08620753e-07,  8.51787249e-07,\n",
       "         8.67992864e-07,  8.77927224e-07,  8.81580996e-07,\n",
       "         8.96628774e-07,  9.07838666e-07,  9.31201400e-07,\n",
       "         9.50628536e-07,  9.74481274e-07,  9.92600057e-07,\n",
       "         1.01274787e-06,  1.03857508e-06,  1.03857508e-06,\n",
       "         1.07697017e-06,  1.09656738e-06,  1.16279533e-06,\n",
       "         1.16809155e-06,  1.20891886e-06,  1.27489771e-06,\n",
       "         1.33638585e-06,  1.36571433e-06,  1.37050563e-06,\n",
       "         1.41095244e-06,  1.43246744e-06,  1.44957302e-06,\n",
       "         1.53826382e-06,  1.57158653e-06,  1.61330065e-06,\n",
       "         1.63830691e-06,  1.66257504e-06,  1.73642572e-06,\n",
       "         1.78718011e-06,  1.79545389e-06,  1.81523015e-06,\n",
       "         1.87995656e-06,  1.89936435e-06,  1.90129275e-06,\n",
       "         1.97794068e-06,  2.06183342e-06,  2.06424175e-06,\n",
       "         2.17728197e-06,  2.26961742e-06,  2.35314621e-06,\n",
       "         2.38595739e-06,  2.39903479e-06,  2.41548862e-06,\n",
       "         2.42154470e-06,  2.54756414e-06,  2.57500930e-06,\n",
       "         2.62730766e-06,  2.69347078e-06,  2.71718415e-06,\n",
       "         2.72693465e-06,  2.78776162e-06,  2.80849343e-06,\n",
       "         2.89508597e-06,  2.97690982e-06,  3.03541730e-06,\n",
       "         3.15973965e-06,  3.25141347e-06,  3.26390463e-06,\n",
       "         3.40894385e-06,  3.44415689e-06,  3.66600366e-06,\n",
       "         3.74032489e-06,  3.75725496e-06,  3.86083309e-06,\n",
       "         3.89216951e-06,  3.91585971e-06,  4.07314445e-06,\n",
       "         4.13389160e-06,  4.22440714e-06,  4.51043747e-06,\n",
       "         4.84061225e-06,  4.94905971e-06,  5.01992462e-06,\n",
       "         5.07653924e-06,  5.22865365e-06,  5.26621580e-06,\n",
       "         5.30231873e-06,  5.52990680e-06,  5.63763778e-06,\n",
       "         5.64722813e-06,  5.66231972e-06,  5.71051120e-06,\n",
       "         6.00808593e-06,  6.07201321e-06,  6.08555435e-06,\n",
       "         6.17030576e-06,  6.21939831e-06,  6.30452005e-06,\n",
       "         6.30733770e-06,  6.31005751e-06,  6.40113647e-06,\n",
       "         6.42155455e-06,  6.52883903e-06,  6.53873460e-06,\n",
       "         6.55491048e-06,  6.64561663e-06,  6.73387452e-06,\n",
       "         6.87760979e-06,  7.13461856e-06,  7.21756041e-06,\n",
       "         7.50642501e-06,  7.59385054e-06,  7.71207378e-06,\n",
       "         7.94183229e-06,  8.13900681e-06,  8.90605785e-06,\n",
       "         8.99773384e-06,  9.03219428e-06,  9.07080418e-06,\n",
       "         9.38071951e-06,  9.38082054e-06,  9.40674276e-06,\n",
       "         9.62412238e-06,  9.63261525e-06,  9.64962239e-06,\n",
       "         9.72089292e-06,  9.98466352e-06,  1.00776408e-05,\n",
       "         1.00897660e-05,  1.01821244e-05,  1.01905390e-05,\n",
       "         1.03111389e-05,  1.04140613e-05,  1.08103326e-05,\n",
       "         1.09269070e-05,  1.10470601e-05,  1.10673127e-05,\n",
       "         1.12954809e-05,  1.16270910e-05,  1.17447565e-05,\n",
       "         1.18538331e-05,  1.22281120e-05,  1.23422493e-05,\n",
       "         1.23493303e-05,  1.24403550e-05,  1.26367575e-05,\n",
       "         1.28928150e-05,  1.29823933e-05,  1.32081921e-05,\n",
       "         1.33242843e-05,  1.35911954e-05,  1.37838546e-05,\n",
       "         1.38362540e-05,  1.50894839e-05,  1.53655414e-05,\n",
       "         1.53806645e-05,  1.57876742e-05,  1.59298729e-05,\n",
       "         1.64700727e-05,  1.66368968e-05,  1.70397820e-05,\n",
       "         1.71393447e-05,  1.77218570e-05,  1.78008542e-05,\n",
       "         1.78153855e-05,  1.79911653e-05,  1.81057044e-05,\n",
       "         1.82670845e-05,  1.87680058e-05,  1.87854888e-05,\n",
       "         1.88055972e-05,  1.91994823e-05,  1.92460324e-05,\n",
       "         1.93666172e-05,  1.93765576e-05,  2.00829431e-05,\n",
       "         2.01713324e-05,  2.03233851e-05,  2.07084891e-05,\n",
       "         2.07310603e-05,  2.08336687e-05,  2.09243989e-05,\n",
       "         2.17924798e-05,  2.18651541e-05,  2.22861932e-05,\n",
       "         2.29825358e-05,  2.34235224e-05,  2.34602705e-05,\n",
       "         2.36746470e-05,  2.36762965e-05,  2.37124299e-05,\n",
       "         2.38784847e-05,  2.41108082e-05,  2.42621925e-05,\n",
       "         2.50230284e-05,  2.55834331e-05,  2.57222023e-05,\n",
       "         2.60995210e-05,  2.62234816e-05,  2.62826979e-05,\n",
       "         2.65185114e-05,  2.68001584e-05,  2.68154213e-05,\n",
       "         2.74530898e-05,  2.82252775e-05,  2.86922889e-05,\n",
       "         2.88713711e-05,  2.91011913e-05,  2.94431569e-05,\n",
       "         3.03451424e-05,  3.07442849e-05,  3.15063599e-05,\n",
       "         3.19802434e-05,  3.20102744e-05,  3.20653438e-05,\n",
       "         3.25127964e-05,  3.28065593e-05,  3.33533840e-05,\n",
       "         3.40999425e-05,  3.56785701e-05,  3.57281313e-05,\n",
       "         3.57504723e-05,  3.63617660e-05,  3.64668467e-05,\n",
       "         3.76491211e-05,  3.83893258e-05,  3.85996521e-05,\n",
       "         3.96227834e-05,  3.97982323e-05,  4.05277326e-05,\n",
       "         4.29552171e-05,  4.33596827e-05,  4.36741244e-05,\n",
       "         4.51318385e-05,  4.93272113e-05,  4.97264829e-05,\n",
       "         4.98763260e-05,  5.13245805e-05,  5.30532917e-05,\n",
       "         5.31659857e-05,  5.33768876e-05,  5.39199197e-05,\n",
       "         5.47435059e-05,  5.58687185e-05,  5.82463583e-05,\n",
       "         5.85253081e-05,  5.85277740e-05,  5.91040642e-05,\n",
       "         6.02664978e-05,  6.15405480e-05,  6.19299124e-05,\n",
       "         6.22386594e-05,  6.22620904e-05,  6.40380394e-05,\n",
       "         6.45219562e-05,  6.48312619e-05,  6.86887580e-05,\n",
       "         7.09682357e-05,  7.23430097e-05,  7.36599589e-05,\n",
       "         7.44571607e-05,  7.61889532e-05,  7.74647378e-05,\n",
       "         7.82405668e-05,  8.09589209e-05,  8.32965652e-05,\n",
       "         8.52274461e-05,  8.55416703e-05,  8.69206405e-05,\n",
       "         8.70876510e-05,  8.89987451e-05,  9.03837542e-05,\n",
       "         9.06430276e-05,  9.09603621e-05,  9.12273871e-05,\n",
       "         9.18391172e-05,  9.38536280e-05,  9.54863921e-05,\n",
       "         1.00773993e-04,  1.01101233e-04,  1.01431439e-04,\n",
       "         1.04304131e-04,  1.07614392e-04,  1.11300327e-04,\n",
       "         1.13013108e-04,  1.15093161e-04,  1.31713804e-04,\n",
       "         1.32353911e-04,  1.33414613e-04,  1.40832525e-04,\n",
       "         1.41476012e-04,  1.47613697e-04,  1.56571168e-04,\n",
       "         1.62002196e-04,  1.69469779e-04,  1.71709624e-04,\n",
       "         1.72517255e-04,  1.79533893e-04,  1.80900037e-04,\n",
       "         1.86982814e-04,  1.90150676e-04,  1.95292858e-04,\n",
       "         2.02012181e-04,  2.04381527e-04,  2.09735903e-04,\n",
       "         2.18348646e-04,  2.18422479e-04,  2.19485103e-04,\n",
       "         2.20952447e-04,  2.22195441e-04,  2.43651964e-04,\n",
       "         2.68942545e-04,  2.78862739e-04,  2.82188428e-04,\n",
       "         2.84884629e-04,  2.86292551e-04,  2.86537070e-04,\n",
       "         3.03750644e-04,  3.50348411e-04,  3.51210982e-04,\n",
       "         3.51497834e-04,  3.51732264e-04,  3.62697830e-04,\n",
       "         4.06712936e-04,  4.07372186e-04,  4.15733616e-04,\n",
       "         4.15798907e-04,  4.34015240e-04,  4.41548351e-04,\n",
       "         4.64969748e-04,  4.69173226e-04,  4.74719036e-04,\n",
       "         5.10674782e-04,  5.34580453e-04,  5.38425881e-04,\n",
       "         5.53140241e-04,  5.66630890e-04,  7.42458425e-04,\n",
       "         7.73623697e-04,  8.36033036e-04,  8.74423356e-04]])"
      ]
     },
     "execution_count": 268,
     "metadata": {},
     "output_type": "execute_result"
    }
   ],
   "source": [
    "np.sort(freq.coef_)"
   ]
  },
  {
   "cell_type": "code",
   "execution_count": 280,
   "metadata": {},
   "outputs": [],
   "source": [
    "crossfreq =cross_val_score(freq,otudf,y=wwfdf.Water,cv=10,n_jobs = -1)"
   ]
  },
  {
   "cell_type": "markdown",
   "metadata": {},
   "source": [
    "### NMDS 20 dimensions as features"
   ]
  },
  {
   "cell_type": "code",
   "execution_count": 358,
   "metadata": {},
   "outputs": [
    {
     "data": {
      "text/plain": [
       "0.9090909090909091"
      ]
     },
     "execution_count": 358,
     "metadata": {},
     "output_type": "execute_result"
    }
   ],
   "source": [
    "freq = LogisticRegression(penalty=\"l1\",class_weight=\"balanced\",multi_class=\"ovr\",solver= \"liblinear\",max_iter=10000)\n",
    "freq.fit(Xn_train,y_train)\n",
    "freq.score(Xn_test,y_test)"
   ]
  },
  {
   "cell_type": "code",
   "execution_count": 413,
   "metadata": {
    "collapsed": true
   },
   "outputs": [
    {
     "data": {
      "text/plain": [
       "array([[0.97560945, 0.02439055],\n",
       "       [0.00477511, 0.99522489],\n",
       "       [0.05475756, 0.94524244],\n",
       "       [0.9015716 , 0.0984284 ],\n",
       "       [0.00107508, 0.99892492],\n",
       "       [0.06501476, 0.93498524],\n",
       "       [0.33021778, 0.66978222],\n",
       "       [0.00292009, 0.99707991],\n",
       "       [0.13073513, 0.86926487],\n",
       "       [0.84017414, 0.15982586],\n",
       "       [0.00959059, 0.99040941],\n",
       "       [0.2338178 , 0.7661822 ],\n",
       "       [0.0203413 , 0.9796587 ],\n",
       "       [0.06294322, 0.93705678],\n",
       "       [0.05539342, 0.94460658],\n",
       "       [0.88428876, 0.11571124],\n",
       "       [0.61088869, 0.38911131],\n",
       "       [0.17139272, 0.82860728],\n",
       "       [0.00266087, 0.99733913],\n",
       "       [0.10851913, 0.89148087],\n",
       "       [0.09271962, 0.90728038],\n",
       "       [0.35025824, 0.64974176],\n",
       "       [0.31570521, 0.68429479],\n",
       "       [0.1436603 , 0.8563397 ],\n",
       "       [0.07236988, 0.92763012],\n",
       "       [0.1378892 , 0.8621108 ],\n",
       "       [0.04594739, 0.95405261],\n",
       "       [0.97040154, 0.02959846],\n",
       "       [0.96646219, 0.03353781],\n",
       "       [0.21690098, 0.78309902],\n",
       "       [0.22490827, 0.77509173],\n",
       "       [0.05149165, 0.94850835],\n",
       "       [0.1113245 , 0.8886755 ]])"
      ]
     },
     "execution_count": 413,
     "metadata": {},
     "output_type": "execute_result"
    }
   ],
   "source": [
    "freq.coef_\n",
    "freq.predict_proba(Xn_test)"
   ]
  },
  {
   "cell_type": "markdown",
   "metadata": {},
   "source": [
    "Both liblinear and saga produced 90% accuracy on the test set when using nmds as features"
   ]
  },
  {
   "cell_type": "code",
   "execution_count": 80,
   "metadata": {},
   "outputs": [
    {
     "name": "stdout",
     "output_type": "stream",
     "text": [
      "0.12121212121212122\n"
     ]
    },
    {
     "data": {
      "text/plain": [
       "0.1297709923664122"
      ]
     },
     "execution_count": 80,
     "metadata": {},
     "output_type": "execute_result"
    }
   ],
   "source": [
    "print(np.sum(y_test == \"Black\")/y_test.count())\n",
    "np.sum(y_train == \"Black\")/(y_train.count())"
   ]
  },
  {
   "cell_type": "code",
   "execution_count": 90,
   "metadata": {},
   "outputs": [
    {
     "data": {
      "text/plain": [
       "0.3214814814814815"
      ]
     },
     "execution_count": 90,
     "metadata": {},
     "output_type": "execute_result"
    }
   ],
   "source": [
    " pd.DataFrame(data= freq.coef_.T).describe()\n",
    "np.sum(freq.coef_ == 0)/np.size(freq.coef_)\n",
    "# 32% of coefficients go to zero. The biggest weight has a magnitude of the order of 10e-4"
   ]
  },
  {
   "cell_type": "markdown",
   "metadata": {},
   "source": [
    "## Bayesian logistic regression using pymc3\n",
    "\n",
    "I cant get it to work with either nmds or otutable, there might be something wrong with the code or with the implementation."
   ]
  },
  {
   "cell_type": "code",
   "execution_count": 158,
   "metadata": {
    "collapsed": true
   },
   "outputs": [],
   "source": [
    "def logit(x):\n",
    "    return(tt.exp(x)/(1+tt.exp(x)))"
   ]
  },
  {
   "cell_type": "code",
   "execution_count": 4,
   "metadata": {
    "collapsed": true
   },
   "outputs": [],
   "source": [
    "y_train.bool = (y_train == \"White\")*1\n",
    "y_test.bool = (y_test == \"White\")*1"
   ]
  },
  {
   "cell_type": "code",
   "execution_count": 5,
   "metadata": {
    "scrolled": true
   },
   "outputs": [],
   "source": [
    "niter=2000\n",
    "bay = pm.Model()\n",
    "with bay:\n",
    "    # Weights of the features have a laplace prior which is the same as l1 when minimising the loss function\n",
    "    mu = pm.Normal('mu', 0.0, sd=1)\n",
    "    lam = pm.HalfCauchy('sd', 1.0)\n",
    "    #beta = pm.Laplace(\"beta\",mu,lam,shape = (Xn_train.shape[1],1))\n",
    "    beta = pm.Normal(\"beta\",mu,lam,shape = (np.array(Xn_train).shape[1],1))\n",
    "    #inter = pm.Laplace(\"intercept\", 0, lam)\n",
    "\n",
    "    y_hat = tt.dot((Xn_train),beta)# + inter\n",
    "    # Calculating the probability of water being white p(y=1|mu) so that we can get \n",
    "    # p(y|x,beta) ~ Binomial(y|mu)\n",
    "    #mu =logit(y_hat)\n",
    "    #y_obs = pm.Binomial(\"Y_obs\",n=np.ones(y_train.size),p = mu,observed = y_train.bool)\n",
    "    y_obs = pm.Bernoulli(\"Y_obs\",logit_p=y_hat,observed = y_train.bool)\n",
    "    #start= {\"beta\":freq.coef_.T}\n"
   ]
  },
  {
   "cell_type": "code",
   "execution_count": 6,
   "metadata": {},
   "outputs": [
    {
     "name": "stderr",
     "output_type": "stream",
     "text": [
      "Multiprocess sampling (2 chains in 2 jobs)\n",
      "NUTS: [beta, sd, mu]\n",
      "Sampling 2 chains: 100%|██████████| 5000/5000 [00:42<00:00, 118.62draws/s]\n"
     ]
    }
   ],
   "source": [
    "with bay:\n",
    "    trace = pm.sample(niter,random_seed=11235,step =pm.NUTS() )"
   ]
  },
  {
   "cell_type": "code",
   "execution_count": 7,
   "metadata": {},
   "outputs": [
    {
     "name": "stderr",
     "output_type": "stream",
     "text": [
      "/home/spanashis/anaconda2/envs/py36/lib/python3.6/site-packages/pymc3/tuning/starting.py:61: UserWarning: find_MAP should not be used to initialize the NUTS sampler, simply call pymc3.sample() and it will automatically initialize NUTS in a better way.\n",
      "  warnings.warn('find_MAP should not be used to initialize the NUTS sampler, simply call pymc3.sample() and it will automatically initialize NUTS in a better way.')\n",
      "logp = -11,747, ||grad|| = 30.849: 100%|██████████| 21/21 [00:00<00:00, 389.10it/s]  \n"
     ]
    },
    {
     "data": {
      "text/plain": [
       "{'beta': array([[-0.08659617],\n",
       "        [-0.02199878],\n",
       "        [ 0.14757667],\n",
       "        [ 0.14225199],\n",
       "        [ 0.3000959 ],\n",
       "        [-0.08337175],\n",
       "        [-0.13398093],\n",
       "        [ 0.30051192],\n",
       "        [-0.19938961],\n",
       "        [-0.64022957],\n",
       "        [ 0.57639716],\n",
       "        [-0.75020338],\n",
       "        [ 0.05326501],\n",
       "        [-0.14885053],\n",
       "        [ 0.39639002],\n",
       "        [ 0.27391207],\n",
       "        [ 0.2191068 ],\n",
       "        [ 0.26577187],\n",
       "        [-0.18676548],\n",
       "        [ 0.33196555]]),\n",
       " 'mu': array(0.0376547),\n",
       " 'sd': array(0.32192605),\n",
       " 'sd_log__': array(-1.13343343)}"
      ]
     },
     "execution_count": 7,
     "metadata": {},
     "output_type": "execute_result"
    }
   ],
   "source": [
    "pm.find_MAP(model=bay)\n"
   ]
  },
  {
   "cell_type": "code",
   "execution_count": 429,
   "metadata": {
    "scrolled": true
   },
   "outputs": [],
   "source": [
    "df_trace = pm.trace_to_dataframe(trace[niter//2:])\n",
    "betas =df_trace.mean(0)\n",
    "#intercept = df_trace.mean(0)[-1]\n",
    "#pm.find_MAP(model=bay)\n",
    "#bay.Y_obs"
   ]
  },
  {
   "cell_type": "code",
   "execution_count": 405,
   "metadata": {},
   "outputs": [],
   "source": [
    "def predict(X,betas=betas,intercept=intercept):\n",
    "    \n",
    "    v = np.dot(X,betas) + intercept\n",
    "    return(np.exp(v)/(1+np.exp(v)))"
   ]
  },
  {
   "cell_type": "code",
   "execution_count": 430,
   "metadata": {
    "scrolled": true
   },
   "outputs": [
    {
     "data": {
      "text/plain": [
       "ID\n",
       "2-S15D     True\n",
       "3-S05d    False\n",
       "3-S07d     True\n",
       "2-S18C    False\n",
       "1-S09B     True\n",
       "2-S19A     True\n",
       "3-S19b     True\n",
       "1-S10C     True\n",
       "2-S17A    False\n",
       "3-S01a    False\n",
       "1-S07D     True\n",
       "1-S01C     True\n",
       "1-S07C    False\n",
       "1-S06A    False\n",
       "1-S03B     True\n",
       "2-S16D     True\n",
       "3-S14e    False\n",
       "3-S07a     True\n",
       "3-S06d     True\n",
       "3-S07b     True\n",
       "3-S16c     True\n",
       "1-S01A     True\n",
       "1-S04D     True\n",
       "3-S13d     True\n",
       "3-S03a     True\n",
       "1-S11D     True\n",
       "1-S03D    False\n",
       "2-S18D    False\n",
       "2-S13C    False\n",
       "2-S16A     True\n",
       "3-S13b     True\n",
       "3-S04b     True\n",
       "2-S15F     True\n",
       "Name: Water, dtype: bool"
      ]
     },
     "execution_count": 430,
     "metadata": {},
     "output_type": "execute_result"
    }
   ],
   "source": [
    "(predict(Xn_test,betas=betas) >= 0.5 )*1 ==y_test.bool"
   ]
  },
  {
   "cell_type": "code",
   "execution_count": 10,
   "metadata": {},
   "outputs": [],
   "source": [
    "covariates = np.random.randn(150, 20)\n",
    "covariates = np.hstack((np.ones((150, 1)), covariates))\n",
    "\n",
    "true_coefficients = 5 * np.random.rand(21)\n",
    "true_logits = np.dot(covariates, true_coefficients) \n",
    "true_probs = 1.0 / (1.0 + np.exp(-true_logits))\n",
    "observed_labels = (np.random.rand(150) < true_probs).astype(np.int32)"
   ]
  },
  {
   "cell_type": "code",
   "execution_count": 15,
   "metadata": {},
   "outputs": [
    {
     "data": {
      "image/png": "[encoded data removed]",
      "text/plain": [
       "<Figure size 432x288 with 1 Axes>"
      ]
     },
     "metadata": {
      "needs_background": "light"
     },
     "output_type": "display_data"
    }
   ],
   "source": [
    "testlog = LogisticRegression(penalty=\"l2\",multi_class=\"ovr\",solver= \"saga\",max_iter=10000,fit_intercept=False)\n",
    "testlog.fit(covariates,observed_labels)\n",
    "plt.scatter(true_coefficients, testlog.coef_[0, :])\n",
    "plt.show()"
   ]
  },
  {
   "cell_type": "code",
   "execution_count": 157,
   "metadata": {
    "collapsed": true
   },
   "outputs": [
    {
     "name": "stderr",
     "output_type": "stream",
     "text": [
      "Auto-assigning NUTS sampler...\n",
      "Initializing NUTS using jitter+adapt_diag...\n",
      "Multiprocess sampling (2 chains in 2 jobs)\n",
      "NUTS: [beta, alpha]\n",
      "Sampling 2 chains: 100%|██████████| 3000/3000 [00:02<00:00, 1444.81draws/s]\n"
     ]
    }
   ],
   "source": [
    "niter=1000\n",
    "\n",
    "\n",
    "with pm.Model() as model:\n",
    "    alpha = pm.Laplace('alpha', mu=0, b=1)\n",
    "    beta = pm.Laplace('beta',0,1)\n",
    "\n",
    "    p = invlogit(alpha + tt.dot(beta,x))\n",
    "    y_obs = pm.Binomial('y_obs', n=n, p=p, observed=y)\n",
    "\n",
    "    trace = pm.sample(niter, random_seed=123)"
   ]
  },
  {
   "cell_type": "code",
   "execution_count": 18,
   "metadata": {},
   "outputs": [
    {
     "ename": "MissingInputError",
     "evalue": "Input 1 of the graph (indices start from 0), used to compute dot(TensorConstant{[[-2.94410..4557e-02]]}, beta), was not provided and not given a value. Use the Theano flag exception_verbosity='high', for more information on this error.",
     "output_type": "error",
     "traceback": [
      "\u001b[0;31m---------------------------------------------------------------------------\u001b[0m",
      "\u001b[0;31mMissingInputError\u001b[0m                         Traceback (most recent call last)",
      "\u001b[0;32m<ipython-input-18-3ab958cdf6fa>\u001b[0m in \u001b[0;36m<module>\u001b[0;34m()\u001b[0m\n\u001b[1;32m      5\u001b[0m     \u001b[0mlikelihood\u001b[0m \u001b[0;34m=\u001b[0m \u001b[0mpm\u001b[0m\u001b[0;34m.\u001b[0m\u001b[0mBernoulli\u001b[0m\u001b[0;34m(\u001b[0m\u001b[0;34m'likelihood'\u001b[0m\u001b[0;34m,\u001b[0m \u001b[0mlogit_p\u001b[0m\u001b[0;34m=\u001b[0m \u001b[0mtt\u001b[0m\u001b[0;34m.\u001b[0m\u001b[0mdot\u001b[0m\u001b[0;34m(\u001b[0m\u001b[0mcovariates\u001b[0m\u001b[0;34m,\u001b[0m\u001b[0mbeta\u001b[0m\u001b[0;34m)\u001b[0m \u001b[0;34m,\u001b[0m \u001b[0mobserved\u001b[0m\u001b[0;34m=\u001b[0m\u001b[0mobserved_labels\u001b[0m\u001b[0;34m)\u001b[0m\u001b[0;34m\u001b[0m\u001b[0;34m\u001b[0m\u001b[0m\n\u001b[1;32m      6\u001b[0m     \u001b[0my_obs\u001b[0m \u001b[0;34m=\u001b[0m \u001b[0mpm\u001b[0m\u001b[0;34m.\u001b[0m\u001b[0mBernoulli\u001b[0m\u001b[0;34m(\u001b[0m\u001b[0;34m\"Y_obs\"\u001b[0m\u001b[0;34m,\u001b[0m\u001b[0mlogit_p\u001b[0m\u001b[0;34m=\u001b[0m\u001b[0my_hat\u001b[0m\u001b[0;34m,\u001b[0m\u001b[0mobserved\u001b[0m \u001b[0;34m=\u001b[0m \u001b[0mobserved_labels\u001b[0m\u001b[0;34m)\u001b[0m\u001b[0;34m\u001b[0m\u001b[0;34m\u001b[0m\u001b[0m\n\u001b[0;32m----> 7\u001b[0;31m     \u001b[0mpm\u001b[0m\u001b[0;34m.\u001b[0m\u001b[0msample\u001b[0m\u001b[0;34m(\u001b[0m\u001b[0mnn\u001b[0m\u001b[0;34m,\u001b[0m\u001b[0mstep\u001b[0m\u001b[0;34m=\u001b[0m\u001b[0mpm\u001b[0m\u001b[0;34m.\u001b[0m\u001b[0mNUTS\u001b[0m\u001b[0;34m(\u001b[0m\u001b[0;34m)\u001b[0m\u001b[0;34m)\u001b[0m\u001b[0;34m\u001b[0m\u001b[0;34m\u001b[0m\u001b[0m\n\u001b[0m",
      "\u001b[0;32m/home/spanashis/anaconda2/envs/py36/lib/python3.6/site-packages/pymc3/step_methods/hmc/nuts.py\u001b[0m in \u001b[0;36m__init__\u001b[0;34m(self, vars, max_treedepth, early_max_treedepth, **kwargs)\u001b[0m\n\u001b[1;32m    150\u001b[0m         \u001b[0;31m`\u001b[0m\u001b[0mpm\u001b[0m\u001b[0;34m.\u001b[0m\u001b[0msample\u001b[0m\u001b[0;31m`\u001b[0m \u001b[0mto\u001b[0m \u001b[0mthe\u001b[0m \u001b[0mdesired\u001b[0m \u001b[0mnumber\u001b[0m \u001b[0mof\u001b[0m \u001b[0mtuning\u001b[0m \u001b[0msteps\u001b[0m\u001b[0;34m.\u001b[0m\u001b[0;34m\u001b[0m\u001b[0;34m\u001b[0m\u001b[0m\n\u001b[1;32m    151\u001b[0m         \"\"\"\n\u001b[0;32m--> 152\u001b[0;31m         \u001b[0msuper\u001b[0m\u001b[0;34m(\u001b[0m\u001b[0;34m)\u001b[0m\u001b[0;34m.\u001b[0m\u001b[0m__init__\u001b[0m\u001b[0;34m(\u001b[0m\u001b[0mvars\u001b[0m\u001b[0;34m,\u001b[0m \u001b[0;34m**\u001b[0m\u001b[0mkwargs\u001b[0m\u001b[0;34m)\u001b[0m\u001b[0;34m\u001b[0m\u001b[0;34m\u001b[0m\u001b[0m\n\u001b[0m\u001b[1;32m    153\u001b[0m \u001b[0;34m\u001b[0m\u001b[0m\n\u001b[1;32m    154\u001b[0m         \u001b[0mself\u001b[0m\u001b[0;34m.\u001b[0m\u001b[0mmax_treedepth\u001b[0m \u001b[0;34m=\u001b[0m \u001b[0mmax_treedepth\u001b[0m\u001b[0;34m\u001b[0m\u001b[0;34m\u001b[0m\u001b[0m\n",
      "\u001b[0;32m/home/spanashis/anaconda2/envs/py36/lib/python3.6/site-packages/pymc3/step_methods/hmc/base_hmc.py\u001b[0m in \u001b[0;36m__init__\u001b[0;34m(self, vars, scaling, step_scale, is_cov, model, blocked, potential, dtype, Emax, target_accept, gamma, k, t0, adapt_step_size, step_rand, **theano_kwargs)\u001b[0m\n\u001b[1;32m     70\u001b[0m         \u001b[0mvars\u001b[0m \u001b[0;34m=\u001b[0m \u001b[0minputvars\u001b[0m\u001b[0;34m(\u001b[0m\u001b[0mvars\u001b[0m\u001b[0;34m)\u001b[0m\u001b[0;34m\u001b[0m\u001b[0;34m\u001b[0m\u001b[0m\n\u001b[1;32m     71\u001b[0m \u001b[0;34m\u001b[0m\u001b[0m\n\u001b[0;32m---> 72\u001b[0;31m         \u001b[0msuper\u001b[0m\u001b[0;34m(\u001b[0m\u001b[0;34m)\u001b[0m\u001b[0;34m.\u001b[0m\u001b[0m__init__\u001b[0m\u001b[0;34m(\u001b[0m\u001b[0mvars\u001b[0m\u001b[0;34m,\u001b[0m \u001b[0mblocked\u001b[0m\u001b[0;34m=\u001b[0m\u001b[0mblocked\u001b[0m\u001b[0;34m,\u001b[0m \u001b[0mmodel\u001b[0m\u001b[0;34m=\u001b[0m\u001b[0mmodel\u001b[0m\u001b[0;34m,\u001b[0m \u001b[0mdtype\u001b[0m\u001b[0;34m=\u001b[0m\u001b[0mdtype\u001b[0m\u001b[0;34m,\u001b[0m \u001b[0;34m**\u001b[0m\u001b[0mtheano_kwargs\u001b[0m\u001b[0;34m)\u001b[0m\u001b[0;34m\u001b[0m\u001b[0;34m\u001b[0m\u001b[0m\n\u001b[0m\u001b[1;32m     73\u001b[0m \u001b[0;34m\u001b[0m\u001b[0m\n\u001b[1;32m     74\u001b[0m         \u001b[0mself\u001b[0m\u001b[0;34m.\u001b[0m\u001b[0madapt_step_size\u001b[0m \u001b[0;34m=\u001b[0m \u001b[0madapt_step_size\u001b[0m\u001b[0;34m\u001b[0m\u001b[0;34m\u001b[0m\u001b[0m\n",
      "\u001b[0;32m/home/spanashis/anaconda2/envs/py36/lib/python3.6/site-packages/pymc3/step_methods/arraystep.py\u001b[0m in \u001b[0;36m__init__\u001b[0;34m(self, vars, model, blocked, dtype, **theano_kwargs)\u001b[0m\n\u001b[1;32m    226\u001b[0m \u001b[0;34m\u001b[0m\u001b[0m\n\u001b[1;32m    227\u001b[0m         func = model.logp_dlogp_function(\n\u001b[0;32m--> 228\u001b[0;31m             vars, dtype=dtype, **theano_kwargs)\n\u001b[0m\u001b[1;32m    229\u001b[0m \u001b[0;34m\u001b[0m\u001b[0m\n\u001b[1;32m    230\u001b[0m         \u001b[0;31m# handle edge case discovered in #2948\u001b[0m\u001b[0;34m\u001b[0m\u001b[0;34m\u001b[0m\u001b[0;34m\u001b[0m\u001b[0m\n",
      "\u001b[0;32m/home/spanashis/anaconda2/envs/py36/lib/python3.6/site-packages/pymc3/model.py\u001b[0m in \u001b[0;36mlogp_dlogp_function\u001b[0;34m(self, grad_vars, **kwargs)\u001b[0m\n\u001b[1;32m    721\u001b[0m         \u001b[0mvarnames\u001b[0m \u001b[0;34m=\u001b[0m \u001b[0;34m[\u001b[0m\u001b[0mvar\u001b[0m\u001b[0;34m.\u001b[0m\u001b[0mname\u001b[0m \u001b[0;32mfor\u001b[0m \u001b[0mvar\u001b[0m \u001b[0;32min\u001b[0m \u001b[0mgrad_vars\u001b[0m\u001b[0;34m]\u001b[0m\u001b[0;34m\u001b[0m\u001b[0;34m\u001b[0m\u001b[0m\n\u001b[1;32m    722\u001b[0m         \u001b[0mextra_vars\u001b[0m \u001b[0;34m=\u001b[0m \u001b[0;34m[\u001b[0m\u001b[0mvar\u001b[0m \u001b[0;32mfor\u001b[0m \u001b[0mvar\u001b[0m \u001b[0;32min\u001b[0m \u001b[0mself\u001b[0m\u001b[0;34m.\u001b[0m\u001b[0mfree_RVs\u001b[0m \u001b[0;32mif\u001b[0m \u001b[0mvar\u001b[0m\u001b[0;34m.\u001b[0m\u001b[0mname\u001b[0m \u001b[0;32mnot\u001b[0m \u001b[0;32min\u001b[0m \u001b[0mvarnames\u001b[0m\u001b[0;34m]\u001b[0m\u001b[0;34m\u001b[0m\u001b[0;34m\u001b[0m\u001b[0m\n\u001b[0;32m--> 723\u001b[0;31m         \u001b[0;32mreturn\u001b[0m \u001b[0mValueGradFunction\u001b[0m\u001b[0;34m(\u001b[0m\u001b[0mself\u001b[0m\u001b[0;34m.\u001b[0m\u001b[0mlogpt\u001b[0m\u001b[0;34m,\u001b[0m \u001b[0mgrad_vars\u001b[0m\u001b[0;34m,\u001b[0m \u001b[0mextra_vars\u001b[0m\u001b[0;34m,\u001b[0m \u001b[0;34m**\u001b[0m\u001b[0mkwargs\u001b[0m\u001b[0;34m)\u001b[0m\u001b[0;34m\u001b[0m\u001b[0;34m\u001b[0m\u001b[0m\n\u001b[0m\u001b[1;32m    724\u001b[0m \u001b[0;34m\u001b[0m\u001b[0m\n\u001b[1;32m    725\u001b[0m     \u001b[0;34m@\u001b[0m\u001b[0mproperty\u001b[0m\u001b[0;34m\u001b[0m\u001b[0;34m\u001b[0m\u001b[0m\n",
      "\u001b[0;32m/home/spanashis/anaconda2/envs/py36/lib/python3.6/site-packages/pymc3/model.py\u001b[0m in \u001b[0;36m__init__\u001b[0;34m(self, cost, grad_vars, extra_vars, dtype, casting, **kwargs)\u001b[0m\n\u001b[1;32m    460\u001b[0m \u001b[0;34m\u001b[0m\u001b[0m\n\u001b[1;32m    461\u001b[0m         self._theano_function = theano.function(\n\u001b[0;32m--> 462\u001b[0;31m             inputs, [self._cost_joined, grad], givens=givens, **kwargs)\n\u001b[0m\u001b[1;32m    463\u001b[0m \u001b[0;34m\u001b[0m\u001b[0m\n\u001b[1;32m    464\u001b[0m     \u001b[0;32mdef\u001b[0m \u001b[0mset_extra_values\u001b[0m\u001b[0;34m(\u001b[0m\u001b[0mself\u001b[0m\u001b[0;34m,\u001b[0m \u001b[0mextra_vars\u001b[0m\u001b[0;34m)\u001b[0m\u001b[0;34m:\u001b[0m\u001b[0;34m\u001b[0m\u001b[0;34m\u001b[0m\u001b[0m\n",
      "\u001b[0;32m/home/spanashis/anaconda2/envs/py36/lib/python3.6/site-packages/theano/compile/function.py\u001b[0m in \u001b[0;36mfunction\u001b[0;34m(inputs, outputs, mode, updates, givens, no_default_updates, accept_inplace, name, rebuild_strict, allow_input_downcast, profile, on_unused_input)\u001b[0m\n\u001b[1;32m    315\u001b[0m                    \u001b[0mon_unused_input\u001b[0m\u001b[0;34m=\u001b[0m\u001b[0mon_unused_input\u001b[0m\u001b[0;34m,\u001b[0m\u001b[0;34m\u001b[0m\u001b[0;34m\u001b[0m\u001b[0m\n\u001b[1;32m    316\u001b[0m                    \u001b[0mprofile\u001b[0m\u001b[0;34m=\u001b[0m\u001b[0mprofile\u001b[0m\u001b[0;34m,\u001b[0m\u001b[0;34m\u001b[0m\u001b[0;34m\u001b[0m\u001b[0m\n\u001b[0;32m--> 317\u001b[0;31m                    output_keys=output_keys)\n\u001b[0m\u001b[1;32m    318\u001b[0m     \u001b[0;32mreturn\u001b[0m \u001b[0mfn\u001b[0m\u001b[0;34m\u001b[0m\u001b[0;34m\u001b[0m\u001b[0m\n",
      "\u001b[0;32m/home/spanashis/anaconda2/envs/py36/lib/python3.6/site-packages/theano/compile/pfunc.py\u001b[0m in \u001b[0;36mpfunc\u001b[0;34m(params, outputs, mode, updates, givens, no_default_updates, accept_inplace, name, rebuild_strict, allow_input_downcast, profile, on_unused_input, output_keys)\u001b[0m\n\u001b[1;32m    484\u001b[0m                          \u001b[0maccept_inplace\u001b[0m\u001b[0;34m=\u001b[0m\u001b[0maccept_inplace\u001b[0m\u001b[0;34m,\u001b[0m \u001b[0mname\u001b[0m\u001b[0;34m=\u001b[0m\u001b[0mname\u001b[0m\u001b[0;34m,\u001b[0m\u001b[0;34m\u001b[0m\u001b[0;34m\u001b[0m\u001b[0m\n\u001b[1;32m    485\u001b[0m                          \u001b[0mprofile\u001b[0m\u001b[0;34m=\u001b[0m\u001b[0mprofile\u001b[0m\u001b[0;34m,\u001b[0m \u001b[0mon_unused_input\u001b[0m\u001b[0;34m=\u001b[0m\u001b[0mon_unused_input\u001b[0m\u001b[0;34m,\u001b[0m\u001b[0;34m\u001b[0m\u001b[0;34m\u001b[0m\u001b[0m\n\u001b[0;32m--> 486\u001b[0;31m                          output_keys=output_keys)\n\u001b[0m\u001b[1;32m    487\u001b[0m \u001b[0;34m\u001b[0m\u001b[0m\n\u001b[1;32m    488\u001b[0m \u001b[0;34m\u001b[0m\u001b[0m\n",
      "\u001b[0;32m/home/spanashis/anaconda2/envs/py36/lib/python3.6/site-packages/theano/compile/function_module.py\u001b[0m in \u001b[0;36morig_function\u001b[0;34m(inputs, outputs, mode, accept_inplace, name, profile, on_unused_input, output_keys)\u001b[0m\n\u001b[1;32m   1837\u001b[0m                   \u001b[0mon_unused_input\u001b[0m\u001b[0;34m=\u001b[0m\u001b[0mon_unused_input\u001b[0m\u001b[0;34m,\u001b[0m\u001b[0;34m\u001b[0m\u001b[0;34m\u001b[0m\u001b[0m\n\u001b[1;32m   1838\u001b[0m                   \u001b[0moutput_keys\u001b[0m\u001b[0;34m=\u001b[0m\u001b[0moutput_keys\u001b[0m\u001b[0;34m,\u001b[0m\u001b[0;34m\u001b[0m\u001b[0;34m\u001b[0m\u001b[0m\n\u001b[0;32m-> 1839\u001b[0;31m                   name=name)\n\u001b[0m\u001b[1;32m   1840\u001b[0m         \u001b[0;32mwith\u001b[0m \u001b[0mtheano\u001b[0m\u001b[0;34m.\u001b[0m\u001b[0mchange_flags\u001b[0m\u001b[0;34m(\u001b[0m\u001b[0mcompute_test_value\u001b[0m\u001b[0;34m=\u001b[0m\u001b[0;34m\"off\"\u001b[0m\u001b[0;34m)\u001b[0m\u001b[0;34m:\u001b[0m\u001b[0;34m\u001b[0m\u001b[0;34m\u001b[0m\u001b[0m\n\u001b[1;32m   1841\u001b[0m             \u001b[0mfn\u001b[0m \u001b[0;34m=\u001b[0m \u001b[0mm\u001b[0m\u001b[0;34m.\u001b[0m\u001b[0mcreate\u001b[0m\u001b[0;34m(\u001b[0m\u001b[0mdefaults\u001b[0m\u001b[0;34m)\u001b[0m\u001b[0;34m\u001b[0m\u001b[0;34m\u001b[0m\u001b[0m\n",
      "\u001b[0;32m/home/spanashis/anaconda2/envs/py36/lib/python3.6/site-packages/theano/compile/function_module.py\u001b[0m in \u001b[0;36m__init__\u001b[0;34m(self, inputs, outputs, mode, accept_inplace, function_builder, profile, on_unused_input, fgraph, output_keys, name)\u001b[0m\n\u001b[1;32m   1485\u001b[0m             \u001b[0;31m# OUTPUT VARIABLES)\u001b[0m\u001b[0;34m\u001b[0m\u001b[0;34m\u001b[0m\u001b[0;34m\u001b[0m\u001b[0m\n\u001b[1;32m   1486\u001b[0m             fgraph, additional_outputs = std_fgraph(inputs, outputs,\n\u001b[0;32m-> 1487\u001b[0;31m                                                     accept_inplace)\n\u001b[0m\u001b[1;32m   1488\u001b[0m             \u001b[0mfgraph\u001b[0m\u001b[0;34m.\u001b[0m\u001b[0mprofile\u001b[0m \u001b[0;34m=\u001b[0m \u001b[0mprofile\u001b[0m\u001b[0;34m\u001b[0m\u001b[0;34m\u001b[0m\u001b[0m\n\u001b[1;32m   1489\u001b[0m         \u001b[0;32melse\u001b[0m\u001b[0;34m:\u001b[0m\u001b[0;34m\u001b[0m\u001b[0;34m\u001b[0m\u001b[0m\n",
      "\u001b[0;32m/home/spanashis/anaconda2/envs/py36/lib/python3.6/site-packages/theano/compile/function_module.py\u001b[0m in \u001b[0;36mstd_fgraph\u001b[0;34m(input_specs, output_specs, accept_inplace)\u001b[0m\n\u001b[1;32m    179\u001b[0m \u001b[0;34m\u001b[0m\u001b[0m\n\u001b[1;32m    180\u001b[0m     fgraph = gof.fg.FunctionGraph(orig_inputs, orig_outputs,\n\u001b[0;32m--> 181\u001b[0;31m                                   update_mapping=update_mapping)\n\u001b[0m\u001b[1;32m    182\u001b[0m \u001b[0;34m\u001b[0m\u001b[0m\n\u001b[1;32m    183\u001b[0m     \u001b[0;32mfor\u001b[0m \u001b[0mnode\u001b[0m \u001b[0;32min\u001b[0m \u001b[0mfgraph\u001b[0m\u001b[0;34m.\u001b[0m\u001b[0mapply_nodes\u001b[0m\u001b[0;34m:\u001b[0m\u001b[0;34m\u001b[0m\u001b[0;34m\u001b[0m\u001b[0m\n",
      "\u001b[0;32m/home/spanashis/anaconda2/envs/py36/lib/python3.6/site-packages/theano/gof/fg.py\u001b[0m in \u001b[0;36m__init__\u001b[0;34m(self, inputs, outputs, features, clone, update_mapping)\u001b[0m\n\u001b[1;32m    173\u001b[0m \u001b[0;34m\u001b[0m\u001b[0m\n\u001b[1;32m    174\u001b[0m         \u001b[0;32mfor\u001b[0m \u001b[0moutput\u001b[0m \u001b[0;32min\u001b[0m \u001b[0moutputs\u001b[0m\u001b[0;34m:\u001b[0m\u001b[0;34m\u001b[0m\u001b[0;34m\u001b[0m\u001b[0m\n\u001b[0;32m--> 175\u001b[0;31m             \u001b[0mself\u001b[0m\u001b[0;34m.\u001b[0m\u001b[0m__import_r__\u001b[0m\u001b[0;34m(\u001b[0m\u001b[0moutput\u001b[0m\u001b[0;34m,\u001b[0m \u001b[0mreason\u001b[0m\u001b[0;34m=\u001b[0m\u001b[0;34m\"init\"\u001b[0m\u001b[0;34m)\u001b[0m\u001b[0;34m\u001b[0m\u001b[0;34m\u001b[0m\u001b[0m\n\u001b[0m\u001b[1;32m    176\u001b[0m         \u001b[0;32mfor\u001b[0m \u001b[0mi\u001b[0m\u001b[0;34m,\u001b[0m \u001b[0moutput\u001b[0m \u001b[0;32min\u001b[0m \u001b[0menumerate\u001b[0m\u001b[0;34m(\u001b[0m\u001b[0moutputs\u001b[0m\u001b[0;34m)\u001b[0m\u001b[0;34m:\u001b[0m\u001b[0;34m\u001b[0m\u001b[0;34m\u001b[0m\u001b[0m\n\u001b[1;32m    177\u001b[0m             \u001b[0moutput\u001b[0m\u001b[0;34m.\u001b[0m\u001b[0mclients\u001b[0m\u001b[0;34m.\u001b[0m\u001b[0mappend\u001b[0m\u001b[0;34m(\u001b[0m\u001b[0;34m(\u001b[0m\u001b[0;34m'output'\u001b[0m\u001b[0;34m,\u001b[0m \u001b[0mi\u001b[0m\u001b[0;34m)\u001b[0m\u001b[0;34m)\u001b[0m\u001b[0;34m\u001b[0m\u001b[0;34m\u001b[0m\u001b[0m\n",
      "\u001b[0;32m/home/spanashis/anaconda2/envs/py36/lib/python3.6/site-packages/theano/gof/fg.py\u001b[0m in \u001b[0;36m__import_r__\u001b[0;34m(self, variable, reason)\u001b[0m\n\u001b[1;32m    344\u001b[0m         \u001b[0;31m# Imports the owners of the variables\u001b[0m\u001b[0;34m\u001b[0m\u001b[0;34m\u001b[0m\u001b[0;34m\u001b[0m\u001b[0m\n\u001b[1;32m    345\u001b[0m         \u001b[0;32mif\u001b[0m \u001b[0mvariable\u001b[0m\u001b[0;34m.\u001b[0m\u001b[0mowner\u001b[0m \u001b[0;32mand\u001b[0m \u001b[0mvariable\u001b[0m\u001b[0;34m.\u001b[0m\u001b[0mowner\u001b[0m \u001b[0;32mnot\u001b[0m \u001b[0;32min\u001b[0m \u001b[0mself\u001b[0m\u001b[0;34m.\u001b[0m\u001b[0mapply_nodes\u001b[0m\u001b[0;34m:\u001b[0m\u001b[0;34m\u001b[0m\u001b[0;34m\u001b[0m\u001b[0m\n\u001b[0;32m--> 346\u001b[0;31m                 \u001b[0mself\u001b[0m\u001b[0;34m.\u001b[0m\u001b[0m__import__\u001b[0m\u001b[0;34m(\u001b[0m\u001b[0mvariable\u001b[0m\u001b[0;34m.\u001b[0m\u001b[0mowner\u001b[0m\u001b[0;34m,\u001b[0m \u001b[0mreason\u001b[0m\u001b[0;34m=\u001b[0m\u001b[0mreason\u001b[0m\u001b[0;34m)\u001b[0m\u001b[0;34m\u001b[0m\u001b[0;34m\u001b[0m\u001b[0m\n\u001b[0m\u001b[1;32m    347\u001b[0m         elif (variable.owner is None and\n\u001b[1;32m    348\u001b[0m                 \u001b[0;32mnot\u001b[0m \u001b[0misinstance\u001b[0m\u001b[0;34m(\u001b[0m\u001b[0mvariable\u001b[0m\u001b[0;34m,\u001b[0m \u001b[0mgraph\u001b[0m\u001b[0;34m.\u001b[0m\u001b[0mConstant\u001b[0m\u001b[0;34m)\u001b[0m \u001b[0;32mand\u001b[0m\u001b[0;34m\u001b[0m\u001b[0;34m\u001b[0m\u001b[0m\n",
      "\u001b[0;32m/home/spanashis/anaconda2/envs/py36/lib/python3.6/site-packages/theano/gof/fg.py\u001b[0m in \u001b[0;36m__import__\u001b[0;34m(self, apply_node, check, reason)\u001b[0m\n\u001b[1;32m    389\u001b[0m                                      \u001b[0;34m\"for more information on this error.\"\u001b[0m\u001b[0;34m\u001b[0m\u001b[0;34m\u001b[0m\u001b[0m\n\u001b[1;32m    390\u001b[0m                                      % (node.inputs.index(r), str(node)))\n\u001b[0;32m--> 391\u001b[0;31m                         \u001b[0;32mraise\u001b[0m \u001b[0mMissingInputError\u001b[0m\u001b[0;34m(\u001b[0m\u001b[0merror_msg\u001b[0m\u001b[0;34m,\u001b[0m \u001b[0mvariable\u001b[0m\u001b[0;34m=\u001b[0m\u001b[0mr\u001b[0m\u001b[0;34m)\u001b[0m\u001b[0;34m\u001b[0m\u001b[0;34m\u001b[0m\u001b[0m\n\u001b[0m\u001b[1;32m    392\u001b[0m \u001b[0;34m\u001b[0m\u001b[0m\n\u001b[1;32m    393\u001b[0m         \u001b[0;32mfor\u001b[0m \u001b[0mnode\u001b[0m \u001b[0;32min\u001b[0m \u001b[0mnew_nodes\u001b[0m\u001b[0;34m:\u001b[0m\u001b[0;34m\u001b[0m\u001b[0;34m\u001b[0m\u001b[0m\n",
      "\u001b[0;31mMissingInputError\u001b[0m: Input 1 of the graph (indices start from 0), used to compute dot(TensorConstant{[[-2.94410..4557e-02]]}, beta), was not provided and not given a value. Use the Theano flag exception_verbosity='high', for more information on this error."
     ]
    }
   ],
   "source": [
    "nn = 2000\n",
    "with pm.Model() as testmodel:\n",
    "    # Weights of the features have a laplace prior which is the same as l1 when minimising the loss function\n",
    "    beta = pm.Normal('beta', 0.0, sd=3.0, shape=21)\n",
    "    likelihood = pm.Bernoulli('likelihood', logit_p= tt.dot(covariates,beta) , observed=observed_labels)\n",
    "    y_obs = pm.Bernoulli(\"Y_obs\",logit_p=y_hat,observed = observed_labels)\n",
    "    pm.sample(nn,step=pm.NUTS())"
   ]
  },
  {
   "cell_type": "code",
   "execution_count": 135,
   "metadata": {},
   "outputs": [
    {
     "name": "stdout",
     "output_type": "stream",
     "text": [
      "beta -13.862943611198906\n",
      "intercept -0.6931471805599453\n",
      "Y_obs -11895.098765591549\n"
     ]
    }
   ],
   "source": [
    "for RV in bay.basic_RVs:\n",
    "    print(RV.name, RV.logp(bay.test_point))"
   ]
  },
  {
   "cell_type": "markdown",
   "metadata": {
    "heading_collapsed": true
   },
   "source": [
    "## Random Forrest"
   ]
  },
  {
   "cell_type": "code",
   "execution_count": 353,
   "metadata": {
    "hidden": true
   },
   "outputs": [],
   "source": [
    "def rfr_model(X, y):\n",
    "# Perform Grid-Search\n",
    "    gsc = GridSearchCV(\n",
    "        estimator=RandomForestClassifier(),\n",
    "        param_grid={\n",
    "            'max_depth': range(3,7),\n",
    "            'n_estimators': (500, 1000,2000,3000),\n",
    "        },\n",
    "        cv=10, scoring = [\"roc_auc\",\"f1_weighted\"], verbose=1, n_jobs=2,refit = \"roc_auc\",return_train_score = False)\n",
    "    \n",
    "    grid_result = gsc.fit(X, y)\n",
    "    best_params = grid_result.best_params_\n",
    "    \n",
    "    #rfr = RandomForestRegressor(max_depth=best_params[\"max_depth\"], n_estimators=best_params[\"n_estimators\"],random_state=False, verbose=False)\n",
    "# Perform K-Fold CV\n",
    "    #scores = cross_val_score(rfr, X, y, cv=10, scoring='neg_mean_absolute_error')\n",
    "\n",
    "    return best_params,grid_result"
   ]
  },
  {
   "cell_type": "code",
   "execution_count": 354,
   "metadata": {
    "hidden": true
   },
   "outputs": [
    {
     "name": "stdout",
     "output_type": "stream",
     "text": [
      "Fitting 10 folds for each of 16 candidates, totalling 160 fits\n"
     ]
    },
    {
     "name": "stderr",
     "output_type": "stream",
     "text": [
      "[Parallel(n_jobs=2)]: Using backend LokyBackend with 2 concurrent workers.\n",
      "[Parallel(n_jobs=2)]: Done  46 tasks      | elapsed:   52.8s\n",
      "[Parallel(n_jobs=2)]: Done 160 out of 160 | elapsed:  5.4min finished\n",
      "/home/spanashis/anaconda2/envs/py36/lib/python3.6/site-packages/sklearn/model_selection/_search.py:841: DeprecationWarning: The default of the `iid` parameter will change from True to False in version 0.22 and will be removed in 0.24. This will change numeric results when test-set sizes are unequal.\n",
      "  DeprecationWarning)\n"
     ]
    }
   ],
   "source": [
    "bestpar,grid =rfr_model(X_train,y_train.bool)"
   ]
  },
  {
   "cell_type": "code",
   "execution_count": 357,
   "metadata": {
    "hidden": true,
    "scrolled": true
   },
   "outputs": [
    {
     "name": "stderr",
     "output_type": "stream",
     "text": [
      "/home/spanashis/anaconda2/envs/py36/lib/python3.6/site-packages/seaborn/axisgrid.py:230: UserWarning: The `size` paramter has been renamed to `height`; please update your code.\n",
      "  warnings.warn(msg, UserWarning)\n"
     ]
    },
    {
     "data": {
      "text/plain": [
       "<seaborn.axisgrid.FacetGrid at 0x7f34a0db86d8>"
      ]
     },
     "execution_count": 357,
     "metadata": {},
     "output_type": "execute_result"
    },
    {
     "data": {
      "image/png": "[encoded data removed]",
      "text/plain": [
       "<Figure size 432x288 with 1 Axes>"
      ]
     },
     "metadata": {},
     "output_type": "display_data"
    },
    {
     "data": {
      "image/png": "[encoded data removed]",
      "text/plain": [
       "<Figure size 360x360 with 1 Axes>"
      ]
     },
     "metadata": {},
     "output_type": "display_data"
    }
   ],
   "source": [
    "%matplotlib inline\n",
    "sns.set()\n",
    "gridpd =pd.DataFrame(grid.cv_results_)\n",
    "#gridpd.columns\n",
    "sns.pointplot(x=\"param_max_depth\",y= \"mean_test_roc_auc\", palette=[\"red\",\"blue\",\"orange\",\"brown\"],hue=\"param_n_estimators\",\n",
    "             data=gridpd,dodge = True,ci =\"sd\")\n",
    "#plt.ylim(0.987,1.001)\n",
    "#plt.errorbar(data=gridpd,x = \"param_max_depth\",y= \"mean_test_roc_auc\",yerr=\"std_test_roc_auc\")\n",
    "g = sns.FacetGrid(gridpd, palette=[\"red\",\"blue\",\"orange\"],hue=\"param_n_estimators\"\n",
    ", size=5)\n",
    "g.map(plt.errorbar, \"param_max_depth\",\"mean_test_roc_auc\", \"std_test_roc_auc\", marker=\"o\")"
   ]
  },
  {
   "cell_type": "code",
   "execution_count": 213,
   "metadata": {
    "collapsed": true,
    "hidden": true
   },
   "outputs": [
    {
     "name": "stderr",
     "output_type": "stream",
     "text": [
      "[Parallel(n_jobs=1)]: Using backend SequentialBackend with 1 concurrent workers.\n",
      "[Parallel(n_jobs=1)]: Done 10000 out of 10000 | elapsed:    4.4s finished\n",
      "[Parallel(n_jobs=1)]: Using backend SequentialBackend with 1 concurrent workers.\n",
      "[Parallel(n_jobs=1)]: Done 10000 out of 10000 | elapsed:    0.9s finished\n"
     ]
    },
    {
     "data": {
      "text/plain": [
       "0.9393939393939394"
      ]
     },
     "execution_count": 213,
     "metadata": {},
     "output_type": "execute_result"
    }
   ],
   "source": [
    "rfr =RandomForestClassifier(max_depth=None, n_estimators=10000,random_state=True, verbose=True)\n",
    "rfr.fit(X_train,y_train)\n",
    "rfr.score(X_test,y_test)"
   ]
  },
  {
   "cell_type": "markdown",
   "metadata": {
    "hidden": true
   },
   "source": [
    "Random forest with 10000 trees, max depth set to None and random_state set to True produces an accuracy of 93%, which is equivalent to that of the logistic regression with the saga solver."
   ]
  },
  {
   "cell_type": "code",
   "execution_count": 215,
   "metadata": {
    "hidden": true
   },
   "outputs": [
    {
     "name": "stderr",
     "output_type": "stream",
     "text": [
      "[Parallel(n_jobs=1)]: Using backend SequentialBackend with 1 concurrent workers.\n",
      "[Parallel(n_jobs=1)]: Done 10000 out of 10000 | elapsed:    4.4s finished\n",
      "[Parallel(n_jobs=1)]: Using backend SequentialBackend with 1 concurrent workers.\n",
      "[Parallel(n_jobs=1)]: Done 10000 out of 10000 | elapsed:    0.7s finished\n"
     ]
    },
    {
     "data": {
      "text/plain": [
       "0.9696969696969697"
      ]
     },
     "execution_count": 215,
     "metadata": {},
     "output_type": "execute_result"
    }
   ],
   "source": [
    "rfr.fit(Xn_train,y_train)\n",
    "rfr.score(Xn_test,y_test)"
   ]
  },
  {
   "cell_type": "markdown",
   "metadata": {
    "hidden": true
   },
   "source": [
    "Using the nmds axis we get an accuracy of 96.7% (which is a single mistake!)"
   ]
  },
  {
   "cell_type": "code",
   "execution_count": 204,
   "metadata": {
    "hidden": true
   },
   "outputs": [
    {
     "name": "stderr",
     "output_type": "stream",
     "text": [
      "[Parallel(n_jobs=1)]: Using backend SequentialBackend with 1 concurrent workers.\n",
      "[Parallel(n_jobs=1)]: Done 500 out of 500 | elapsed:    0.1s finished\n"
     ]
    },
    {
     "data": {
      "text/plain": [
       "0.9090909090909091"
      ]
     },
     "execution_count": 204,
     "metadata": {},
     "output_type": "execute_result"
    }
   ],
   "source": [
    "sum(rfr.predict(X_test) == y_test)/y_test.size"
   ]
  },
  {
   "cell_type": "code",
   "execution_count": 274,
   "metadata": {
    "hidden": true
   },
   "outputs": [
    {
     "name": "stderr",
     "output_type": "stream",
     "text": [
      "[Parallel(n_jobs=1)]: Using backend SequentialBackend with 1 concurrent workers.\n",
      "[Parallel(n_jobs=1)]: Done 10000 out of 10000 | elapsed:    5.1s finished\n",
      "[Parallel(n_jobs=1)]: Using backend SequentialBackend with 1 concurrent workers.\n",
      "[Parallel(n_jobs=1)]: Done 10000 out of 10000 | elapsed:    0.7s finished\n",
      "[Parallel(n_jobs=1)]: Using backend SequentialBackend with 1 concurrent workers.\n",
      "[Parallel(n_jobs=1)]: Done 10000 out of 10000 | elapsed:    5.3s finished\n",
      "[Parallel(n_jobs=1)]: Using backend SequentialBackend with 1 concurrent workers.\n",
      "[Parallel(n_jobs=1)]: Done 10000 out of 10000 | elapsed:    1.1s finished\n",
      "[Parallel(n_jobs=1)]: Using backend SequentialBackend with 1 concurrent workers.\n",
      "[Parallel(n_jobs=1)]: Done 10000 out of 10000 | elapsed:    5.8s finished\n",
      "[Parallel(n_jobs=1)]: Using backend SequentialBackend with 1 concurrent workers.\n",
      "[Parallel(n_jobs=1)]: Done 10000 out of 10000 | elapsed:    1.2s finished\n",
      "[Parallel(n_jobs=1)]: Using backend SequentialBackend with 1 concurrent workers.\n",
      "[Parallel(n_jobs=1)]: Done 10000 out of 10000 | elapsed:    4.5s finished\n",
      "[Parallel(n_jobs=1)]: Using backend SequentialBackend with 1 concurrent workers.\n",
      "[Parallel(n_jobs=1)]: Done 10000 out of 10000 | elapsed:    0.8s finished\n",
      "[Parallel(n_jobs=1)]: Using backend SequentialBackend with 1 concurrent workers.\n",
      "[Parallel(n_jobs=1)]: Done 10000 out of 10000 | elapsed:    4.9s finished\n",
      "[Parallel(n_jobs=1)]: Using backend SequentialBackend with 1 concurrent workers.\n",
      "[Parallel(n_jobs=1)]: Done 10000 out of 10000 | elapsed:    0.7s finished\n",
      "[Parallel(n_jobs=1)]: Using backend SequentialBackend with 1 concurrent workers.\n",
      "[Parallel(n_jobs=1)]: Done 10000 out of 10000 | elapsed:    4.5s finished\n",
      "[Parallel(n_jobs=1)]: Using backend SequentialBackend with 1 concurrent workers.\n",
      "[Parallel(n_jobs=1)]: Done 10000 out of 10000 | elapsed:    0.7s finished\n",
      "[Parallel(n_jobs=1)]: Using backend SequentialBackend with 1 concurrent workers.\n",
      "[Parallel(n_jobs=1)]: Done 10000 out of 10000 | elapsed:    4.6s finished\n",
      "[Parallel(n_jobs=1)]: Using backend SequentialBackend with 1 concurrent workers.\n",
      "[Parallel(n_jobs=1)]: Done 10000 out of 10000 | elapsed:    0.7s finished\n",
      "[Parallel(n_jobs=1)]: Using backend SequentialBackend with 1 concurrent workers.\n",
      "[Parallel(n_jobs=1)]: Done 10000 out of 10000 | elapsed:    4.6s finished\n",
      "[Parallel(n_jobs=1)]: Using backend SequentialBackend with 1 concurrent workers.\n",
      "[Parallel(n_jobs=1)]: Done 10000 out of 10000 | elapsed:    0.7s finished\n",
      "[Parallel(n_jobs=1)]: Using backend SequentialBackend with 1 concurrent workers.\n",
      "[Parallel(n_jobs=1)]: Done 10000 out of 10000 | elapsed:    4.4s finished\n",
      "[Parallel(n_jobs=1)]: Using backend SequentialBackend with 1 concurrent workers.\n",
      "[Parallel(n_jobs=1)]: Done 10000 out of 10000 | elapsed:    0.8s finished\n",
      "[Parallel(n_jobs=1)]: Using backend SequentialBackend with 1 concurrent workers.\n",
      "[Parallel(n_jobs=1)]: Done 10000 out of 10000 | elapsed:    4.6s finished\n",
      "[Parallel(n_jobs=1)]: Using backend SequentialBackend with 1 concurrent workers.\n",
      "[Parallel(n_jobs=1)]: Done 10000 out of 10000 | elapsed:    0.8s finished\n"
     ]
    }
   ],
   "source": [
    "crossrfr =cross_val_score(rfr,otudf,y=wwfdf.Water,cv=10)"
   ]
  }
 ],
 "metadata": {
  "kernelspec": {
   "display_name": "Python [conda env:py36]",
   "language": "python",
   "name": "conda-env-py36-py"
  },
  "language_info": {
   "codemirror_mode": {
    "name": "ipython",
    "version": 3
   },
   "file_extension": ".py",
   "mimetype": "text/x-python",
   "name": "python",
   "nbconvert_exporter": "python",
   "pygments_lexer": "ipython3",
   "version": "3.6.8"
  }
 },
 "nbformat": 4,
 "nbformat_minor": 2
}
